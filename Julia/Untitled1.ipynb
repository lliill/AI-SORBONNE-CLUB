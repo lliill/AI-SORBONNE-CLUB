{
 "cells": [
  {
   "cell_type": "code",
   "execution_count": 1,
   "metadata": {},
   "outputs": [],
   "source": [
    "using ReverseDiff"
   ]
  },
  {
   "cell_type": "code",
   "execution_count": 2,
   "metadata": {},
   "outputs": [
    {
     "data": {
      "text/plain": [
       "F (generic function with 3 methods)"
      ]
     },
     "execution_count": 2,
     "metadata": {},
     "output_type": "execute_result"
    }
   ],
   "source": [
    "function F(x, u, h = 0.01, d = 4) \n",
    "    x, y, theta, v = x\n",
    "    w, a = u\n",
    "    \n",
    "    f = h*v\n",
    "    b = f*cos(w) + d - sqrt(d^2 - f^2 * sin(w)^2)\n",
    "\n",
    "    x = x + b*cos(theta)\n",
    "    y = y + b*sin(theta)\n",
    "    theta = theta + asin(sin(w) * f/d)\n",
    "    v = v + h*a\n",
    "\n",
    "    return [x, y, theta, v]\n",
    "    \n",
    "end"
   ]
  },
  {
   "cell_type": "code",
   "execution_count": 26,
   "metadata": {},
   "outputs": [
    {
     "data": {
      "text/plain": [
       "z (generic function with 1 method)"
      ]
     },
     "execution_count": 26,
     "metadata": {},
     "output_type": "execute_result"
    }
   ],
   "source": [
    "z(x, p) = sqrt(x^2 + p^2) - p"
   ]
  },
  {
   "cell_type": "code",
   "execution_count": 30,
   "metadata": {
    "scrolled": true
   },
   "outputs": [
    {
     "data": {
      "text/plain": [
       "zz (generic function with 1 method)"
      ]
     },
     "execution_count": 30,
     "metadata": {},
     "output_type": "execute_result"
    }
   ],
   "source": [
    "zz(x) = z(x, 1)"
   ]
  },
  {
   "cell_type": "code",
   "execution_count": 31,
   "metadata": {},
   "outputs": [
    {
     "ename": "MethodError",
     "evalue": "MethodError: no method matching ReverseDiff.GradientConfig(::Int64)\nClosest candidates are:\n  ReverseDiff.GradientConfig(!Matched::AbstractArray{T,N} where N) where T at C:\\Users\\limen\\.julia\\packages\\ReverseDiff\\qmgw8\\src\\api\\Config.jl:35\n  ReverseDiff.GradientConfig(!Matched::AbstractArray{T,N} where N, !Matched::Array{ReverseDiff.AbstractInstruction,1}) where T at C:\\Users\\limen\\.julia\\packages\\ReverseDiff\\qmgw8\\src\\api\\Config.jl:35\n  ReverseDiff.GradientConfig(!Matched::Tuple) at C:\\Users\\limen\\.julia\\packages\\ReverseDiff\\qmgw8\\src\\api\\Config.jl:37\n  ...",
     "output_type": "error",
     "traceback": [
      "MethodError: no method matching ReverseDiff.GradientConfig(::Int64)\nClosest candidates are:\n  ReverseDiff.GradientConfig(!Matched::AbstractArray{T,N} where N) where T at C:\\Users\\limen\\.julia\\packages\\ReverseDiff\\qmgw8\\src\\api\\Config.jl:35\n  ReverseDiff.GradientConfig(!Matched::AbstractArray{T,N} where N, !Matched::Array{ReverseDiff.AbstractInstruction,1}) where T at C:\\Users\\limen\\.julia\\packages\\ReverseDiff\\qmgw8\\src\\api\\Config.jl:35\n  ReverseDiff.GradientConfig(!Matched::Tuple) at C:\\Users\\limen\\.julia\\packages\\ReverseDiff\\qmgw8\\src\\api\\Config.jl:37\n  ...",
      "",
      "Stacktrace:",
      " [1] gradient(::Function, ::Int64) at C:\\Users\\limen\\.julia\\packages\\ReverseDiff\\qmgw8\\src\\api\\gradients.jl:22",
      " [2] top-level scope at In[31]:1"
     ]
    }
   ],
   "source": [
    "ReverseDiff.gradient(zz, [1, 2, 3, 4])"
   ]
  },
  {
   "cell_type": "code",
   "execution_count": 33,
   "metadata": {
    "scrolled": true
   },
   "outputs": [
    {
     "data": {
      "text/plain": [
       "l (generic function with 1 method)"
      ]
     },
     "execution_count": 33,
     "metadata": {},
     "output_type": "execute_result"
    }
   ],
   "source": [
    "l(x) = z(x[1], 0.1) #+ z(x[2], 0.1)"
   ]
  },
  {
   "cell_type": "code",
   "execution_count": 48,
   "metadata": {},
   "outputs": [
    {
     "data": {
      "text/plain": [
       "l (generic function with 2 methods)"
      ]
     },
     "execution_count": 48,
     "metadata": {},
     "output_type": "execute_result"
    }
   ],
   "source": [
    "l(x) = sqrt(x[1])"
   ]
  },
  {
   "cell_type": "code",
   "execution_count": 27,
   "metadata": {},
   "outputs": [
    {
     "data": {
      "text/plain": [
       "1.809975124224178"
      ]
     },
     "execution_count": 27,
     "metadata": {},
     "output_type": "execute_result"
    }
   ],
   "source": [
    "l([1,1])"
   ]
  },
  {
   "cell_type": "code",
   "execution_count": 21,
   "metadata": {},
   "outputs": [
    {
     "data": {
      "text/plain": [
       "L (generic function with 5 methods)"
      ]
     },
     "execution_count": 21,
     "metadata": {},
     "output_type": "execute_result"
    }
   ],
   "source": [
    "function L(x, u = [0, 0], p = [0.1, 0.1, 0.01, 1] , c_w = 0.01, c_a = 0.0001)\n",
    "    w, a = u\n",
    "    p_x, p_y, p_theta, p_v = p\n",
    "    return 0.01(z(x[1], p_x) + z(x[2], p_y)) #+ c_w * w^2 + c_a * a^2\n",
    "end"
   ]
  },
  {
   "cell_type": "code",
   "execution_count": 50,
   "metadata": {},
   "outputs": [
    {
     "data": {
      "text/plain": [
       "Lf (generic function with 3 methods)"
      ]
     },
     "execution_count": 50,
     "metadata": {},
     "output_type": "execute_result"
    }
   ],
   "source": [
    "Lf(x, p = [0.1, 0.1, 0.01, 1], weight = 100000) =\n",
    "    weight * (z(x[1], p[1]) + z(x[2], p[2]) + z(x[3], p[3]) + z(x[4], p[4]))"
   ]
  },
  {
   "cell_type": "code",
   "execution_count": 51,
   "metadata": {},
   "outputs": [
    {
     "data": {
      "text/plain": [
       "892060.82938002"
      ]
     },
     "execution_count": 51,
     "metadata": {},
     "output_type": "execute_result"
    }
   ],
   "source": [
    "Lf([1, 2, 3, 4])"
   ]
  },
  {
   "cell_type": "code",
   "execution_count": 52,
   "metadata": {},
   "outputs": [
    {
     "ename": "InexactError",
     "evalue": "InexactError: Int64(Int64, 12126.781251816648)",
     "output_type": "error",
     "traceback": [
      "InexactError: Int64(Int64, 12126.781251816648)",
      "",
      "Stacktrace:",
      " [1] Type at .\\float.jl:700 [inlined]",
      " [2] convert at .\\number.jl:7 [inlined]",
      " [3] setproperty! at .\\sysimg.jl:19 [inlined]",
      " [4] increment_deriv! at C:\\Users\\limen\\.julia\\packages\\ReverseDiff\\qmgw8\\src\\derivatives\\propagation.jl:47 [inlined]",
      " [5] scalar_reverse_exec!(::ReverseDiff.ScalarInstruction{typeof(sqrt),ReverseDiff.TrackedReal{Float64,Int64,Nothing},ReverseDiff.TrackedReal{Float64,Int64,Nothing},Base.RefValue{Float64}}) at C:\\Users\\limen\\.julia\\packages\\ReverseDiff\\qmgw8\\src\\derivatives\\scalars.jl:53",
      " [6] reverse_exec!(::ReverseDiff.ScalarInstruction{typeof(sqrt),ReverseDiff.TrackedReal{Float64,Int64,Nothing},ReverseDiff.TrackedReal{Float64,Int64,Nothing},Base.RefValue{Float64}}) at C:\\Users\\limen\\.julia\\packages\\ReverseDiff\\qmgw8\\src\\tape.jl:92",
      " [7] reverse_pass!(::Array{ReverseDiff.AbstractInstruction,1}) at C:\\Users\\limen\\.julia\\packages\\ReverseDiff\\qmgw8\\src\\tape.jl:87",
      " [8] reverse_pass! at C:\\Users\\limen\\.julia\\packages\\ReverseDiff\\qmgw8\\src\\api\\tape.jl:36 [inlined]",
      " [9] seeded_reverse_pass!(::Array{Int64,1}, ::ReverseDiff.TrackedReal{Float64,Int64,Nothing}, ::ReverseDiff.TrackedArray{Int64,Int64,1,Array{Int64,1},Array{Int64,1}}, ::ReverseDiff.GradientTape{typeof(Lf),ReverseDiff.TrackedArray{Int64,Int64,1,Array{Int64,1},Array{Int64,1}},ReverseDiff.TrackedReal{Float64,Int64,Nothing}}) at C:\\Users\\limen\\.julia\\packages\\ReverseDiff\\qmgw8\\src\\api\\utils.jl:31",
      " [10] seeded_reverse_pass!(::Array{Int64,1}, ::ReverseDiff.GradientTape{typeof(Lf),ReverseDiff.TrackedArray{Int64,Int64,1,Array{Int64,1},Array{Int64,1}},ReverseDiff.TrackedReal{Float64,Int64,Nothing}}) at C:\\Users\\limen\\.julia\\packages\\ReverseDiff\\qmgw8\\src\\api\\tape.jl:47",
      " [11] gradient(::Function, ::Array{Int64,1}, ::ReverseDiff.GradientConfig{ReverseDiff.TrackedArray{Int64,Int64,1,Array{Int64,1},Array{Int64,1}}}) at C:\\Users\\limen\\.julia\\packages\\ReverseDiff\\qmgw8\\src\\api\\gradients.jl:24",
      " [12] gradient(::Function, ::Array{Int64,1}) at C:\\Users\\limen\\.julia\\packages\\ReverseDiff\\qmgw8\\src\\api\\gradients.jl:22",
      " [13] top-level scope at In[52]:1"
     ]
    }
   ],
   "source": [
    "ReverseDiff.gradient(Lf, [1, 2, 3, 4])"
   ]
  },
  {
   "cell_type": "code",
   "execution_count": null,
   "metadata": {},
   "outputs": [],
   "source": [
    "function j(U, x0 = [1, 1, 3/2 * pi, 0], N = 2)#total loss\n",
    "    X = [x0]\n",
    "#     for j in 1:N-1\n",
    "        push!(X, F(X[1], U[1:2]))\n",
    "#     end\n",
    "#     return sum([L(X[i], U[2i-1:2i]) for i in 1:N-1]) #+ Lf(X[N])\n",
    "    L(X[2], U)\n",
    "    \n",
    "end"
   ]
  }
 ],
 "metadata": {
  "kernelspec": {
   "display_name": "Julia 1.0.1",
   "language": "julia",
   "name": "julia-1.0"
  },
  "language_info": {
   "file_extension": ".jl",
   "mimetype": "application/julia",
   "name": "julia",
   "version": "1.0.1"
  }
 },
 "nbformat": 4,
 "nbformat_minor": 2
}
