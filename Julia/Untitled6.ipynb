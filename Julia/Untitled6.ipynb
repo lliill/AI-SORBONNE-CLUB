{
 "cells": [
  {
   "cell_type": "code",
   "execution_count": null,
   "metadata": {},
   "outputs": [],
   "source": []
  },
  {
   "cell_type": "code",
   "execution_count": 13,
   "metadata": {},
   "outputs": [
    {
     "name": "stderr",
     "output_type": "stream",
     "text": [
      "WARNING: replacing module DDP.\n",
      "WARNING: using DDP.LQR in module Main conflicts with an existing identifier.\n",
      "WARNING: using DDP.interface in module Main conflicts with an existing identifier.\n"
     ]
    },
    {
     "data": {
      "text/plain": [
       "4"
      ]
     },
     "execution_count": 13,
     "metadata": {},
     "output_type": "execute_result"
    }
   ],
   "source": [
    "# amelioration a faire: changement de type de U\n",
    "# generalisation du codes (ces codes sont restraintes au cas ou dim_control = 2)\n",
    "include(\"./DDP.jl\")\n",
    "\n",
    "using .DDP\n",
    "using ForwardDiff, DiffResults\n",
    "using LinearAlgebra\n",
    "\n",
    "const T = 1\n",
    "const N = 100\n",
    "const H = T/N\n",
    "\n",
    "const D = 4"
   ]
  },
  {
   "cell_type": "code",
   "execution_count": null,
   "metadata": {},
   "outputs": [],
   "source": [
    "const X1 = [1, 1, 3/2 * pi, 0]\n",
    "const P  = [0.1, 0.1, 0.01, 1]"
   ]
  },
  {
   "cell_type": "code",
   "execution_count": 1,
   "metadata": {},
   "outputs": [
    {
     "data": {
      "text/plain": [
       "Lf (generic function with 1 method)"
      ]
     },
     "execution_count": 1,
     "metadata": {},
     "output_type": "execute_result"
    }
   ],
   "source": [
    "const DIM_x = 4\n",
    "const DIM_u = 2\n",
    "const DIM = DIM_x + DIM_u\n",
    "\n",
    "const C_W = 0.01\n",
    "const C_A = 0.0001\n",
    "\n",
    "const WEIGHT = 10000\n",
    "\n",
    "car = LQR(X1, P, DIM_u, T, N)\n",
    "\n",
    "\"\"\"\n",
    "F(xu::Vector) -> x::Vector\n",
    "F(x, u) -> x::Vector\n",
    "Car dynamics function. xu is the states-controls variable.\n",
    "h is the time interval. d is the car length.\n",
    "\"\"\"\n",
    "function F(xu::Vector) \n",
    "    \n",
    "    x, y, theta, v, w, a = xu\n",
    "#     println(\"v = \", v)\n",
    "    f = H*v\n",
    "#     if (D^2 - f^2 * sin(w)^2) < 0\n",
    "#         println(\"v = \", v, \"f = \", f, \", f^2 = \", f^2, \", w = \", w, \", sin(w)^2 = \", sin(w)^2)\n",
    "#     end\n",
    "    b = f*cos(w) + D - sqrt(D^2 - f^2 * sin(w)^2)\n",
    "\n",
    "    x = x + b*cos(theta)\n",
    "    y = y + b*sin(theta)\n",
    "    theta = theta + asin(sin(w) * f/D)\n",
    "    v = v + H*a\n",
    "    \n",
    "    return [x, y, theta, v]\n",
    "    \n",
    "end\n",
    "\n",
    "function F(x, u) \n",
    "    x, y, theta, v = x\n",
    "    w, a = u\n",
    "    \n",
    "    f = H*v\n",
    "    b = f*cos(w) + D - sqrt(D^2 - f^2 * sin(w)^2)\n",
    "\n",
    "    x = x + b*cos(theta)\n",
    "    y = y + b*sin(theta)\n",
    "    theta = theta + asin(sin(w) * f/D)\n",
    "    v = v + H*a\n",
    "    \n",
    "    return [x, y, theta, v]\n",
    "    \n",
    "end\n",
    "\n",
    "function F(U::Array{Array{Float64,1},1})\n",
    "    x = X1\n",
    "    X = [X1]   \n",
    "    for i in 1:N-1\n",
    "        x = F(x, U[i])\n",
    "        push!(X, x)\n",
    "    end\n",
    "    return X\n",
    "end\n",
    "\n",
    "\n",
    "\n",
    "#---\n",
    "\n",
    "z(x, p) = sqrt(x^2 + p^2) - p\n",
    "\n",
    "function L(x_u)\n",
    "    x, y, theta, v, w, a = x_u\n",
    "    p_x, p_y, p_theta, p_v = P\n",
    "    0.01(z(x, p_x) + z(y, p_y)) + C_W * w^2 + C_A * a^2\n",
    "end\n",
    "\n",
    "Lf(x) =\n",
    "    WEIGHT * (z(x[1], P[1]) + z(x[2], P[2]) + z(x[3], P[3]) + z(x[4], P[4]))"
   ]
  },
  {
   "cell_type": "code",
   "execution_count": 2,
   "metadata": {},
   "outputs": [
    {
     "data": {
      "text/plain": [
       "LQR([1.0, 1.0, 4.71239, 0.0], [0.1, 0.1, 0.01, 1.0], 4, 2, 6, 1, 100, Main.DDP.Trajectory(Array{Float64,1}[[1.0, 1.0, 4.71239, 0.0], [1.0, 1.0, 4.71239, 0.0], [1.0, 1.0, 4.71239, 0.0], [1.0, 1.0, 4.71239, 0.0], [1.0, 1.0, 4.71239, 0.0], [1.0, 1.0, 4.71239, 0.0], [1.0, 1.0, 4.71239, 0.0], [1.0, 1.0, 4.71239, 0.0], [1.0, 1.0, 4.71239, 0.0], [1.0, 1.0, 4.71239, 0.0]  …  [1.0, 1.0, 4.71239, 0.0], [1.0, 1.0, 4.71239, 0.0], [1.0, 1.0, 4.71239, 0.0], [1.0, 1.0, 4.71239, 0.0], [1.0, 1.0, 4.71239, 0.0], [1.0, 1.0, 4.71239, 0.0], [1.0, 1.0, 4.71239, 0.0], [1.0, 1.0, 4.71239, 0.0], [1.0, 1.0, 4.71239, 0.0], [1.0, 1.0, 4.71239, 0.0]], Array{Float64,1}[[0.0, 0.0], [0.0, 0.0], [0.0, 0.0], [0.0, 0.0], [0.0, 0.0], [0.0, 0.0], [0.0, 0.0], [0.0, 0.0], [0.0, 0.0], [0.0, 0.0]  …  [0.0, 0.0], [0.0, 0.0], [0.0, 0.0], [0.0, 0.0], [0.0, 0.0], [0.0, 0.0], [0.0, 0.0], [0.0, 0.0], [0.0, 0.0], [0.0, 0.0]]))"
      ]
     },
     "execution_count": 2,
     "metadata": {},
     "output_type": "execute_result"
    }
   ],
   "source": [
    "car = LQR(X1, P, DIM_u, T, N)"
   ]
  },
  {
   "cell_type": "code",
   "execution_count": 10,
   "metadata": {
    "scrolled": true
   },
   "outputs": [
    {
     "data": {
      "text/plain": [
       "4"
      ]
     },
     "execution_count": 10,
     "metadata": {},
     "output_type": "execute_result"
    }
   ],
   "source": [
    "size(car.X1)[1]"
   ]
  },
  {
   "cell_type": "code",
   "execution_count": 4,
   "metadata": {
    "scrolled": true
   },
   "outputs": [
    {
     "data": {
      "text/plain": [
       "(getfield(Main.DDP, Symbol(\"#J#15\")){Int64,getfield(Main.DDP, Symbol(\"#j#13\")){typeof(F),typeof(L),Array{Float64,1}},getfield(Main.DDP, Symbol(\"#jf#14\")){typeof(F),typeof(Lf),Int64,Array{Float64,1}}}(100, getfield(Main.DDP, Symbol(\"#j#13\")){typeof(F),typeof(L),Array{Float64,1}}(F, L, [1.0, 1.0, 4.71239, 0.0]), getfield(Main.DDP, Symbol(\"#jf#14\")){typeof(F),typeof(Lf),Int64,Array{Float64,1}}(F, Lf, 100, [1.0, 1.0, 4.71239, 0.0]), Core.Box(getfield(Main.DDP, Symbol(\"#J#15\")){Int64,getfield(Main.DDP, Symbol(\"#j#13\")){typeof(F),typeof(L),Array{Float64,1}},getfield(Main.DDP, Symbol(\"#jf#14\")){typeof(F),typeof(Lf),Int64,Array{Float64,1}}}(#= circular reference @-2 =#))), getfield(Main.DDP, Symbol(\"#go!#20\")){typeof(F),Int64,Int64,Int64,getfield(Main.DDP, Symbol(\"#dF#10\")){typeof(F)},getfield(Main.DDP, Symbol(\"#diffs_L#11\")){typeof(L)},getfield(Main.DDP, Symbol(\"#diffs_Lf#12\")){typeof(Lf)}}(F, 100, 4, 6, getfield(Main.DDP, Symbol(\"#dF#10\")){typeof(F)}(F), getfield(Main.DDP, Symbol(\"#diffs_L#11\")){typeof(L)}(L), getfield(Main.DDP, Symbol(\"#diffs_Lf#12\")){typeof(Lf)}(Lf), Core.Box(getfield(Main.DDP, Symbol(\"#line_search_J#19\")){getfield(Main.DDP, Symbol(\"##line_search_J#6#17\"))}(getfield(Main.DDP, Symbol(\"##line_search_J#6#17\"))(Core.Box(getfield(Main.DDP, Symbol(\"#J#15\")){Int64,getfield(Main.DDP, Symbol(\"#j#13\")){typeof(F),typeof(L),Array{Float64,1}},getfield(Main.DDP, Symbol(\"#jf#14\")){typeof(F),typeof(Lf),Int64,Array{Float64,1}}}(100, getfield(Main.DDP, Symbol(\"#j#13\")){typeof(F),typeof(L),Array{Float64,1}}(F, L, [1.0, 1.0, 4.71239, 0.0]), getfield(Main.DDP, Symbol(\"#jf#14\")){typeof(F),typeof(Lf),Int64,Array{Float64,1}}(F, Lf, 100, [1.0, 1.0, 4.71239, 0.0]), Core.Box(#= circular reference @-2 =#))))))))"
      ]
     },
     "execution_count": 4,
     "metadata": {},
     "output_type": "execute_result"
    }
   ],
   "source": [
    "J, go! = interface(car, F, L, Lf)"
   ]
  },
  {
   "cell_type": "code",
   "execution_count": null,
   "metadata": {},
   "outputs": [],
   "source": []
  },
  {
   "cell_type": "code",
   "execution_count": 12,
   "metadata": {
    "scrolled": true
   },
   "outputs": [
    {
     "name": "stdout",
     "output_type": "stream",
     "text": [
      "1.52587890625e-5\n",
      "[1.0, 0.99035, 4.71239, 8.43165e-7]\n"
     ]
    },
    {
     "ename": "DomainError",
     "evalue": "DomainError with -2.903833201538604e21:\nsqrt will only return a complex result if called with a complex argument. Try sqrt(Complex(x)).",
     "output_type": "error",
     "traceback": [
      "DomainError with -2.903833201538604e21:\nsqrt will only return a complex result if called with a complex argument. Try sqrt(Complex(x)).",
      "",
      "Stacktrace:",
      " [1] throw_complex_domainerror(::Symbol, ::Float64) at .\\math.jl:31",
      " [2] sqrt at .\\math.jl:492 [inlined]",
      " [3] F(::Array{Float64,1}) at .\\In[1]:43",
      " [4] (::getfield(Main.DDP, Symbol(\"#j#13\")){typeof(F),typeof(L),Array{Float64,1}})(::Array{Float64,1}, ::Int64) at C:\\Users\\limen\\AI-SORBONNE-CLUB\\Julia\\DDP.jl:77",
      " [5] iterate at .\\none:0 [inlined]",
      " [6] mapfoldl_impl(::typeof(identity), ::typeof(Base.add_sum), ::NamedTuple{(:init,),Tuple{Float64}}, ::Base.Generator{UnitRange{Int64},getfield(Main.DDP, Symbol(\"##5#16\")){Array{Float64,1},getfield(Main.DDP, Symbol(\"#j#13\")){typeof(F),typeof(L),Array{Float64,1}}}}, ::Int64) at .\\reduce.jl:47",
      " [7] (::getfield(Main.DDP, Symbol(\"#J#15\")){Int64,getfield(Main.DDP, Symbol(\"#j#13\")){typeof(F),typeof(L),Array{Float64,1}},getfield(Main.DDP, Symbol(\"#jf#14\")){typeof(F),typeof(Lf),Int64,Array{Float64,1}}})(::Array{Float64,1}) at .\\reduce.jl:61",
      " [8] (::getfield(Main.DDP, Symbol(\"#J#15\")){Int64,getfield(Main.DDP, Symbol(\"#j#13\")){typeof(F),typeof(L),Array{Float64,1}},getfield(Main.DDP, Symbol(\"#jf#14\")){typeof(F),typeof(Lf),Int64,Array{Float64,1}}})(::Array{Array{Float64,1},1}) at C:\\Users\\limen\\AI-SORBONNE-CLUB\\Julia\\DDP.jl:95",
      " [9] (::getfield(Main.DDP, Symbol(\"##line_search_J#6#17\")))(::Float64, ::Float64, ::Int64, ::Function, ::Array{Array{Float64,1},1}, ::Array{Array{Float64,1},1}) at C:\\Users\\limen\\AI-SORBONNE-CLUB\\Julia\\DDP.jl:109",
      " [10] (::getfield(Main.DDP, Symbol(\"#line_search_J#19\")){getfield(Main.DDP, Symbol(\"##line_search_J#6#17\"))})(::Array{Array{Float64,1},1}, ::Array{Array{Float64,1},1}) at C:\\Users\\limen\\AI-SORBONNE-CLUB\\Julia\\DDP.jl:101",
      " [11] (::getfield(Main.DDP, Symbol(\"#go!#20\")){typeof(F),Int64,Int64,Int64,getfield(Main.DDP, Symbol(\"#dF#10\")){typeof(F)},getfield(Main.DDP, Symbol(\"#diffs_L#11\")){typeof(L)},getfield(Main.DDP, Symbol(\"#diffs_Lf#12\")){typeof(Lf)}})(::Main.DDP.Trajectory) at C:\\Users\\limen\\AI-SORBONNE-CLUB\\Julia\\DDP.jl:167",
      " [12] top-level scope at .\\In[12]:2"
     ]
    }
   ],
   "source": [
    "for _ in 1:100\n",
    "    go!(car.path)\n",
    "end"
   ]
  },
  {
   "cell_type": "code",
   "execution_count": 8,
   "metadata": {},
   "outputs": [],
   "source": [
    "using ForwardDiff, DiffResults"
   ]
  },
  {
   "cell_type": "code",
   "execution_count": 3,
   "metadata": {},
   "outputs": [
    {
     "data": {
      "text/plain": [
       "Lf (generic function with 1 method)"
      ]
     },
     "execution_count": 3,
     "metadata": {},
     "output_type": "execute_result"
    }
   ],
   "source": [
    "z(x, p) = sqrt(x^2 + p^2) - p\n",
    "\n",
    "function L(x_u)\n",
    "    x, y, theta, v, w, a = x_u\n",
    "    p_x, p_y, p_theta, p_v = P\n",
    "    0.01(z(x, p_x) + z(y, p_y)) + C_W * w^2 + C_A * a^2\n",
    "end\n",
    "\n",
    "Lf(x) =\n",
    "    WEIGHT * (z(x[1], P[1]) + z(x[2], P[2]) + z(x[3], P[3]) + z(x[4], P[4]))"
   ]
  },
  {
   "cell_type": "code",
   "execution_count": 4,
   "metadata": {},
   "outputs": [
    {
     "data": {
      "text/plain": [
       "1"
      ]
     },
     "execution_count": 4,
     "metadata": {},
     "output_type": "execute_result"
    }
   ],
   "source": [
    "const T = 1\n",
    "const N = 100\n",
    "const H = T/N\n",
    "\n",
    "const D = 4\n",
    "\n",
    "const X1 = [1, 1, 3/2 * pi, 0]\n",
    "const P  = [0.1, 0.1, 0.01, 1]\n",
    "\n",
    "const DIM_x = 4\n",
    "const DIM_u = 2\n",
    "const DIM = DIM_x + DIM_u\n",
    "\n",
    "const C_W = 0.01\n",
    "const C_A = 0.0001\n",
    "\n",
    "const WEIGHT = 1"
   ]
  },
  {
   "cell_type": "code",
   "execution_count": 5,
   "metadata": {},
   "outputs": [
    {
     "data": {
      "text/plain": [
       "LQR([1.0, 1.0, 4.71239, 0.0], [0.1, 0.1, 0.01, 1.0], 2, 1, 100, Main.DDP.Trajectory(Array{Float64,1}[[1.0, 1.0, 4.71239, 0.0], [1.0, 1.0, 4.71239, 0.0], [1.0, 1.0, 4.71239, 0.0], [1.0, 1.0, 4.71239, 0.0], [1.0, 1.0, 4.71239, 0.0], [1.0, 1.0, 4.71239, 0.0], [1.0, 1.0, 4.71239, 0.0], [1.0, 1.0, 4.71239, 0.0], [1.0, 1.0, 4.71239, 0.0], [1.0, 1.0, 4.71239, 0.0]  …  [1.0, 1.0, 4.71239, 0.0], [1.0, 1.0, 4.71239, 0.0], [1.0, 1.0, 4.71239, 0.0], [1.0, 1.0, 4.71239, 0.0], [1.0, 1.0, 4.71239, 0.0], [1.0, 1.0, 4.71239, 0.0], [1.0, 1.0, 4.71239, 0.0], [1.0, 1.0, 4.71239, 0.0], [1.0, 1.0, 4.71239, 0.0], [1.0, 1.0, 4.71239, 0.0]], Array{Float64,1}[[0.0, 0.0], [0.0, 0.0], [0.0, 0.0], [0.0, 0.0], [0.0, 0.0], [0.0, 0.0], [0.0, 0.0], [0.0, 0.0], [0.0, 0.0], [0.0, 0.0]  …  [0.0, 0.0], [0.0, 0.0], [0.0, 0.0], [0.0, 0.0], [0.0, 0.0], [0.0, 0.0], [0.0, 0.0], [0.0, 0.0], [0.0, 0.0], [0.0, 0.0]]))"
      ]
     },
     "execution_count": 5,
     "metadata": {},
     "output_type": "execute_result"
    }
   ],
   "source": [
    "car = LQR(X1, P, DIM_u, T, N)"
   ]
  },
  {
   "cell_type": "code",
   "execution_count": 6,
   "metadata": {},
   "outputs": [
    {
     "ename": "UndefVarError",
     "evalue": "UndefVarError: N not defined",
     "output_type": "error",
     "traceback": [
      "UndefVarError: N not defined",
      "",
      "Stacktrace:",
      " [1] J(::Array{Float64,1}) at C:\\Users\\limen\\AI-SORBONNE-CLUB\\Julia\\DDP.jl:59",
      " [2] J(::Array{Array{Float64,1},1}) at C:\\Users\\limen\\AI-SORBONNE-CLUB\\Julia\\DDP.jl:60",
      " [3] top-level scope at In[6]:1"
     ]
    }
   ],
   "source": [
    "J(car.path.U)"
   ]
  },
  {
   "cell_type": "code",
   "execution_count": null,
   "metadata": {},
   "outputs": [],
   "source": []
  }
 ],
 "metadata": {
  "kernelspec": {
   "display_name": "Julia 1.1.0",
   "language": "julia",
   "name": "julia-1.1"
  },
  "language_info": {
   "file_extension": ".jl",
   "mimetype": "application/julia",
   "name": "julia",
   "version": "1.1.0"
  }
 },
 "nbformat": 4,
 "nbformat_minor": 2
}
