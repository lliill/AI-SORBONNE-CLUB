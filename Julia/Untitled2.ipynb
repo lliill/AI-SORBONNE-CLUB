{
 "cells": [
  {
   "cell_type": "code",
   "execution_count": 1,
   "metadata": {},
   "outputs": [],
   "source": [
    "using ForwardDiff"
   ]
  },
  {
   "cell_type": "code",
   "execution_count": 2,
   "metadata": {},
   "outputs": [
    {
     "data": {
      "text/plain": [
       "F (generic function with 3 methods)"
      ]
     },
     "execution_count": 2,
     "metadata": {},
     "output_type": "execute_result"
    }
   ],
   "source": [
    "function F(xu::Vector, h = 0.01, d = 4) \n",
    "    x, y, theta, v, w, a = xu\n",
    "#     w, a = u\n",
    "    \n",
    "    f = h*v\n",
    "    b = f*cos(w) + d - sqrt(d^2 - f^2 * sin(w)^2)\n",
    "\n",
    "    x = x + b*cos(theta)\n",
    "    y = y + b*sin(theta)\n",
    "    theta = theta + asin(sin(w) * f/d)\n",
    "    v = v + h*a\n",
    "    \n",
    "    return [x, y, theta, v]\n",
    "    \n",
    "end"
   ]
  },
  {
   "cell_type": "code",
   "execution_count": 3,
   "metadata": {},
   "outputs": [
    {
     "data": {
      "text/plain": [
       "z (generic function with 1 method)"
      ]
     },
     "execution_count": 3,
     "metadata": {},
     "output_type": "execute_result"
    }
   ],
   "source": [
    "z(x, p) = sqrt(x^2 + p^2) - p"
   ]
  },
  {
   "cell_type": "code",
   "execution_count": 4,
   "metadata": {},
   "outputs": [
    {
     "data": {
      "text/plain": [
       "L (generic function with 4 methods)"
      ]
     },
     "execution_count": 4,
     "metadata": {},
     "output_type": "execute_result"
    }
   ],
   "source": [
    "function L(x_u, p = [0.1, 0.1, 0.01, 1] , c_w = 0.01, c_a = 0.0001)\n",
    "    x, y, theta, v, w, a = x_u\n",
    "    p_x, p_y, p_theta, p_v = p\n",
    "    0.01(z(x, p_x) + z(y, p_y)) + c_w * w^2 + c_a * a^2\n",
    "end"
   ]
  },
  {
   "cell_type": "code",
   "execution_count": 37,
   "metadata": {},
   "outputs": [
    {
     "data": {
      "text/plain": [
       "Lf (generic function with 3 methods)"
      ]
     },
     "execution_count": 37,
     "metadata": {},
     "output_type": "execute_result"
    }
   ],
   "source": [
    "Lf(x, p = [0.1, 0.1, 0.01, 1], weight = 100000) =\n",
    "    weight * (z(x[1], p[1]) + z(x[2], p[2]) + z(x[3], p[3]) + z(x[4], p[4]))"
   ]
  },
  {
   "cell_type": "code",
   "execution_count": 38,
   "metadata": {},
   "outputs": [
    {
     "data": {
      "text/plain": [
       "4-element Array{Float64,1}:\n",
       " 99503.71902099892\n",
       " 99875.23388778446\n",
       " 99999.44444907403\n",
       " 97014.25001453319"
      ]
     },
     "execution_count": 38,
     "metadata": {},
     "output_type": "execute_result"
    }
   ],
   "source": [
    "ForwardDiff.gradient(Lf, [1, 2, 3, 4])"
   ]
  },
  {
   "cell_type": "code",
   "execution_count": 21,
   "metadata": {},
   "outputs": [
    {
     "data": {
      "text/plain": [
       "j (generic function with 3 methods)"
      ]
     },
     "execution_count": 21,
     "metadata": {},
     "output_type": "execute_result"
    }
   ],
   "source": [
    "function j(U, x0 = [1, 1, 3/2 * pi, 0], N = 5)#total loss\n",
    "    x = x0\n",
    "    for i in 1:N\n",
    "        x = F(vcat(x0, U[2i-1:2i]))\n",
    "    end \n",
    "    L(vcat(x, U[2N:2N+1]))\n",
    "#         L(vcat(F(vcat(x0, U)), U))\n",
    "    \n",
    "end"
   ]
  },
  {
   "cell_type": "code",
   "execution_count": 31,
   "metadata": {},
   "outputs": [
    {
     "data": {
      "text/plain": [
       "j (generic function with 3 methods)"
      ]
     },
     "execution_count": 31,
     "metadata": {},
     "output_type": "execute_result"
    }
   ],
   "source": [
    "function j(U, x0 = [1, 1, 3/2 * pi, 0]; N = 0)# loss of (x_N, u_N)\n",
    "    x = x0\n",
    "    for i in 1:N\n",
    "        x = F(vcat(x0, U[2i-1:2i]))\n",
    "    end \n",
    "    L(vcat(x, U[2N+1:2N+2]))\n",
    "#         L(vcat(F(vcat(x0, U)), U))\n",
    "    \n",
    "end"
   ]
  },
  {
   "cell_type": "code",
   "execution_count": 39,
   "metadata": {},
   "outputs": [
    {
     "data": {
      "text/plain": [
       "jf (generic function with 2 methods)"
      ]
     },
     "execution_count": 39,
     "metadata": {},
     "output_type": "execute_result"
    }
   ],
   "source": [
    "function jf(U, x0 = [1, 1, 3/2 * pi, 0]; N = 100)\n",
    "    x = x0\n",
    "    for i in 1:N\n",
    "        x = F(vcat(x0, U[2i-1:2i]))\n",
    "    end\n",
    "    Lf(x)\n",
    "end"
   ]
  },
  {
   "cell_type": "code",
   "execution_count": 40,
   "metadata": {},
   "outputs": [
    {
     "data": {
      "text/plain": [
       "774844.2692426252"
      ]
     },
     "execution_count": 40,
     "metadata": {},
     "output_type": "execute_result"
    }
   ],
   "source": [
    "jf(1:200)"
   ]
  },
  {
   "cell_type": "code",
   "execution_count": 34,
   "metadata": {},
   "outputs": [
    {
     "name": "stdout",
     "output_type": "stream",
     "text": [
      "0\n",
      "1\n"
     ]
    }
   ],
   "source": [
    "for i in 0:1\n",
    "    println(i)\n",
    "end"
   ]
  },
  {
   "cell_type": "code",
   "execution_count": 41,
   "metadata": {},
   "outputs": [
    {
     "data": {
      "text/plain": [
       "J (generic function with 1 method)"
      ]
     },
     "execution_count": 41,
     "metadata": {},
     "output_type": "execute_result"
    }
   ],
   "source": [
    "J(U; N = 100) = sum(j(U, N = i) for i in 0:N-1) + jf(U; N = N)"
   ]
  },
  {
   "cell_type": "code",
   "execution_count": 42,
   "metadata": {},
   "outputs": [
    {
     "data": {
      "text/plain": [
       "200-element Array{Float64,1}:\n",
       "   0.02                 \n",
       "   0.0004               \n",
       "   0.06                 \n",
       "   0.0008               \n",
       "   0.1                  \n",
       "   0.0012000000000000001\n",
       "   0.14                 \n",
       "   0.0016               \n",
       "   0.18                 \n",
       "   0.002                \n",
       "   0.22                 \n",
       "   0.0024000000000000002\n",
       "   0.26                 \n",
       "   ⋮                    \n",
       "   3.7800000000000002   \n",
       "   0.038                \n",
       "   3.8200000000000003   \n",
       "   0.038400000000000004 \n",
       "   3.86                 \n",
       "   0.0388               \n",
       "   3.9                  \n",
       "   0.0392               \n",
       "   3.94                 \n",
       "   0.0396               \n",
       "   3.98                 \n",
       " 894.4671909999159      "
      ]
     },
     "execution_count": 42,
     "metadata": {},
     "output_type": "execute_result"
    }
   ],
   "source": [
    "ForwardDiff.gradient(J, 1:200)"
   ]
  },
  {
   "cell_type": "code",
   "execution_count": 36,
   "metadata": {},
   "outputs": [
    {
     "data": {
      "text/plain": [
       "12-element Array{Float64,1}:\n",
       " 0.02                 \n",
       " 0.0004               \n",
       " 0.06                 \n",
       " 0.0008               \n",
       " 0.1                  \n",
       " 0.0012000000000000001\n",
       " 0.14                 \n",
       " 0.0016               \n",
       " 0.18                 \n",
       " 0.002                \n",
       " 0.22                 \n",
       " 0.0024000000000000002"
      ]
     },
     "execution_count": 36,
     "metadata": {},
     "output_type": "execute_result"
    }
   ],
   "source": [
    "ForwardDiff.gradient(J, 1:12)"
   ]
  },
  {
   "cell_type": "code",
   "execution_count": null,
   "metadata": {},
   "outputs": [],
   "source": []
  }
 ],
 "metadata": {
  "kernelspec": {
   "display_name": "Julia 1.0.1",
   "language": "julia",
   "name": "julia-1.0"
  },
  "language_info": {
   "file_extension": ".jl",
   "mimetype": "application/julia",
   "name": "julia",
   "version": "1.0.1"
  }
 },
 "nbformat": 4,
 "nbformat_minor": 2
}
