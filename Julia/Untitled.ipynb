{
 "cells": [
  {
   "cell_type": "code",
   "execution_count": 1,
   "metadata": {},
   "outputs": [
    {
     "data": {
      "text/plain": [
       "2-element Array{Int64,1}:\n",
       " 1\n",
       " 1"
      ]
     },
     "execution_count": 1,
     "metadata": {},
     "output_type": "execute_result"
    }
   ],
   "source": [
    "[1,1]"
   ]
  },
  {
   "cell_type": "code",
   "execution_count": 1,
   "metadata": {},
   "outputs": [
    {
     "data": {
      "text/plain": [
       "DDP"
      ]
     },
     "execution_count": 1,
     "metadata": {},
     "output_type": "execute_result"
    }
   ],
   "source": [
    "\"\"\"\n",
    "DDP problem settings.\n",
    "# Arguments\n",
    "- `T :: Int64`: the time.\n",
    "- `N :: Int64`: the discretization of time.\n",
    "- `x0 \n",
    "-\n",
    "...\n",
    "\"\"\"\n",
    "struct DDP\n",
    "    T :: Int64\n",
    "    N :: Int64\n",
    "    x0 :: Array{Float64, 1}\n",
    "    p :: Array{Float64, 1}\n",
    "    \n",
    "    DDP(T, N, x0, p) = \n",
    "        size(x0) != size(p) ? \n",
    "        error(\"x0 and p must have the same size\") :\n",
    "        new(T, N, x0, p)\n",
    "    \n",
    "end"
   ]
  },
  {
   "cell_type": "code",
   "execution_count": 6,
   "metadata": {},
   "outputs": [],
   "source": [
    "using ReverseDiff"
   ]
  },
  {
   "cell_type": "code",
   "execution_count": 9,
   "metadata": {},
   "outputs": [
    {
     "data": {
      "text/plain": [
       "F (generic function with 3 methods)"
      ]
     },
     "execution_count": 9,
     "metadata": {},
     "output_type": "execute_result"
    }
   ],
   "source": [
    "function F(x, u, h = 0.01, d = 4) \n",
    "    x, y, theta, v = x\n",
    "    w, a = u\n",
    "    \n",
    "    f = h*v\n",
    "    b = f*cos(w) + d - sqrt(d^2 - f^2 * sin(w)^2)\n",
    "\n",
    "    x = x + b*cos(theta)\n",
    "    y = y + b*sin(theta)\n",
    "    theta = theta + asin(sin(w) * f/d)\n",
    "    v = v + h*a\n",
    "\n",
    "    return [x, y, theta, v]\n",
    "    \n",
    "end"
   ]
  },
  {
   "cell_type": "code",
   "execution_count": 9,
   "metadata": {},
   "outputs": [
    {
     "data": {
      "text/plain": [
       "([1.0 0.0 0.0 -9.92519e-19; 0.0 1.0 0.0 -0.00540302; 0.0 0.0 1.0 0.00210368; 0.0 0.0 0.0 1.0], [0.0 0.0; 0.0 0.0; 0.0 0.0; 0.0 0.01])"
      ]
     },
     "execution_count": 9,
     "metadata": {},
     "output_type": "execute_result"
    }
   ],
   "source": [
    "a = ReverseDiff.jacobian(F, ([1, 1, 3/2 * pi, 0], [1, 1]))"
   ]
  },
  {
   "cell_type": "code",
   "execution_count": 11,
   "metadata": {},
   "outputs": [
    {
     "data": {
      "text/plain": [
       "Tuple{Array{Float64,2},Array{Float64,2}}"
      ]
     },
     "execution_count": 11,
     "metadata": {},
     "output_type": "execute_result"
    }
   ],
   "source": [
    "typeof(a)"
   ]
  },
  {
   "cell_type": "code",
   "execution_count": 12,
   "metadata": {},
   "outputs": [
    {
     "data": {
      "text/plain": [
       "4×4 Array{Float64,2}:\n",
       " 1.0  0.0  0.0  -9.92519e-19\n",
       " 0.0  1.0  0.0  -0.00540302 \n",
       " 0.0  0.0  1.0   0.00210368 \n",
       " 0.0  0.0  0.0   1.0        "
      ]
     },
     "execution_count": 12,
     "metadata": {},
     "output_type": "execute_result"
    }
   ],
   "source": [
    "a[1]"
   ]
  },
  {
   "cell_type": "code",
   "execution_count": 13,
   "metadata": {},
   "outputs": [
    {
     "data": {
      "text/plain": [
       "4×2 Array{Float64,2}:\n",
       " 0.0  0.0 \n",
       " 0.0  0.0 \n",
       " 0.0  0.0 \n",
       " 0.0  0.01"
      ]
     },
     "execution_count": 13,
     "metadata": {},
     "output_type": "execute_result"
    }
   ],
   "source": [
    "a[2]"
   ]
  },
  {
   "cell_type": "code",
   "execution_count": 14,
   "metadata": {},
   "outputs": [],
   "source": [
    "using ForwardDiff"
   ]
  },
  {
   "cell_type": "code",
   "execution_count": 15,
   "metadata": {},
   "outputs": [
    {
     "data": {
      "text/plain": [
       "F (generic function with 6 methods)"
      ]
     },
     "execution_count": 15,
     "metadata": {},
     "output_type": "execute_result"
    }
   ],
   "source": [
    "function F(xu::Vector, h = 0.01, d = 4) \n",
    "    x, y, theta, v, w, a = xu\n",
    "#     w, a = u\n",
    "    \n",
    "    f = h*v\n",
    "    b = f*cos(w) + d - sqrt(d^2 - f^2 * sin(w)^2)\n",
    "\n",
    "    x = x + b*cos(theta)\n",
    "    y = y + b*sin(theta)\n",
    "    theta = theta + asin(sin(w) * f/d)\n",
    "    v = v + h*a\n",
    "    \n",
    "    return [x, y, theta, v]\n",
    "    \n",
    "end"
   ]
  },
  {
   "cell_type": "code",
   "execution_count": 16,
   "metadata": {},
   "outputs": [
    {
     "data": {
      "text/plain": [
       "4×6 Array{Float64,2}:\n",
       " 1.0  0.0  0.0  -9.92519e-19  0.0  0.0 \n",
       " 0.0  1.0  0.0  -0.00540302   0.0  0.0 \n",
       " 0.0  0.0  1.0   0.00210368   0.0  0.0 \n",
       " 0.0  0.0  0.0   1.0          0.0  0.01"
      ]
     },
     "execution_count": 16,
     "metadata": {},
     "output_type": "execute_result"
    }
   ],
   "source": [
    "ForwardDiff.jacobian(F, [1, 1, 3/2 * pi, 0, 1, 1])"
   ]
  },
  {
   "cell_type": "code",
   "execution_count": 1,
   "metadata": {},
   "outputs": [],
   "source": [
    "using ForwardDiff"
   ]
  },
  {
   "cell_type": "code",
   "execution_count": 36,
   "metadata": {},
   "outputs": [],
   "source": [
    "g = xu -> ForwardDiff.jacobian(F, xu); # g = ∇f"
   ]
  },
  {
   "cell_type": "code",
   "execution_count": 16,
   "metadata": {},
   "outputs": [
    {
     "data": {
      "text/plain": [
       "4-element Array{Int64,1}:\n",
       " 1\n",
       " 2\n",
       " 3\n",
       " 4"
      ]
     },
     "execution_count": 16,
     "metadata": {},
     "output_type": "execute_result"
    }
   ],
   "source": [
    "Array(1:4)"
   ]
  },
  {
   "cell_type": "code",
   "execution_count": 37,
   "metadata": {
    "scrolled": false
   },
   "outputs": [
    {
     "data": {
      "text/plain": [
       "4×6 Array{Float64,2}:\n",
       " 1.0  0.0  -0.00162717  -0.00289927   -0.0378654   0.0 \n",
       " 0.0  1.0  -0.011415     0.000413281   0.00539758  0.0 \n",
       " 0.0  0.0   1.0         -0.00239742    0.00283675  0.0 \n",
       " 0.0  0.0   0.0          1.0           0.0         0.01"
      ]
     },
     "execution_count": 37,
     "metadata": {},
     "output_type": "execute_result"
    }
   ],
   "source": [
    "g(Array(1:6))"
   ]
  },
  {
   "cell_type": "code",
   "execution_count": null,
   "metadata": {},
   "outputs": [],
   "source": []
  },
  {
   "cell_type": "code",
   "execution_count": 39,
   "metadata": {},
   "outputs": [
    {
     "data": {
      "text/plain": [
       "IndexLinear()"
      ]
     },
     "execution_count": 39,
     "metadata": {},
     "output_type": "execute_result"
    }
   ],
   "source": [
    "Base.IndexStyle(typeof(U))"
   ]
  },
  {
   "cell_type": "code",
   "execution_count": 35,
   "metadata": {},
   "outputs": [
    {
     "data": {
      "text/plain": [
       "DenseArray{Array{Int64,1},1}"
      ]
     },
     "execution_count": 35,
     "metadata": {},
     "output_type": "execute_result"
    }
   ],
   "source": [
    "a = supertype(typeof(U))"
   ]
  },
  {
   "cell_type": "code",
   "execution_count": 37,
   "metadata": {},
   "outputs": [
    {
     "data": {
      "text/plain": [
       "AbstractArray{Array{Int64,1},1}"
      ]
     },
     "execution_count": 37,
     "metadata": {},
     "output_type": "execute_result"
    }
   ],
   "source": [
    "supertype(a)"
   ]
  },
  {
   "cell_type": "code",
   "execution_count": 34,
   "metadata": {},
   "outputs": [
    {
     "ename": "MethodError",
     "evalue": "MethodError: no method matching zero(::Type{Array{Int64,1}})\nClosest candidates are:\n  zero(!Matched::Type{LibGit2.GitHash}) at C:\\cygwin\\home\\Administrator\\buildbot\\worker\\package_win64\\build\\usr\\share\\julia\\stdlib\\v1.0\\LibGit2\\src\\oid.jl:220\n  zero(!Matched::Type{Pkg.Resolve.VersionWeights.VersionWeight}) at C:\\cygwin\\home\\Administrator\\buildbot\\worker\\package_win64\\build\\usr\\share\\julia\\stdlib\\v1.0\\Pkg\\src\\resolve\\VersionWeights.jl:19\n  zero(!Matched::Type{Pkg.Resolve.MaxSum.FieldValues.FieldValue}) at C:\\cygwin\\home\\Administrator\\buildbot\\worker\\package_win64\\build\\usr\\share\\julia\\stdlib\\v1.0\\Pkg\\src\\resolve\\FieldValues.jl:44\n  ...",
     "output_type": "error",
     "traceback": [
      "MethodError: no method matching zero(::Type{Array{Int64,1}})\nClosest candidates are:\n  zero(!Matched::Type{LibGit2.GitHash}) at C:\\cygwin\\home\\Administrator\\buildbot\\worker\\package_win64\\build\\usr\\share\\julia\\stdlib\\v1.0\\LibGit2\\src\\oid.jl:220\n  zero(!Matched::Type{Pkg.Resolve.VersionWeights.VersionWeight}) at C:\\cygwin\\home\\Administrator\\buildbot\\worker\\package_win64\\build\\usr\\share\\julia\\stdlib\\v1.0\\Pkg\\src\\resolve\\VersionWeights.jl:19\n  zero(!Matched::Type{Pkg.Resolve.MaxSum.FieldValues.FieldValue}) at C:\\cygwin\\home\\Administrator\\buildbot\\worker\\package_win64\\build\\usr\\share\\julia\\stdlib\\v1.0\\Pkg\\src\\resolve\\FieldValues.jl:44\n  ...",
      "",
      "Stacktrace:",
      " [1] track(::Array{Array{Int64,1},1}, ::Type{Array{Int64,1}}, ::Array{ReverseDiff.AbstractInstruction,1}) at C:\\Users\\limen\\.julia\\packages\\ReverseDiff\\qmgw8\\src\\tracked.jl:387",
      " [2] ReverseDiff.GradientConfig(::Array{Array{Int64,1},1}, ::Type{Array{Int64,1}}, ::Array{ReverseDiff.AbstractInstruction,1}) at C:\\Users\\limen\\.julia\\packages\\ReverseDiff\\qmgw8\\src\\api\\Config.jl:50",
      " [3] ReverseDiff.GradientConfig(::Array{Array{Int64,1},1}, ::Array{ReverseDiff.AbstractInstruction,1}) at C:\\Users\\limen\\.julia\\packages\\ReverseDiff\\qmgw8\\src\\api\\Config.jl:35 (repeats 2 times)",
      " [4] gradient(::Function, ::Array{Array{Int64,1},1}) at C:\\Users\\limen\\.julia\\packages\\ReverseDiff\\qmgw8\\src\\api\\gradients.jl:22",
      " [5] top-level scope at In[34]:1"
     ]
    }
   ],
   "source": [
    "ReverseDiff.gradient(aux, [[i,i] for i in 1:10])"
   ]
  },
  {
   "cell_type": "code",
   "execution_count": 17,
   "metadata": {},
   "outputs": [
    {
     "data": {
      "text/plain": [
       "z (generic function with 1 method)"
      ]
     },
     "execution_count": 17,
     "metadata": {},
     "output_type": "execute_result"
    }
   ],
   "source": [
    "z(x, p) = sqrt(x^2 + p^2) - p"
   ]
  },
  {
   "cell_type": "code",
   "execution_count": 18,
   "metadata": {},
   "outputs": [
    {
     "data": {
      "text/plain": [
       "Lf (generic function with 2 methods)"
      ]
     },
     "execution_count": 18,
     "metadata": {},
     "output_type": "execute_result"
    }
   ],
   "source": [
    "Lf(x, p, weight = 100000) =\n",
    "    weight * (z(x[1], p[1]) + z(x[2], p[2]) + z(x[3], p[3]) + z(x[4], p[4]))"
   ]
  },
  {
   "cell_type": "code",
   "execution_count": 19,
   "metadata": {},
   "outputs": [
    {
     "data": {
      "text/plain": [
       "L (generic function with 3 methods)"
      ]
     },
     "execution_count": 19,
     "metadata": {},
     "output_type": "execute_result"
    }
   ],
   "source": [
    "# L(x, p = [0.1, 0.1, 0.01, 1], c_w = 0.01, c_a = 0.0001) =\n",
    "#     0.01*(z(x[1], p[1]) + z(x[2], p[2])) + c_w * x[3]^2 + c_a * x[4]^2"
   ]
  },
  {
   "cell_type": "code",
   "execution_count": 10,
   "metadata": {},
   "outputs": [
    {
     "data": {
      "text/plain": [
       "L (generic function with 4 methods)"
      ]
     },
     "execution_count": 10,
     "metadata": {},
     "output_type": "execute_result"
    }
   ],
   "source": [
    "function L(x_u, p = [0.1, 0.1, 0.01, 1] , c_w = 0.01, c_a = 0.0001)\n",
    "    x, y, theta, v, w, a = x_u\n",
    "    p_x, p_y, p_theta, p_v = p\n",
    "    0.01(z(x, p_x) + z(y, p_y)) + c_w * w^2 + c_a * a^2\n",
    "end"
   ]
  },
  {
   "cell_type": "code",
   "execution_count": 40,
   "metadata": {},
   "outputs": [
    {
     "data": {
      "text/plain": [
       "J (generic function with 3 methods)"
      ]
     },
     "execution_count": 40,
     "metadata": {},
     "output_type": "execute_result"
    }
   ],
   "source": [
    "function J(U::Vector, x0 = [1, 1, 3/2 * pi, 0], N = 10)#total loss\n",
    "    X = [x0]\n",
    "    for j in 1:N-1\n",
    "        push!(X, F(X[j], U[2j-1:2j]))\n",
    "    end\n",
    "    return sum([L(X[i], U[2i-1:2i]) for i in 1:N-1]) #+ Lf(X[N])\n",
    "end"
   ]
  },
  {
   "cell_type": "code",
   "execution_count": 11,
   "metadata": {},
   "outputs": [
    {
     "data": {
      "text/plain": [
       "j (generic function with 3 methods)"
      ]
     },
     "execution_count": 11,
     "metadata": {},
     "output_type": "execute_result"
    }
   ],
   "source": [
    "function j(U, x0 = [1, 1, 3/2 * pi, 0], N = 2)#total loss\n",
    "    X = [x0]\n",
    "#     for j in 1:N-1\n",
    "        push!(X, F(X[1], U[1:2]))\n",
    "#     end\n",
    "#     return sum([L(X[i], U[2i-1:2i]) for i in 1:N-1]) #+ Lf(X[N])\n",
    "    L(X[2], U)\n",
    "    \n",
    "end"
   ]
  },
  {
   "cell_type": "code",
   "execution_count": 12,
   "metadata": {},
   "outputs": [
    {
     "ename": "InexactError",
     "evalue": "InexactError: Int64(Int64, 0.5403023058681398)",
     "output_type": "error",
     "traceback": [
      "InexactError: Int64(Int64, 0.5403023058681398)",
      "",
      "Stacktrace:",
      " [1] Type at .\\float.jl:700 [inlined]",
      " [2] convert at .\\number.jl:7 [inlined]",
      " [3] value! at C:\\Users\\limen\\.julia\\packages\\DiffResults\\FsQMZ\\src\\DiffResults.jl:171 [inlined]",
      " [4] extract_value! at C:\\Users\\limen\\.julia\\packages\\ForwardDiff\\N0wMF\\src\\apiutils.jl:5 [inlined]",
      " [5] derivative! at C:\\Users\\limen\\.julia\\packages\\ForwardDiff\\N0wMF\\src\\derivative.jl:47 [inlined]",
      " [6] ForwardOptimize at C:\\Users\\limen\\.julia\\packages\\ReverseDiff\\qmgw8\\src\\macros.jl:87 [inlined]",
      " [7] cos at C:\\Users\\limen\\.julia\\packages\\ReverseDiff\\qmgw8\\src\\derivatives\\scalars.jl:7 [inlined]",
      " [8] F(::Array{Float64,1}, ::ReverseDiff.TrackedArray{Int64,Int64,1,Array{Int64,1},Array{Int64,1}}, ::Float64, ::Int64) at .\\In[9]:6",
      " [9] F at .\\In[9]:2 [inlined]",
      " [10] j(::ReverseDiff.TrackedArray{Int64,Int64,1,Array{Int64,1},Array{Int64,1}}, ::Array{Float64,1}, ::Int64) at .\\In[11]:4",
      " [11] j at .\\In[11]:2 [inlined]",
      " [12] ReverseDiff.GradientTape(::typeof(j), ::Array{Int64,1}, ::ReverseDiff.GradientConfig{ReverseDiff.TrackedArray{Int64,Int64,1,Array{Int64,1},Array{Int64,1}}}) at C:\\Users\\limen\\.julia\\packages\\ReverseDiff\\qmgw8\\src\\api\\tape.jl:199",
      " [13] gradient(::Function, ::Array{Int64,1}, ::ReverseDiff.GradientConfig{ReverseDiff.TrackedArray{Int64,Int64,1,Array{Int64,1},Array{Int64,1}}}) at C:\\Users\\limen\\.julia\\packages\\ReverseDiff\\qmgw8\\src\\api\\gradients.jl:22 (repeats 2 times)",
      " [14] top-level scope at In[12]:1"
     ]
    }
   ],
   "source": [
    "ReverseDiff.gradient(j, [i for i in 1:2])"
   ]
  },
  {
   "cell_type": "code",
   "execution_count": 30,
   "metadata": {},
   "outputs": [
    {
     "data": {
      "text/plain": [
       "0.28167486001562164"
      ]
     },
     "execution_count": 30,
     "metadata": {},
     "output_type": "execute_result"
    }
   ],
   "source": [
    "L(1:6)"
   ]
  },
  {
   "cell_type": "code",
   "execution_count": 86,
   "metadata": {},
   "outputs": [
    {
     "data": {
      "text/plain": [
       "4-element Array{Float64,1}:\n",
       " 0.009950371902099893\n",
       " 0.009987523388778447\n",
       " 0.06                \n",
       " 0.0008              "
      ]
     },
     "execution_count": 86,
     "metadata": {},
     "output_type": "execute_result"
    }
   ],
   "source": [
    "ForwardDiff.gradient(L, 1:4)"
   ]
  },
  {
   "cell_type": "code",
   "execution_count": 68,
   "metadata": {},
   "outputs": [
    {
     "data": {
      "text/plain": [
       "1"
      ]
     },
     "execution_count": 68,
     "metadata": {},
     "output_type": "execute_result"
    }
   ],
   "source": [
    "j=1"
   ]
  },
  {
   "cell_type": "code",
   "execution_count": 69,
   "metadata": {},
   "outputs": [
    {
     "data": {
      "text/plain": [
       "2"
      ]
     },
     "execution_count": 69,
     "metadata": {},
     "output_type": "execute_result"
    }
   ],
   "source": [
    "X=2"
   ]
  },
  {
   "cell_type": "code",
   "execution_count": 70,
   "metadata": {},
   "outputs": [
    {
     "ename": "UndefVarError",
     "evalue": "UndefVarError: Xj not defined",
     "output_type": "error",
     "traceback": [
      "UndefVarError: Xj not defined",
      "",
      "Stacktrace:",
      " [1] top-level scope at In[70]:1"
     ]
    }
   ],
   "source": [
    "Xj"
   ]
  },
  {
   "cell_type": "code",
   "execution_count": 9,
   "metadata": {},
   "outputs": [
    {
     "data": {
      "text/plain": [
       "f (generic function with 3 methods)"
      ]
     },
     "execution_count": 9,
     "metadata": {},
     "output_type": "execute_result"
    }
   ],
   "source": [
    "function f(U::Vector, x0 = [1, 1, 3/2 * pi, 0], N = 5) \n",
    "#     x = x0\n",
    "#     for j in 1:N\n",
    "    x = F(x0, U)\n",
    "#     end\n",
    "    x\n",
    "end"
   ]
  },
  {
   "cell_type": "code",
   "execution_count": 3,
   "metadata": {},
   "outputs": [
    {
     "data": {
      "text/plain": [
       "f (generic function with 1 method)"
      ]
     },
     "execution_count": 3,
     "metadata": {},
     "output_type": "execute_result"
    }
   ],
   "source": [
    "f(u) = F([1, 1, 3/2 * pi, 0], u)"
   ]
  },
  {
   "cell_type": "code",
   "execution_count": 15,
   "metadata": {},
   "outputs": [
    {
     "data": {
      "text/plain": [
       "4-element Array{Float64,1}:\n",
       " 1.0             \n",
       " 1.0             \n",
       " 4.71238898038469\n",
       " 0.02            "
      ]
     },
     "execution_count": 15,
     "metadata": {},
     "output_type": "execute_result"
    }
   ],
   "source": [
    "f([1,2])"
   ]
  },
  {
   "cell_type": "code",
   "execution_count": 44,
   "metadata": {},
   "outputs": [
    {
     "data": {
      "text/plain": [
       "4-element Array{Float64,1}:\n",
       " 1.0             \n",
       " 1.0             \n",
       " 4.71238898038469\n",
       " 0.01            "
      ]
     },
     "execution_count": 44,
     "metadata": {},
     "output_type": "execute_result"
    }
   ],
   "source": [
    "F(vcat(x0, [1,1]))"
   ]
  },
  {
   "cell_type": "code",
   "execution_count": 48,
   "metadata": {},
   "outputs": [
    {
     "data": {
      "text/plain": [
       "4-element Array{Float64,1}:\n",
       " 0.9999997675441916 \n",
       " 1.000945174918594  \n",
       " 4.712655352968368  \n",
       " 0.30000000000000004"
      ]
     },
     "execution_count": 48,
     "metadata": {},
     "output_type": "execute_result"
    }
   ],
   "source": [
    "f([i for i in 1:20])"
   ]
  },
  {
   "cell_type": "code",
   "execution_count": 2,
   "metadata": {},
   "outputs": [],
   "source": [
    "using ForwardDiff"
   ]
  },
  {
   "cell_type": "code",
   "execution_count": 4,
   "metadata": {
    "scrolled": true
   },
   "outputs": [
    {
     "data": {
      "text/plain": [
       "#3 (generic function with 1 method)"
      ]
     },
     "execution_count": 4,
     "metadata": {},
     "output_type": "execute_result"
    }
   ],
   "source": [
    "j = U -> ForwardDiff.gradient(f, U)"
   ]
  },
  {
   "cell_type": "code",
   "execution_count": 5,
   "metadata": {},
   "outputs": [
    {
     "ename": "MethodError",
     "evalue": "MethodError: no method matching extract_gradient!(::Type{ForwardDiff.Tag{typeof(f),Int64}}, ::Array{Array{ForwardDiff.Dual{ForwardDiff.Tag{typeof(f),Int64},Float64,2},1},1}, ::Array{ForwardDiff.Dual{ForwardDiff.Tag{typeof(f),Int64},Float64,2},1})\nClosest candidates are:\n  extract_gradient!(::Type{T}, ::AbstractArray, !Matched::ForwardDiff.Dual) where T at C:\\Users\\limen\\.julia\\packages\\ForwardDiff\\N0wMF\\src\\gradient.jl:77\n  extract_gradient!(::Type{T}, ::AbstractArray, !Matched::Real) where T at C:\\Users\\limen\\.julia\\packages\\ForwardDiff\\N0wMF\\src\\gradient.jl:76\n  extract_gradient!(::Type{T}, !Matched::DiffResults.DiffResult, !Matched::ForwardDiff.Dual) where T at C:\\Users\\limen\\.julia\\packages\\ForwardDiff\\N0wMF\\src\\gradient.jl:71\n  ...",
     "output_type": "error",
     "traceback": [
      "MethodError: no method matching extract_gradient!(::Type{ForwardDiff.Tag{typeof(f),Int64}}, ::Array{Array{ForwardDiff.Dual{ForwardDiff.Tag{typeof(f),Int64},Float64,2},1},1}, ::Array{ForwardDiff.Dual{ForwardDiff.Tag{typeof(f),Int64},Float64,2},1})\nClosest candidates are:\n  extract_gradient!(::Type{T}, ::AbstractArray, !Matched::ForwardDiff.Dual) where T at C:\\Users\\limen\\.julia\\packages\\ForwardDiff\\N0wMF\\src\\gradient.jl:77\n  extract_gradient!(::Type{T}, ::AbstractArray, !Matched::Real) where T at C:\\Users\\limen\\.julia\\packages\\ForwardDiff\\N0wMF\\src\\gradient.jl:76\n  extract_gradient!(::Type{T}, !Matched::DiffResults.DiffResult, !Matched::ForwardDiff.Dual) where T at C:\\Users\\limen\\.julia\\packages\\ForwardDiff\\N0wMF\\src\\gradient.jl:71\n  ...",
      "",
      "Stacktrace:",
      " [1] vector_mode_gradient(::typeof(f), ::Array{Int64,1}, ::ForwardDiff.GradientConfig{ForwardDiff.Tag{typeof(f),Int64},Int64,2,Array{ForwardDiff.Dual{ForwardDiff.Tag{typeof(f),Int64},Int64,2},1}}) at C:\\Users\\limen\\.julia\\packages\\ForwardDiff\\N0wMF\\src\\gradient.jl:99",
      " [2] gradient(::Function, ::Array{Int64,1}, ::ForwardDiff.GradientConfig{ForwardDiff.Tag{typeof(f),Int64},Int64,2,Array{ForwardDiff.Dual{ForwardDiff.Tag{typeof(f),Int64},Int64,2},1}}, ::Val{true}) at C:\\Users\\limen\\.julia\\packages\\ForwardDiff\\N0wMF\\src\\gradient.jl:17",
      " [3] gradient(::Function, ::Array{Int64,1}, ::ForwardDiff.GradientConfig{ForwardDiff.Tag{typeof(f),Int64},Int64,2,Array{ForwardDiff.Dual{ForwardDiff.Tag{typeof(f),Int64},Int64,2},1}}) at C:\\Users\\limen\\.julia\\packages\\ForwardDiff\\N0wMF\\src\\gradient.jl:15 (repeats 2 times)",
      " [4] (::getfield(Main, Symbol(\"##3#4\")))(::Array{Int64,1}) at .\\In[4]:1",
      " [5] top-level scope at In[5]:1"
     ]
    }
   ],
   "source": [
    "j([i for i in 1:2])"
   ]
  },
  {
   "cell_type": "code",
   "execution_count": 20,
   "metadata": {},
   "outputs": [
    {
     "data": {
      "text/plain": [
       "J (generic function with 3 methods)"
      ]
     },
     "execution_count": 20,
     "metadata": {},
     "output_type": "execute_result"
    }
   ],
   "source": [
    "function J(U::Vector, x0 = [1, 1, 3/2 * pi, 0], N = 10)#total loss\n",
    "    X = [x0 for i in 1:10]\n",
    "    for j in 1:N-1\n",
    "        push!(X, F(X[j], U[2j-1:2j+1]))\n",
    "    end\n",
    "    return sum([L(X[i], U[2i-1:2i]) for i in 1:N-1]) #+ Lf(X[N])\n",
    "end"
   ]
  },
  {
   "cell_type": "code",
   "execution_count": 22,
   "metadata": {},
   "outputs": [
    {
     "ename": "MethodError",
     "evalue": "MethodError: no method matching J(::ReverseDiff.TrackedArray{Int64,Int64,1,Array{Int64,1},Array{Int64,1}})\nClosest candidates are:\n  J(!Matched::Array{T,1} where T) at In[20]:2\n  J(!Matched::Array{T,1} where T, !Matched::Any) at In[20]:2\n  J(!Matched::Array{T,1} where T, !Matched::Any, !Matched::Any) at In[20]:2",
     "output_type": "error",
     "traceback": [
      "MethodError: no method matching J(::ReverseDiff.TrackedArray{Int64,Int64,1,Array{Int64,1},Array{Int64,1}})\nClosest candidates are:\n  J(!Matched::Array{T,1} where T) at In[20]:2\n  J(!Matched::Array{T,1} where T, !Matched::Any) at In[20]:2\n  J(!Matched::Array{T,1} where T, !Matched::Any, !Matched::Any) at In[20]:2",
      "",
      "Stacktrace:",
      " [1] ReverseDiff.GradientTape(::typeof(J), ::Array{Int64,1}, ::ReverseDiff.GradientConfig{ReverseDiff.TrackedArray{Int64,Int64,1,Array{Int64,1},Array{Int64,1}}}) at C:\\Users\\limen\\.julia\\packages\\ReverseDiff\\qmgw8\\src\\api\\tape.jl:199",
      " [2] gradient(::Function, ::Array{Int64,1}, ::ReverseDiff.GradientConfig{ReverseDiff.TrackedArray{Int64,Int64,1,Array{Int64,1},Array{Int64,1}}}) at C:\\Users\\limen\\.julia\\packages\\ReverseDiff\\qmgw8\\src\\api\\gradients.jl:22 (repeats 2 times)",
      " [3] top-level scope at In[22]:1"
     ]
    }
   ],
   "source": [
    "ReverseDiff.gradient(J, [i for i in 1:20])"
   ]
  },
  {
   "cell_type": "code",
   "execution_count": 34,
   "metadata": {},
   "outputs": [
    {
     "data": {
      "text/plain": [
       "20-element Array{Int64,1}:\n",
       "  1\n",
       "  2\n",
       "  3\n",
       "  4\n",
       "  5\n",
       "  6\n",
       "  7\n",
       "  8\n",
       "  9\n",
       " 10\n",
       " 11\n",
       " 12\n",
       " 13\n",
       " 14\n",
       " 15\n",
       " 16\n",
       " 17\n",
       " 18\n",
       " 19\n",
       " 20"
      ]
     },
     "execution_count": 34,
     "metadata": {},
     "output_type": "execute_result"
    }
   ],
   "source": [
    "U = [i for i in 1:20]"
   ]
  },
  {
   "cell_type": "code",
   "execution_count": 24,
   "metadata": {},
   "outputs": [
    {
     "data": {
      "text/plain": [
       "4-element Array{Float64,1}:\n",
       " 1.0             \n",
       " 1.0             \n",
       " 4.71238898038469\n",
       " 0.0             "
      ]
     },
     "execution_count": 24,
     "metadata": {},
     "output_type": "execute_result"
    }
   ],
   "source": [
    "x0 = [1, 1, 3/2 * pi, 0]"
   ]
  },
  {
   "cell_type": "code",
   "execution_count": 26,
   "metadata": {},
   "outputs": [
    {
     "data": {
      "text/plain": [
       "10-element Array{Array{Float64,1},1}:\n",
       " [1.0, 1.0, 4.71239, 0.0]\n",
       " [1.0, 1.0, 4.71239, 0.0]\n",
       " [1.0, 1.0, 4.71239, 0.0]\n",
       " [1.0, 1.0, 4.71239, 0.0]\n",
       " [1.0, 1.0, 4.71239, 0.0]\n",
       " [1.0, 1.0, 4.71239, 0.0]\n",
       " [1.0, 1.0, 4.71239, 0.0]\n",
       " [1.0, 1.0, 4.71239, 0.0]\n",
       " [1.0, 1.0, 4.71239, 0.0]\n",
       " [1.0, 1.0, 4.71239, 0.0]"
      ]
     },
     "execution_count": 26,
     "metadata": {},
     "output_type": "execute_result"
    }
   ],
   "source": [
    "X = [x0 for i in 1:10]"
   ]
  },
  {
   "cell_type": "code",
   "execution_count": 27,
   "metadata": {},
   "outputs": [
    {
     "data": {
      "text/plain": [
       "4-element Array{Float64,1}:\n",
       " 1.0             \n",
       " 1.0             \n",
       " 4.71238898038469\n",
       " 0.0             "
      ]
     },
     "execution_count": 27,
     "metadata": {},
     "output_type": "execute_result"
    }
   ],
   "source": [
    "X[1]"
   ]
  },
  {
   "cell_type": "code",
   "execution_count": 23,
   "metadata": {},
   "outputs": [
    {
     "data": {
      "text/plain": [
       "6-element Array{Float64,1}:\n",
       " 1.0             \n",
       " 1.0             \n",
       " 4.71238898038469\n",
       " 0.0             \n",
       " 1.0             \n",
       " 2.0             "
      ]
     },
     "execution_count": 23,
     "metadata": {},
     "output_type": "execute_result"
    }
   ],
   "source": [
    "vcat([1, 1, 3/2 * pi, 0], U[1:2])"
   ]
  },
  {
   "cell_type": "code",
   "execution_count": 32,
   "metadata": {},
   "outputs": [],
   "source": [
    "j =  U -> ForwardDiff.gradient(J, U);"
   ]
  },
  {
   "cell_type": "code",
   "execution_count": 39,
   "metadata": {},
   "outputs": [
    {
     "ename": "MethodError",
     "evalue": "MethodError: no method matching Float64(::ForwardDiff.Dual{ForwardDiff.Tag{typeof(J),Int64},Float64,9})\nClosest candidates are:\n  Float64(::Real, !Matched::RoundingMode) where T<:AbstractFloat at rounding.jl:185\n  Float64(::T<:Number) where T<:Number at boot.jl:725\n  Float64(!Matched::Int8) at float.jl:60\n  ...",
     "output_type": "error",
     "traceback": [
      "MethodError: no method matching Float64(::ForwardDiff.Dual{ForwardDiff.Tag{typeof(J),Int64},Float64,9})\nClosest candidates are:\n  Float64(::Real, !Matched::RoundingMode) where T<:AbstractFloat at rounding.jl:185\n  Float64(::T<:Number) where T<:Number at boot.jl:725\n  Float64(!Matched::Int8) at float.jl:60\n  ...",
      "",
      "Stacktrace:",
      " [1] convert(::Type{Float64}, ::ForwardDiff.Dual{ForwardDiff.Tag{typeof(J),Int64},Float64,9}) at .\\number.jl:7",
      " [2] setindex!(::Array{Float64,1}, ::ForwardDiff.Dual{ForwardDiff.Tag{typeof(J),Int64},Float64,9}, ::Int64) at .\\array.jl:769",
      " [3] copyto! at .\\abstractarray.jl:731 [inlined]",
      " [4] copyto! at .\\abstractarray.jl:723 [inlined]",
      " [5] Type at .\\array.jl:497 [inlined]",
      " [6] convert at .\\array.jl:489 [inlined]",
      " [7] push!(::Array{Array{Float64,1},1}, ::Array{ForwardDiff.Dual{ForwardDiff.Tag{typeof(J),Int64},Float64,9},1}) at .\\array.jl:855",
      " [8] J(::Array{ForwardDiff.Dual{ForwardDiff.Tag{typeof(J),Int64},Int64,9},1}, ::Array{Float64,1}, ::Int64) at .\\In[38]:4",
      " [9] J at .\\In[38]:2 [inlined]",
      " [10] chunk_mode_gradient(::typeof(J), ::Array{Int64,1}, ::ForwardDiff.GradientConfig{ForwardDiff.Tag{typeof(J),Int64},Int64,9,Array{ForwardDiff.Dual{ForwardDiff.Tag{typeof(J),Int64},Int64,9},1}}) at C:\\Users\\limen\\.julia\\packages\\ForwardDiff\\N0wMF\\src\\gradient.jl:140",
      " [11] gradient(::Function, ::Array{Int64,1}, ::ForwardDiff.GradientConfig{ForwardDiff.Tag{typeof(J),Int64},Int64,9,Array{ForwardDiff.Dual{ForwardDiff.Tag{typeof(J),Int64},Int64,9},1}}, ::Val{true}) at C:\\Users\\limen\\.julia\\packages\\ForwardDiff\\N0wMF\\src\\gradient.jl:19",
      " [12] gradient(::Function, ::Array{Int64,1}, ::ForwardDiff.GradientConfig{ForwardDiff.Tag{typeof(J),Int64},Int64,9,Array{ForwardDiff.Dual{ForwardDiff.Tag{typeof(J),Int64},Int64,9},1}}) at C:\\Users\\limen\\.julia\\packages\\ForwardDiff\\N0wMF\\src\\gradient.jl:15 (repeats 2 times)",
      " [13] (::getfield(Main, Symbol(\"##45#46\")))(::Array{Int64,1}) at .\\In[32]:1",
      " [14] top-level scope at In[39]:1"
     ]
    }
   ],
   "source": [
    "j(Array([i for i in 1:18]))"
   ]
  },
  {
   "cell_type": "code",
   "execution_count": 54,
   "metadata": {
    "scrolled": true
   },
   "outputs": [
    {
     "data": {
      "text/plain": [
       "foo (generic function with 1 method)"
      ]
     },
     "execution_count": 54,
     "metadata": {},
     "output_type": "execute_result"
    }
   ],
   "source": [
    "foo(U) = sum(i for u in U for i in u)"
   ]
  },
  {
   "cell_type": "code",
   "execution_count": 51,
   "metadata": {},
   "outputs": [
    {
     "data": {
      "text/plain": [
       "110"
      ]
     },
     "execution_count": 51,
     "metadata": {},
     "output_type": "execute_result"
    }
   ],
   "source": [
    "foo([[i,i] for i in 1:10])"
   ]
  },
  {
   "cell_type": "code",
   "execution_count": 52,
   "metadata": {},
   "outputs": [],
   "source": [
    "j =  U -> ForwardDiff.jacobian(foo, U);"
   ]
  },
  {
   "cell_type": "code",
   "execution_count": null,
   "metadata": {},
   "outputs": [],
   "source": []
  },
  {
   "cell_type": "code",
   "execution_count": 38,
   "metadata": {},
   "outputs": [
    {
     "name": "stdout",
     "output_type": "stream",
     "text": [
      "1\n",
      "2\n"
     ]
    }
   ],
   "source": [
    "for i in 1:3-1\n",
    "    println(i)\n",
    "end"
   ]
  },
  {
   "cell_type": "code",
   "execution_count": 39,
   "metadata": {},
   "outputs": [
    {
     "data": {
      "text/plain": [
       "3-element Array{Int64,1}:\n",
       " 1\n",
       " 2\n",
       " 3"
      ]
     },
     "execution_count": 39,
     "metadata": {},
     "output_type": "execute_result"
    }
   ],
   "source": [
    "Array(1:3)"
   ]
  },
  {
   "cell_type": "code",
   "execution_count": 41,
   "metadata": {},
   "outputs": [
    {
     "data": {
      "text/plain": [
       "1×3 Array{Int64,2}:\n",
       " 1  2  3"
      ]
     },
     "execution_count": 41,
     "metadata": {},
     "output_type": "execute_result"
    }
   ],
   "source": [
    "[1 2 3]"
   ]
  },
  {
   "cell_type": "code",
   "execution_count": 42,
   "metadata": {},
   "outputs": [
    {
     "data": {
      "text/plain": [
       "π = 3.1415926535897..."
      ]
     },
     "execution_count": 42,
     "metadata": {},
     "output_type": "execute_result"
    }
   ],
   "source": [
    "pi"
   ]
  },
  {
   "cell_type": "code",
   "execution_count": 11,
   "metadata": {},
   "outputs": [
    {
     "data": {
      "text/plain": [
       "4"
      ]
     },
     "execution_count": 11,
     "metadata": {},
     "output_type": "execute_result"
    }
   ],
   "source": [
    "f(3)"
   ]
  },
  {
   "cell_type": "code",
   "execution_count": 10,
   "metadata": {},
   "outputs": [
    {
     "data": {
      "text/plain": [
       "f (generic function with 1 method)"
      ]
     },
     "execution_count": 10,
     "metadata": {},
     "output_type": "execute_result"
    }
   ],
   "source": [
    "function f(x)\n",
    "    y = x+1\n",
    "    y\n",
    "end"
   ]
  },
  {
   "cell_type": "code",
   "execution_count": 2,
   "metadata": {},
   "outputs": [
    {
     "ename": "ErrorException",
     "evalue": "x0 and p must have the same size",
     "output_type": "error",
     "traceback": [
      "x0 and p must have the same size",
      "",
      "Stacktrace:",
      " [1] error(::String) at .\\error.jl:33",
      " [2] DDP(::Int64, ::Int64, ::Array{Int64,1}, ::Array{Int64,1}) at .\\In[1]:14",
      " [3] top-level scope at In[2]:1"
     ]
    }
   ],
   "source": [
    "x = DDP(1,2,[1],[1,1])"
   ]
  },
  {
   "cell_type": "code",
   "execution_count": 5,
   "metadata": {},
   "outputs": [
    {
     "data": {
      "text/plain": [
       "(2,)"
      ]
     },
     "execution_count": 5,
     "metadata": {},
     "output_type": "execute_result"
    }
   ],
   "source": [
    "size([1,1]) "
   ]
  },
  {
   "cell_type": "code",
   "execution_count": 3,
   "metadata": {},
   "outputs": [
    {
     "data": {
      "text/plain": [
       "false"
      ]
     },
     "execution_count": 3,
     "metadata": {},
     "output_type": "execute_result"
    }
   ],
   "source": [
    "size([1]) == size([2,2])"
   ]
  },
  {
   "cell_type": "code",
   "execution_count": 15,
   "metadata": {},
   "outputs": [
    {
     "data": {
      "text/plain": [
       "f (generic function with 1 method)"
      ]
     },
     "execution_count": 15,
     "metadata": {},
     "output_type": "execute_result"
    }
   ],
   "source": [
    "f(x,y ) = \n",
    "size(x) == size(y) ?\n",
    "1 : 2"
   ]
  },
  {
   "cell_type": "code",
   "execution_count": 16,
   "metadata": {},
   "outputs": [
    {
     "data": {
      "text/plain": [
       "2"
      ]
     },
     "execution_count": 16,
     "metadata": {},
     "output_type": "execute_result"
    }
   ],
   "source": [
    "f(1,[2])"
   ]
  },
  {
   "cell_type": "code",
   "execution_count": null,
   "metadata": {},
   "outputs": [],
   "source": []
  }
 ],
 "metadata": {
  "kernelspec": {
   "display_name": "Julia 1.0.1",
   "language": "julia",
   "name": "julia-1.0"
  },
  "language_info": {
   "file_extension": ".jl",
   "mimetype": "application/julia",
   "name": "julia",
   "version": "1.0.1"
  }
 },
 "nbformat": 4,
 "nbformat_minor": 2
}
