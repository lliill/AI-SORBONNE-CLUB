{
 "cells": [
  {
   "cell_type": "code",
   "execution_count": 1,
   "metadata": {},
   "outputs": [],
   "source": [
    "include(\"./DDP.jl\")\n",
    "\n",
    "using .DDP\n"
   ]
  },
  {
   "cell_type": "code",
   "execution_count": 2,
   "metadata": {},
   "outputs": [],
   "source": [
    "using ForwardDiff, DiffResults\n",
    "using LinearAlgebra"
   ]
  },
  {
   "cell_type": "code",
   "execution_count": 3,
   "metadata": {
    "scrolled": true
   },
   "outputs": [
    {
     "data": {
      "text/plain": [
       "10000"
      ]
     },
     "execution_count": 3,
     "metadata": {},
     "output_type": "execute_result"
    }
   ],
   "source": [
    "const T = 1\n",
    "const N = 100\n",
    "const H = T/N\n",
    "\n",
    "const D = 4\n",
    "\n",
    "const X1 = [1, 1, 3/2 * pi, 0]\n",
    "const P  = [0.1, 0.1, 0.01, 1]\n",
    "\n",
    "const DIM_x = 4\n",
    "const DIM_u = 2\n",
    "const DIM = DIM_x + DIM_u\n",
    "\n",
    "const C_W = 0.01\n",
    "const C_A = 0.0001\n",
    "\n",
    "const WEIGHT = 10000"
   ]
  },
  {
   "cell_type": "code",
   "execution_count": 4,
   "metadata": {},
   "outputs": [
    {
     "data": {
      "text/plain": [
       "LQR([1.0, 1.0, 4.71239, 0.0], [0.1, 0.1, 0.01, 1.0], 4, 2, 6, 1, 100, Main.DDP.Trajectory(Array{Float64,1}[[1.0, 1.0, 4.71239, 0.0], [1.0, 1.0, 4.71239, 0.0], [1.0, 1.0, 4.71239, 0.0], [1.0, 1.0, 4.71239, 0.0], [1.0, 1.0, 4.71239, 0.0], [1.0, 1.0, 4.71239, 0.0], [1.0, 1.0, 4.71239, 0.0], [1.0, 1.0, 4.71239, 0.0], [1.0, 1.0, 4.71239, 0.0], [1.0, 1.0, 4.71239, 0.0]  …  [1.0, 1.0, 4.71239, 0.0], [1.0, 1.0, 4.71239, 0.0], [1.0, 1.0, 4.71239, 0.0], [1.0, 1.0, 4.71239, 0.0], [1.0, 1.0, 4.71239, 0.0], [1.0, 1.0, 4.71239, 0.0], [1.0, 1.0, 4.71239, 0.0], [1.0, 1.0, 4.71239, 0.0], [1.0, 1.0, 4.71239, 0.0], [1.0, 1.0, 4.71239, 0.0]], Array{Float64,1}[[0.0, 0.0], [0.0, 0.0], [0.0, 0.0], [0.0, 0.0], [0.0, 0.0], [0.0, 0.0], [0.0, 0.0], [0.0, 0.0], [0.0, 0.0], [0.0, 0.0]  …  [0.0, 0.0], [0.0, 0.0], [0.0, 0.0], [0.0, 0.0], [0.0, 0.0], [0.0, 0.0], [0.0, 0.0], [0.0, 0.0], [0.0, 0.0], [0.0, 0.0]]))"
      ]
     },
     "execution_count": 4,
     "metadata": {},
     "output_type": "execute_result"
    }
   ],
   "source": [
    "car = LQR(X1, P, DIM_u, T, N)"
   ]
  },
  {
   "cell_type": "code",
   "execution_count": 5,
   "metadata": {},
   "outputs": [
    {
     "data": {
      "text/plain": [
       "([1.0, 1.0, 4.71239, 0.0], [0.0, 0.0])"
      ]
     },
     "execution_count": 5,
     "metadata": {},
     "output_type": "execute_result"
    }
   ],
   "source": [
    "x, u = car.path.X[1], car.path.U[1]"
   ]
  },
  {
   "cell_type": "code",
   "execution_count": 5,
   "metadata": {},
   "outputs": [
    {
     "data": {
      "text/plain": [
       "dF (generic function with 1 method)"
      ]
     },
     "execution_count": 5,
     "metadata": {},
     "output_type": "execute_result"
    }
   ],
   "source": [
    "\"\"\"\n",
    "F(xu::Vector) -> x::Vector\n",
    "F(x, u) -> x::Vector\n",
    "Car dynamics function. xu is the states-controls variable.\n",
    "h is the time interval. d is the car length.\n",
    "\"\"\"\n",
    "function F(xu::Vector) \n",
    "    \n",
    "    x, y, theta, v, w, a = xu\n",
    "#     println(\"v = \", v)\n",
    "    f = H*v\n",
    "#     if (D^2 - f^2 * sin(w)^2) < 0\n",
    "#         println(\"v = \", v, \"f = \", f, \", f^2 = \", f^2, \", w = \", w, \", sin(w)^2 = \", sin(w)^2)\n",
    "#     end\n",
    "    b = f*cos(w) + D - sqrt(D^2 - f^2 * sin(w)^2)\n",
    "\n",
    "    x = x + b*cos(theta)\n",
    "    y = y + b*sin(theta)\n",
    "    theta = theta + asin(sin(w) * f/D)\n",
    "    v = v + H*a\n",
    "    \n",
    "    return [x, y, theta, v]\n",
    "    \n",
    "end\n",
    "\n",
    "function F(x, u) \n",
    "    x, y, theta, v = x\n",
    "    w, a = u\n",
    "    \n",
    "    f = H*v\n",
    "    b = f*cos(w) + D - sqrt(D^2 - f^2 * sin(w)^2)\n",
    "\n",
    "    x = x + b*cos(theta)\n",
    "    y = y + b*sin(theta)\n",
    "    theta = theta + asin(sin(w) * f/D)\n",
    "    v = v + H*a\n",
    "    \n",
    "    return [x, y, theta, v]\n",
    "    \n",
    "end\n",
    "\n",
    "function F(U::Array{Array{Float64,1},1})\n",
    "    x = X1\n",
    "    X = [X1]   \n",
    "    for i in 1:N-1\n",
    "        x = F(x, U[i])\n",
    "        push!(X, x)\n",
    "    end\n",
    "    return X\n",
    "end\n",
    "\n",
    "dF(x, u) = ForwardDiff.jacobian(F, vcat(x, u))"
   ]
  },
  {
   "cell_type": "code",
   "execution_count": 6,
   "metadata": {},
   "outputs": [
    {
     "data": {
      "text/plain": [
       "L (generic function with 1 method)"
      ]
     },
     "execution_count": 6,
     "metadata": {},
     "output_type": "execute_result"
    }
   ],
   "source": [
    "z(x, p) = sqrt(x^2 + p^2) - p\n",
    "\n",
    "function L(x_u)\n",
    "    x, y, theta, v, w, a = x_u\n",
    "    p_x, p_y, p_theta, p_v = P\n",
    "    0.01(z(x, p_x) + z(y, p_y)) + C_W * w^2 + C_A * a^2\n",
    "end"
   ]
  },
  {
   "cell_type": "code",
   "execution_count": 7,
   "metadata": {},
   "outputs": [
    {
     "data": {
      "text/plain": [
       "Lf (generic function with 1 method)"
      ]
     },
     "execution_count": 7,
     "metadata": {},
     "output_type": "execute_result"
    }
   ],
   "source": [
    "Lf(x) =\n",
    "    WEIGHT * (z(x[1], P[1]) + z(x[2], P[2]) + z(x[3], P[3]) + z(x[4], P[4]))"
   ]
  },
  {
   "cell_type": "code",
   "execution_count": 8,
   "metadata": {},
   "outputs": [
    {
     "data": {
      "text/plain": [
       "j (generic function with 1 method)"
      ]
     },
     "execution_count": 8,
     "metadata": {},
     "output_type": "execute_result"
    }
   ],
   "source": [
    "function j(U, k)# loss of (x_k, u_k)\n",
    "    x = X1\n",
    "    for i in 1:k-1\n",
    "        x = F(vcat(x, U[2i-1:2i]))\n",
    "    end \n",
    "    L(vcat(x, U[2k-1:2k]))\n",
    "end"
   ]
  },
  {
   "cell_type": "code",
   "execution_count": 9,
   "metadata": {},
   "outputs": [
    {
     "data": {
      "text/plain": [
       "jf (generic function with 1 method)"
      ]
     },
     "execution_count": 9,
     "metadata": {},
     "output_type": "execute_result"
    }
   ],
   "source": [
    "function jf(U)# final loss of x_N\n",
    "    x = X1\n",
    "    for i in 1:N-1\n",
    "        x = F(vcat(x, U[2i-1:2i]))\n",
    "    end\n",
    "    Lf(x)\n",
    "end"
   ]
  },
  {
   "cell_type": "code",
   "execution_count": 10,
   "metadata": {},
   "outputs": [
    {
     "data": {
      "text/plain": [
       "J"
      ]
     },
     "execution_count": 10,
     "metadata": {},
     "output_type": "execute_result"
    }
   ],
   "source": [
    "\"\"\"\n",
    "Total loss related to U.\n",
    "\"\"\"\n",
    "J(U) = sum(j(U, i) for i in 1:N-2) + jf(U) "
   ]
  },
  {
   "cell_type": "code",
   "execution_count": 11,
   "metadata": {},
   "outputs": [
    {
     "data": {
      "text/plain": [
       "J (generic function with 2 methods)"
      ]
     },
     "execution_count": 11,
     "metadata": {},
     "output_type": "execute_result"
    }
   ],
   "source": [
    "J(U::Array{Array{Float64,1},1}) = J(vcat(U...))"
   ]
  },
  {
   "cell_type": "code",
   "execution_count": 12,
   "metadata": {},
   "outputs": [
    {
     "data": {
      "text/plain": [
       "diffs_Lf (generic function with 1 method)"
      ]
     },
     "execution_count": 12,
     "metadata": {},
     "output_type": "execute_result"
    }
   ],
   "source": [
    "# dF(x, u) = ForwardDiff.jacobian(F, vcat(x, u))\n",
    "\n",
    "# function dJ(U) \n",
    "#     U = ForwardDiff.gradient(_J, vcat(U...))\n",
    "#     return [U[2i-1:2i] for i in 1:length(U)÷2]\n",
    "# end\n",
    "\n",
    "function diffs_L(x, u)\n",
    "    xu = convert(Array{Float64,1}, vcat(x, u))\n",
    "    result = DiffResults.HessianResult(xu)\n",
    "    result = ForwardDiff.hessian!(result, L, xu)\n",
    "    return DiffResults.gradient(result), DiffResults.hessian(result)\n",
    "end\n",
    "\n",
    "function diffs_Lf(x)\n",
    "    x = convert(Array{Float64,1}, x)\n",
    "    result = DiffResults.HessianResult(x)\n",
    "    result = ForwardDiff.hessian!(result, Lf, x)\n",
    "    return DiffResults.gradient(result), DiffResults.hessian(result)\n",
    "end"
   ]
  },
  {
   "cell_type": "code",
   "execution_count": 27,
   "metadata": {},
   "outputs": [
    {
     "data": {
      "text/plain": [
       "line_search_J (generic function with 1 method)"
      ]
     },
     "execution_count": 27,
     "metadata": {},
     "output_type": "execute_result"
    }
   ],
   "source": [
    "function line_search_J(U, delta_U; a = 0.25, b = 0.5, jumping = 1)\n",
    "    _U = vcat(U...)\n",
    "    result = DiffResults.GradientResult(_U)\n",
    "    result = ForwardDiff.gradient!(result, J, _U)\n",
    "    J_U = DiffResults.value(result) #value\n",
    "    _gradient = DiffResults.gradient(result)\n",
    "    gradient = [_gradient[2i-1:2i] for i in 1:length(_gradient)÷2]\n",
    "  \n",
    "    step = jumping\n",
    "    while step >= 0.01 && J(U + step * delta_U) > J_U + a*step* gradient ⋅ delta_U\n",
    "        step = b * step\n",
    "    end\n",
    "    return step\n",
    "end     "
   ]
  },
  {
   "cell_type": "code",
   "execution_count": 24,
   "metadata": {
    "scrolled": true
   },
   "outputs": [
    {
     "data": {
      "text/plain": [
       "0.001953125"
      ]
     },
     "execution_count": 24,
     "metadata": {},
     "output_type": "execute_result"
    }
   ],
   "source": [
    "line_search_J(car.path.U, [300*rand(2) for _ in 1:99] )"
   ]
  },
  {
   "cell_type": "code",
   "execution_count": 25,
   "metadata": {},
   "outputs": [
    {
     "data": {
      "text/plain": [
       "go! (generic function with 1 method)"
      ]
     },
     "execution_count": 25,
     "metadata": {},
     "output_type": "execute_result"
    }
   ],
   "source": [
    "function go!(path)\n",
    "    \n",
    "    gradient_Lf, hessian_Lf = diffs_Lf(path.X[N])\n",
    "    DVs = [gradient_Lf']\n",
    "    D2Vs = [hessian_Lf]\n",
    "    \n",
    "    DQs = Array{Adjoint{Float64,Array{Float64,1}},1}(undef, 0)\n",
    "    D2Qs = Array{Array{Float64,2}}(undef, 0)\n",
    "    \n",
    "    #backward pass\n",
    "    for t in N-1:-1:1\n",
    "        x, u = path.X[t], path.U[t]\n",
    "        gradient_L, hessian_L = diffs_L(x, u)\n",
    "        jacobian_F = dF(x, u)\n",
    "        DQ = gradient_L' + DVs[1] * jacobian_F \n",
    "        D2Q = reshape([hessian_L[i, j] + #can add stm\n",
    "                \n",
    "                jacobian_F[:,i]' * D2Vs[1] * jacobian_F[:,j] for i in 1:DIM for j in 1:DIM] , (DIM,DIM))\n",
    "        pushfirst!(DQs, DQ)\n",
    "        pushfirst!(D2Qs, D2Q)\n",
    "                        \n",
    "        inv_Q_uu = inv(D2Q[DIM_x+1:DIM, DIM_x+1:DIM])    \n",
    "        Q_ux = D2Q[DIM_x+1:DIM, 1:DIM_x]  \n",
    "        Q_xu = D2Q[1:DIM_x, DIM_x+1:DIM]\n",
    "        Q_xx = D2Q[1:DIM_x, 1:DIM_x]\n",
    "        Q_x = DQ[1:DIM_x]'\n",
    "        Q_u = DQ[DIM_x+1:DIM]'            \n",
    "        DV = Q_x + Q_u * inv_Q_uu * Q_ux\n",
    "        D2V = Q_xx + Q_xu * inv_Q_uu * Q_ux  \n",
    "                        \n",
    "        pushfirst!(DVs, DV)\n",
    "        pushfirst!(D2Vs, D2V) \n",
    "    end  \n",
    "     \n",
    "    #Forward pass  GO!  \n",
    "    inv_Q_uu_1 = inv(D2Qs[1][DIM_x+1:DIM, DIM_x+1:DIM])\n",
    "    Q_u_1 = DQs[1][DIM_x+1:DIM]\n",
    "    delta_U = [- inv_Q_uu_1 * Q_u_1]\n",
    "    U, X = path.U, path.X\n",
    "    u, x, delta_u = U[1], X[1], delta_U[1] \n",
    "        #construct delta_U\n",
    "    for t in 2:N-1\n",
    "        u = u + delta_u\n",
    "        x_hat = F(x,u)               \n",
    "        delta_x = x_hat - x\n",
    "             \n",
    "        inv_Q_uu = inv(D2Qs[t][DIM_x+1:DIM, DIM_x+1:DIM])\n",
    "        Q_u = DQs[t][DIM_x+1:DIM]\n",
    "        Q_ux = D2Qs[t][DIM_x+1:DIM, 1:DIM_x]                \n",
    "        delta_u = - inv_Q_uu * (Q_u + Q_ux * delta_x)\n",
    "        push!(delta_U, delta_u)\n",
    "    end    \n",
    "    step = line_search_J(U, delta_U)\n",
    "    U = U + step * delta_U\n",
    "    println(step)\n",
    "    X = F(U)                \n",
    "    println(X[N])\n",
    "    path.U = U\n",
    "    path.X = X\n",
    "                    \n",
    "end"
   ]
  },
  {
   "cell_type": "code",
   "execution_count": 18,
   "metadata": {},
   "outputs": [
    {
     "data": {
      "text/plain": [
       "99-element Array{Array{Float64,1},1}:\n",
       " [0.0, 0.0]\n",
       " [0.0, 0.0]\n",
       " [0.0, 0.0]\n",
       " [0.0, 0.0]\n",
       " [0.0, 0.0]\n",
       " [0.0, 0.0]\n",
       " [0.0, 0.0]\n",
       " [0.0, 0.0]\n",
       " [0.0, 0.0]\n",
       " [0.0, 0.0]\n",
       " [0.0, 0.0]\n",
       " [0.0, 0.0]\n",
       " [0.0, 0.0]\n",
       " ⋮         \n",
       " [0.0, 0.0]\n",
       " [0.0, 0.0]\n",
       " [0.0, 0.0]\n",
       " [0.0, 0.0]\n",
       " [0.0, 0.0]\n",
       " [0.0, 0.0]\n",
       " [0.0, 0.0]\n",
       " [0.0, 0.0]\n",
       " [0.0, 0.0]\n",
       " [0.0, 0.0]\n",
       " [0.0, 0.0]\n",
       " [0.0, 0.0]"
      ]
     },
     "execution_count": 18,
     "metadata": {},
     "output_type": "execute_result"
    }
   ],
   "source": [
    "car.path.U"
   ]
  },
  {
   "cell_type": "code",
   "execution_count": 33,
   "metadata": {},
   "outputs": [
    {
     "data": {
      "text/plain": [
       "100-element Array{Array{Float64,1},1}:\n",
       " [1.0, 1.0, 4.71239, 0.0]            \n",
       " [1.0, 1.0, 4.71239, 0.00995089]     \n",
       " [1.0, 0.999902, 4.71238, 0.00995074]\n",
       " [1.0, 0.999803, 4.71239, 0.00995075]\n",
       " [1.0, 0.999704, 4.71239, 0.00995076]\n",
       " [1.0, 0.999605, 4.71239, 0.00995077]\n",
       " [1.0, 0.999505, 4.71239, 0.00995078]\n",
       " [1.0, 0.999406, 4.71239, 0.00995079]\n",
       " [1.0, 0.999306, 4.71239, 0.0099508] \n",
       " [1.0, 0.999207, 4.71239, 0.00995081]\n",
       " [1.0, 0.999107, 4.71239, 0.00995082]\n",
       " [1.0, 0.999008, 4.71239, 0.00995083]\n",
       " [1.0, 0.998908, 4.71239, 0.00995084]\n",
       " ⋮                                   \n",
       " [1.0, 0.991345, 4.71239, 0.00994672]\n",
       " [1.0, 0.991246, 4.71239, 0.00994188]\n",
       " [1.0, 0.991146, 4.71239, 0.00993217]\n",
       " [1.0, 0.991047, 4.71239, 0.00991274]\n",
       " [1.0, 0.990948, 4.71239, 0.00987387]\n",
       " [1.0, 0.990849, 4.71239, 0.00979613]\n",
       " [1.0, 0.990751, 4.71239, 0.00964063]\n",
       " [1.0, 0.990655, 4.71239, 0.00932963]\n",
       " [1.0, 0.990561, 4.71239, 0.00870763]\n",
       " [1.0, 0.990474, 4.71239, 0.00746366]\n",
       " [1.0, 0.9904, 4.71239, 0.00497585]  \n",
       " [1.0, 0.99035, 4.71239, 8.43165e-7] "
      ]
     },
     "execution_count": 33,
     "metadata": {},
     "output_type": "execute_result"
    }
   ],
   "source": [
    "car.path.X"
   ]
  },
  {
   "cell_type": "code",
   "execution_count": 28,
   "metadata": {},
   "outputs": [
    {
     "ename": "DomainError",
     "evalue": "DomainError with -2.9425549219683554e22:\nsqrt will only return a complex result if called with a complex argument. Try sqrt(Complex(x)).",
     "output_type": "error",
     "traceback": [
      "DomainError with -2.9425549219683554e22:\nsqrt will only return a complex result if called with a complex argument. Try sqrt(Complex(x)).",
      "",
      "Stacktrace:",
      " [1] throw_complex_domainerror(::Symbol, ::Float64) at .\\math.jl:31",
      " [2] sqrt at .\\math.jl:492 [inlined]",
      " [3] F(::Array{Float64,1}) at .\\In[5]:15",
      " [4] j(::Array{Float64,1}, ::Int64) at .\\In[8]:4",
      " [5] iterate at .\\none:0 [inlined]",
      " [6] mapfoldl_impl(::typeof(identity), ::typeof(Base.add_sum), ::NamedTuple{(:init,),Tuple{Float64}}, ::Base.Generator{UnitRange{Int64},getfield(Main, Symbol(\"##3#4\")){Array{Float64,1}}}, ::Int64) at .\\reduce.jl:47",
      " [7] J(::Array{Float64,1}) at .\\reduce.jl:61",
      " [8] J at .\\In[11]:1 [inlined]",
      " [9] #line_search_J#27(::Float64, ::Float64, ::Int64, ::Function, ::Array{Array{Float64,1},1}, ::Array{Array{Float64,1},1}) at .\\In[27]:10",
      " [10] line_search_J at .\\In[27]:2 [inlined]",
      " [11] go!(::Main.DDP.Trajectory) at .\\In[25]:53",
      " [12] top-level scope at .\\In[28]:2"
     ]
    }
   ],
   "source": [
    "for _ in 1:300\n",
    "    go!(car.path)\n",
    "end"
   ]
  },
  {
   "cell_type": "code",
   "execution_count": 66,
   "metadata": {},
   "outputs": [
    {
     "data": {
      "text/plain": [
       "1-element Array{Array{Float64,1},1}:\n",
       " [0.0, 0.995074]"
      ]
     },
     "execution_count": 66,
     "metadata": {},
     "output_type": "execute_result"
    }
   ],
   "source": [
    "delta_U = [-inv(D2Qs[1][DIM_x+1:DIM, DIM_x+1:DIM])* DQs[1][DIM_x+1:DIM]]"
   ]
  },
  {
   "cell_type": "code",
   "execution_count": 29,
   "metadata": {},
   "outputs": [],
   "source": [
    "\n",
    "    gradient_Lf, hessian_Lf = diffs_Lf(car.path.X[N])\n",
    "    DVs = [gradient_Lf']\n",
    "    D2Vs = [hessian_Lf]\n",
    "    \n",
    "    DQs = Array{Adjoint{Float64,Array{Float64,1}},1}(undef, 0)\n",
    "    D2Qs = Array{Array{Float64,2}}(undef, 0)\n",
    "    \n",
    "    #backward pass\n",
    "    for t in N-1:-1:1\n",
    "        x, u = car.path.X[t], car.path.U[t]\n",
    "        gradient_L, hessian_L = diffs_L(x, u)\n",
    "        jacobian_F = dF(x, u)\n",
    "        DQ = gradient_L' + DVs[1] * jacobian_F \n",
    "        D2Q = reshape([hessian_L[i, j] + #can add stm\n",
    "                jacobian_F[:,i]' * D2Vs[1] * jacobian_F[:,j] for i in 1:DIM for j in 1:DIM] , (DIM,DIM))\n",
    "        pushfirst!(DQs, DQ)\n",
    "        pushfirst!(D2Qs, D2Q)\n",
    "                        \n",
    "        inv_Q_uu = inv(D2Q[DIM_x+1:DIM, DIM_x+1:DIM])    \n",
    "        Q_ux = D2Q[DIM_x+1:DIM, 1:DIM_x]  \n",
    "        Q_xu = D2Q[1:DIM_x, DIM_x+1:DIM]\n",
    "        Q_xx = D2Q[1:DIM_x, 1:DIM_x]\n",
    "        Q_x = DQ[1:DIM_x]'\n",
    "        Q_u = DQ[DIM_x+1:DIM]'            \n",
    "        DV = Q_x + Q_u * inv_Q_uu * Q_ux\n",
    "        D2V = Q_xx + Q_xu * inv_Q_uu * Q_ux  \n",
    "                        \n",
    "        pushfirst!(DVs, DV)\n",
    "        pushfirst!(D2Vs, D2V) \n",
    "    end  \n",
    "     \n",
    "    #Forward pass  GO!  \n",
    "    inv_Q_uu_1 = inv(D2Qs[1][DIM_x+1:DIM, DIM_x+1:DIM])\n",
    "    Q_u_1 = DQs[1][DIM_x+1:DIM]\n",
    "    delta_U = [- inv_Q_uu_1 * Q_u_1]\n",
    "    U, X = car.path.U, car.path.X\n",
    "    u, x, delta_u = U[1], X[1], delta_U[1]                 \n",
    "    for t in 2:N-1\n",
    "        u = u + delta_u\n",
    "        x_hat = F(x,u)               \n",
    "        delta_x = x_hat - x\n",
    "             \n",
    "        inv_Q_uu = inv(D2Qs[t][DIM_x+1:DIM, DIM_x+1:DIM])\n",
    "        Q_u = DQs[t][DIM_x+1:DIM]\n",
    "        Q_ux = D2Qs[t][DIM_x+1:DIM, 1:DIM_x]                \n",
    "        delta_u = - inv_Q_uu * (Q_u + Q_ux * delta_x)\n",
    "        push!(delta_U, delta_u)\n",
    "                end"
   ]
  },
  {
   "cell_type": "code",
   "execution_count": null,
   "metadata": {},
   "outputs": [],
   "source": []
  },
  {
   "cell_type": "code",
   "execution_count": 33,
   "metadata": {},
   "outputs": [
    {
     "data": {
      "text/plain": [
       "4-element Array{Float64,1}:\n",
       " 0.0                 \n",
       " 0.0                 \n",
       " 0.0                 \n",
       " 0.004975926093499076"
      ]
     },
     "execution_count": 33,
     "metadata": {},
     "output_type": "execute_result"
    }
   ],
   "source": [
    "x_hat-X1"
   ]
  },
  {
   "cell_type": "code",
   "execution_count": 21,
   "metadata": {},
   "outputs": [
    {
     "data": {
      "text/plain": [
       "([0.0, 0.0], [1.0, 1.0, 4.71239, 0.0], [0.0, 0.995074])"
      ]
     },
     "execution_count": 21,
     "metadata": {},
     "output_type": "execute_result"
    }
   ],
   "source": [
    "    #Forward pass  GO!  \n",
    "    inv_Q_uu_1 = inv(D2Qs[1][DIM_x+1:DIM, DIM_x+1:DIM])\n",
    "    Q_u_1 = DQs[1][DIM_x+1:DIM]\n",
    "    delta_U = [- inv_Q_uu_1 * Q_u_1]\n",
    "    U, X = car.path.U, car.path.X\n",
    "    u, x, delta_u = U[1], X[1], delta_U[1] "
   ]
  },
  {
   "cell_type": "code",
   "execution_count": 22,
   "metadata": {},
   "outputs": [
    {
     "data": {
      "text/plain": [
       "2-element Array{Float64,1}:\n",
       " 0.0\n",
       " 0.0"
      ]
     },
     "execution_count": 22,
     "metadata": {},
     "output_type": "execute_result"
    }
   ],
   "source": [
    "   t = 2\n",
    "    u = u + delta_u\n",
    "        x_hat = F(x,u)               \n",
    "        delta_x = x_hat - x\n",
    "             \n",
    "        inv_Q_uu = inv(D2Qs[t][DIM_x+1:DIM, DIM_x+1:DIM])\n",
    "        Q_u = DQs[t][DIM_x+1:DIM]\n",
    "        Q_ux = D2Qs[t][DIM_x+1:DIM, 1:DIM_x]                \n",
    "        delta_u = - inv_Q_uu * (Q_u + Q_ux * delta_x)"
   ]
  },
  {
   "cell_type": "code",
   "execution_count": 22,
   "metadata": {},
   "outputs": [
    {
     "data": {
      "text/plain": [
       "1"
      ]
     },
     "execution_count": 22,
     "metadata": {},
     "output_type": "execute_result"
    }
   ],
   "source": [
    "ForwardDiff.derivative(abs, 0)"
   ]
  },
  {
   "cell_type": "code",
   "execution_count": 27,
   "metadata": {},
   "outputs": [
    {
     "data": {
      "text/plain": [
       "0.7039325591475549"
      ]
     },
     "execution_count": 27,
     "metadata": {},
     "output_type": "execute_result"
    }
   ],
   "source": [
    "a[:,1]' * a[:,1]"
   ]
  },
  {
   "cell_type": "code",
   "execution_count": 28,
   "metadata": {},
   "outputs": [
    {
     "data": {
      "text/plain": [
       "([9950.37, 9950.37, 9999.98, 0.0], [98.5185 0.0 0.0 0.0; 0.0 98.5185 0.0 0.0; 0.0 0.0 0.00955595 0.0; 0.0 0.0 0.0 10000.0])"
      ]
     },
     "execution_count": 28,
     "metadata": {},
     "output_type": "execute_result"
    }
   ],
   "source": [
    "gradient_Lf, hessian_Lf = diffs_Lf(car.path.X[N])"
   ]
  },
  {
   "cell_type": "code",
   "execution_count": 29,
   "metadata": {},
   "outputs": [
    {
     "data": {
      "text/plain": [
       "4×6 Array{Float64,2}:\n",
       " 1.0  0.0  0.0  -1.83697e-18  0.0  0.0 \n",
       " 0.0  1.0  0.0  -0.01         0.0  0.0 \n",
       " 0.0  0.0  1.0   0.0          0.0  0.0 \n",
       " 0.0  0.0  0.0   1.0          0.0  0.01"
      ]
     },
     "execution_count": 29,
     "metadata": {},
     "output_type": "execute_result"
    }
   ],
   "source": [
    "jacobian_F = dF(car.path.X[N-1], car.path.U[N-1])"
   ]
  },
  {
   "cell_type": "code",
   "execution_count": 30,
   "metadata": {},
   "outputs": [
    {
     "data": {
      "text/plain": [
       "([0.00995037, 0.00995037, 0.0, 0.0, 0.0, 0.0], [9.85185e-5 0.0 … 0.0 0.0; 0.0 9.85185e-5 … 0.0 0.0; … ; 0.0 0.0 … 0.02 0.0; 0.0 0.0 … 0.0 0.0002])"
      ]
     },
     "execution_count": 30,
     "metadata": {},
     "output_type": "execute_result"
    }
   ],
   "source": [
    "gradient_L, hessian_L = diffs_L(car.path.X[N-1], car.path.U[N-1])"
   ]
  },
  {
   "cell_type": "code",
   "execution_count": 94,
   "metadata": {},
   "outputs": [
    {
     "data": {
      "text/plain": [
       "6×6 Array{Float64,2}:\n",
       " 9.85185e-5  0.0         0.0  0.0  0.0   0.0   \n",
       " 0.0         9.85185e-5  0.0  0.0  0.0   0.0   \n",
       " 0.0         0.0         0.0  0.0  0.0   0.0   \n",
       " 0.0         0.0         0.0  0.0  0.0   0.0   \n",
       " 0.0         0.0         0.0  0.0  0.02  0.0   \n",
       " 0.0         0.0         0.0  0.0  0.0   0.0002"
      ]
     },
     "execution_count": 94,
     "metadata": {},
     "output_type": "execute_result"
    }
   ],
   "source": [
    "hessian_L"
   ]
  },
  {
   "cell_type": "code",
   "execution_count": 40,
   "metadata": {},
   "outputs": [
    {
     "data": {
      "text/plain": [
       "6×6 Array{Float64,2}:\n",
       " 98.5186        0.0       0.0            -1.80976e-16  0.0     0.0   \n",
       "  0.0          98.5186    0.0            -0.985185     0.0     0.0   \n",
       "  0.0           0.0       0.00955595      0.0          0.0     0.0   \n",
       " -1.80976e-16  -0.985185  0.0         10000.0          0.0   100.0   \n",
       "  0.0           0.0       0.0             0.0          0.02    0.0   \n",
       "  0.0           0.0       0.0           100.0          0.0     1.0002"
      ]
     },
     "execution_count": 40,
     "metadata": {},
     "output_type": "execute_result"
    }
   ],
   "source": [
    "D2Q = reshape([hessian_L[i, j] + \n",
    "                jacobian_F[:,i]' * hessian_Lf * jacobian_F[:,j] for i in 1:DIM for j in 1:DIM] , (DIM,DIM))"
   ]
  },
  {
   "cell_type": "code",
   "execution_count": 55,
   "metadata": {},
   "outputs": [
    {
     "data": {
      "text/plain": [
       "2×2 Array{Float64,2}:\n",
       " 50.0  0.0   \n",
       "  0.0  0.9998"
      ]
     },
     "execution_count": 55,
     "metadata": {},
     "output_type": "execute_result"
    }
   ],
   "source": [
    "inv(D2Q[DIM_x+1:DIM, DIM_x+1:DIM])"
   ]
  },
  {
   "cell_type": "code",
   "execution_count": 56,
   "metadata": {
    "scrolled": true
   },
   "outputs": [
    {
     "data": {
      "text/plain": [
       "1×4 Adjoint{Float64,Array{Float64,1}}:\n",
       " 9950.38  9950.38  9999.98  -99.5037"
      ]
     },
     "execution_count": 56,
     "metadata": {},
     "output_type": "execute_result"
    }
   ],
   "source": [
    "DV = DQ[1:DIM_x]' + DQ[DIM_x+1:DIM]' * inv(D2Q[DIM_x+1:DIM, DIM_x+1:DIM]) * D2Q[DIM_x+1:DIM, 1:DIM_x]"
   ]
  },
  {
   "cell_type": "code",
   "execution_count": 37,
   "metadata": {},
   "outputs": [
    {
     "data": {
      "text/plain": [
       "1×6 Adjoint{Float64,Array{Float64,1}}:\n",
       " 9950.38  9950.38  9999.98  -99.5037  0.0  0.0"
      ]
     },
     "execution_count": 37,
     "metadata": {},
     "output_type": "execute_result"
    }
   ],
   "source": [
    "DQ = gradient_L'  + gradient_Lf' *jacobian_F"
   ]
  },
  {
   "cell_type": "code",
   "execution_count": 49,
   "metadata": {},
   "outputs": [
    {
     "data": {
      "text/plain": [
       "2-element Array{Float64,1}:\n",
       " 0.0\n",
       " 0.0"
      ]
     },
     "execution_count": 49,
     "metadata": {},
     "output_type": "execute_result"
    }
   ],
   "source": [
    "DQ[DIM_x+1:DIM]"
   ]
  },
  {
   "cell_type": "code",
   "execution_count": 35,
   "metadata": {},
   "outputs": [
    {
     "data": {
      "text/plain": [
       "0-element Array{Adjoint{Float64,Array{Float64,1}},1}"
      ]
     },
     "execution_count": 35,
     "metadata": {},
     "output_type": "execute_result"
    }
   ],
   "source": [
    "Array{Adjoint{Float64,Array{Float64,1}},1}(undef, 0)"
   ]
  },
  {
   "cell_type": "code",
   "execution_count": 50,
   "metadata": {},
   "outputs": [
    {
     "data": {
      "text/plain": [
       "0-element Array{Array{Float64,1},1}"
      ]
     },
     "execution_count": 50,
     "metadata": {},
     "output_type": "execute_result"
    }
   ],
   "source": [
    "DQs = Array{Adjoint{Float64,Array{Float64,1}},1}(undef, 0)"
   ]
  },
  {
   "cell_type": "code",
   "execution_count": 51,
   "metadata": {},
   "outputs": [
    {
     "ename": "MethodError",
     "evalue": "MethodError: no method matching Array{Float64,1}(::Adjoint{Float64,Array{Float64,1}})\nClosest candidates are:\n  Array{Float64,1}(::AbstractArray{S,N}) where {T, N, S} at array.jl:497\n  Array{Float64,1}() where T at boot.jl:413\n  Array{Float64,1}(!Matched::UndefInitializer, !Matched::Int64) where T at boot.jl:394\n  ...",
     "output_type": "error",
     "traceback": [
      "MethodError: no method matching Array{Float64,1}(::Adjoint{Float64,Array{Float64,1}})\nClosest candidates are:\n  Array{Float64,1}(::AbstractArray{S,N}) where {T, N, S} at array.jl:497\n  Array{Float64,1}() where T at boot.jl:413\n  Array{Float64,1}(!Matched::UndefInitializer, !Matched::Int64) where T at boot.jl:394\n  ...",
      "",
      "Stacktrace:",
      " [1] convert(::Type{Array{Float64,1}}, ::Adjoint{Float64,Array{Float64,1}}) at .\\array.jl:489",
      " [2] pushfirst!(::Array{Array{Float64,1},1}, ::Adjoint{Float64,Array{Float64,1}}) at .\\array.jl:1090",
      " [3] top-level scope at In[51]:1"
     ]
    }
   ],
   "source": [
    "pushfirst!(DQs, DQ)"
   ]
  },
  {
   "cell_type": "code",
   "execution_count": null,
   "metadata": {},
   "outputs": [],
   "source": []
  }
 ],
 "metadata": {
  "kernelspec": {
   "display_name": "Julia 1.1.0",
   "language": "julia",
   "name": "julia-1.1"
  },
  "language_info": {
   "file_extension": ".jl",
   "mimetype": "application/julia",
   "name": "julia",
   "version": "1.1.0"
  }
 },
 "nbformat": 4,
 "nbformat_minor": 2
}
