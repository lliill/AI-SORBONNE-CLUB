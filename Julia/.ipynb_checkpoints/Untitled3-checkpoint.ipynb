{
 "cells": [
  {
   "cell_type": "code",
   "execution_count": 5,
   "metadata": {},
   "outputs": [],
   "source": [
    "using ForwardDiff, DiffResults"
   ]
  },
  {
   "cell_type": "code",
   "execution_count": 91,
   "metadata": {},
   "outputs": [
    {
     "data": {
      "text/plain": [
       "10-element Array{Float64,1}:\n",
       " 0.0\n",
       " 0.0\n",
       " 0.0\n",
       " 0.0\n",
       " 0.0\n",
       " 0.0\n",
       " 0.0\n",
       " 0.0\n",
       " 0.0\n",
       " 0.0"
      ]
     },
     "execution_count": 91,
     "metadata": {},
     "output_type": "execute_result"
    }
   ],
   "source": [
    "zeros((2,10))[1,1:10]"
   ]
  },
  {
   "cell_type": "code",
   "execution_count": 1,
   "metadata": {
    "scrolled": true
   },
   "outputs": [
    {
     "data": {
      "text/plain": [
       "DDP"
      ]
     },
     "execution_count": 1,
     "metadata": {},
     "output_type": "execute_result"
    }
   ],
   "source": [
    "\"\"\"\n",
    "DDP problem settings.\n",
    "# Arguments\n",
    "- `T :: Int64`: the time.\n",
    "- `N :: Int64`: the discretization of time.\n",
    "- `x0 \n",
    "-\n",
    "...\n",
    "\"\"\"\n",
    "struct DDP\n",
    "    T :: Int64\n",
    "    N :: Int64\n",
    "    x0 :: Array{Float64, 1}\n",
    "    p :: Array{Float64, 1}\n",
    "    controls_dim :: Int64\n",
    "    X :: Array{Array{Float64,1},1}\n",
    "    U :: Array{Array{Float64,1},1}\n",
    "    \n",
    "    DDP(T, N, x0, p, controls_dim) = \n",
    "        if size(x0) == size(p)\n",
    "            X = [x0 for _ in 1:N]\n",
    "            U = []\n",
    "        else\n",
    "            error(\"x0 and p must have the same size\") \n",
    "        new(T, N, x0, p)\n",
    "    \n",
    "end"
   ]
  },
  {
   "cell_type": "code",
   "execution_count": null,
   "metadata": {},
   "outputs": [],
   "source": []
  },
  {
   "cell_type": "code",
   "execution_count": 4,
   "metadata": {},
   "outputs": [
    {
     "data": {
      "text/plain": [
       "F (generic function with 3 methods)"
      ]
     },
     "execution_count": 4,
     "metadata": {},
     "output_type": "execute_result"
    }
   ],
   "source": [
    "function F(xu::Vector, h = 0.01, d = 4) \n",
    "    x, y, theta, v, w, a = xu\n",
    "#     w, a = u\n",
    "    \n",
    "    f = h*v\n",
    "    b = f*cos(w) + d - sqrt(d^2 - f^2 * sin(w)^2)\n",
    "\n",
    "    x = x + b*cos(theta)\n",
    "    y = y + b*sin(theta)\n",
    "    theta = theta + asin(sin(w) * f/d)\n",
    "    v = v + h*a\n",
    "    \n",
    "    return [x, y, theta, v]\n",
    "    \n",
    "end"
   ]
  },
  {
   "cell_type": "code",
   "execution_count": 16,
   "metadata": {},
   "outputs": [
    {
     "data": {
      "text/plain": [
       "dF (generic function with 1 method)"
      ]
     },
     "execution_count": 16,
     "metadata": {},
     "output_type": "execute_result"
    }
   ],
   "source": [
    "dF(x, u) = ForwardDiff.jacobian(F, vcat(x, u))"
   ]
  },
  {
   "cell_type": "code",
   "execution_count": 17,
   "metadata": {},
   "outputs": [
    {
     "data": {
      "text/plain": [
       "4×6 Array{Float64,2}:\n",
       " 1.0  0.0  -0.00162717  -0.00289927   -0.0378654   0.0 \n",
       " 0.0  1.0  -0.011415     0.000413281   0.00539758  0.0 \n",
       " 0.0  0.0   1.0         -0.00239742    0.00283675  0.0 \n",
       " 0.0  0.0   0.0          1.0           0.0         0.01"
      ]
     },
     "execution_count": 17,
     "metadata": {},
     "output_type": "execute_result"
    }
   ],
   "source": [
    "dF(1:4, 5:6)"
   ]
  },
  {
   "cell_type": "code",
   "execution_count": 15,
   "metadata": {},
   "outputs": [
    {
     "data": {
      "text/plain": [
       "24×6 Array{Float64,2}:\n",
       " 0.0  0.0   0.0           0.0           0.0          0.0\n",
       " 0.0  0.0   0.0           0.0           0.0          0.0\n",
       " 0.0  0.0   0.0           0.0           0.0          0.0\n",
       " 0.0  0.0   0.0           0.0           0.0          0.0\n",
       " 0.0  0.0   0.0           0.0           0.0          0.0\n",
       " 0.0  0.0   0.0           0.0           0.0          0.0\n",
       " 0.0  0.0   0.0           0.0           0.0          0.0\n",
       " 0.0  0.0   0.0           0.0           0.0          0.0\n",
       " 0.0  0.0   0.011415     -0.000413281  -0.00539758   0.0\n",
       " 0.0  0.0  -0.00162717   -0.00289927   -0.0378654    0.0\n",
       " 0.0  0.0   0.0           0.0           0.0          0.0\n",
       " 0.0  0.0   0.0           0.0           0.0          0.0\n",
       " 0.0  0.0  -0.000413281  -2.27615e-5   -0.00943942   0.0\n",
       " 0.0  0.0  -0.00289927    3.24457e-6    0.00134556   0.0\n",
       " 0.0  0.0   0.0          -5.51179e-8    0.000709253  0.0\n",
       " 0.0  0.0   0.0           0.0           0.0          0.0\n",
       " 0.0  0.0  -0.00539758   -0.00943942    0.0115652    0.0\n",
       " 0.0  0.0  -0.0378654     0.00134556   -0.00164858   0.0\n",
       " 0.0  0.0   0.0           0.000709253   0.00958961   0.0\n",
       " 0.0  0.0   0.0           0.0           0.0          0.0\n",
       " 0.0  0.0   0.0           0.0           0.0          0.0\n",
       " 0.0  0.0   0.0           0.0           0.0          0.0\n",
       " 0.0  0.0   0.0           0.0           0.0          0.0\n",
       " 0.0  0.0   0.0           0.0           0.0          0.0"
      ]
     },
     "execution_count": 15,
     "metadata": {},
     "output_type": "execute_result"
    }
   ],
   "source": [
    "ForwardDiff.jacobian(x -> ForwardDiff.jacobian(F, x), [1,2,3,4,5,6])"
   ]
  },
  {
   "cell_type": "code",
   "execution_count": 6,
   "metadata": {},
   "outputs": [
    {
     "data": {
      "text/plain": [
       "z (generic function with 1 method)"
      ]
     },
     "execution_count": 6,
     "metadata": {},
     "output_type": "execute_result"
    }
   ],
   "source": [
    "z(x, p) = sqrt(x^2 + p^2) - p"
   ]
  },
  {
   "cell_type": "code",
   "execution_count": 7,
   "metadata": {},
   "outputs": [
    {
     "data": {
      "text/plain": [
       "L (generic function with 4 methods)"
      ]
     },
     "execution_count": 7,
     "metadata": {},
     "output_type": "execute_result"
    }
   ],
   "source": [
    "function L(x_u, p = [0.1, 0.1, 0.01, 1] , c_w = 0.01, c_a = 0.0001)\n",
    "    x, y, theta, v, w, a = x_u\n",
    "    p_x, p_y, p_theta, p_v = p\n",
    "    0.01(z(x, p_x) + z(y, p_y)) + c_w * w^2 + c_a * a^2\n",
    "end"
   ]
  },
  {
   "cell_type": "code",
   "execution_count": 20,
   "metadata": {},
   "outputs": [
    {
     "data": {
      "text/plain": [
       "dL (generic function with 1 method)"
      ]
     },
     "execution_count": 20,
     "metadata": {},
     "output_type": "execute_result"
    }
   ],
   "source": [
    "dL(x, u) = ForwardDiff.gradient(L, vcat(x, u))"
   ]
  },
  {
   "cell_type": "code",
   "execution_count": 21,
   "metadata": {
    "scrolled": true
   },
   "outputs": [
    {
     "data": {
      "text/plain": [
       "6-element Array{Float64,1}:\n",
       " 0.009950371902099893 \n",
       " 0.009987523388778447 \n",
       " 0.0                  \n",
       " 0.0                  \n",
       " 0.1                  \n",
       " 0.0012000000000000001"
      ]
     },
     "execution_count": 21,
     "metadata": {},
     "output_type": "execute_result"
    }
   ],
   "source": [
    "dL(1:4, 5:6)"
   ]
  },
  {
   "cell_type": "code",
   "execution_count": 36,
   "metadata": {
    "scrolled": true
   },
   "outputs": [
    {
     "data": {
      "text/plain": [
       "d2L (generic function with 1 method)"
      ]
     },
     "execution_count": 36,
     "metadata": {},
     "output_type": "execute_result"
    }
   ],
   "source": [
    "d2L(x, u) = ForwardDiff.hessian(L, vcat(x, u))"
   ]
  },
  {
   "cell_type": "code",
   "execution_count": 37,
   "metadata": {},
   "outputs": [
    {
     "data": {
      "text/plain": [
       "6×6 Array{Float64,2}:\n",
       " 9.85185e-5  0.0         0.0  0.0  0.0   0.0   \n",
       " 0.0         1.24533e-5  0.0  0.0  0.0   0.0   \n",
       " 0.0         0.0         0.0  0.0  0.0   0.0   \n",
       " 0.0         0.0         0.0  0.0  0.0   0.0   \n",
       " 0.0         0.0         0.0  0.0  0.02  0.0   \n",
       " 0.0         0.0         0.0  0.0  0.0   0.0002"
      ]
     },
     "execution_count": 37,
     "metadata": {},
     "output_type": "execute_result"
    }
   ],
   "source": [
    "d2L(1:4, 5:6)"
   ]
  },
  {
   "cell_type": "code",
   "execution_count": 24,
   "metadata": {},
   "outputs": [],
   "source": [
    "using DiffResults"
   ]
  },
  {
   "cell_type": "code",
   "execution_count": 77,
   "metadata": {},
   "outputs": [
    {
     "data": {
      "text/plain": [
       "diffs_L (generic function with 1 method)"
      ]
     },
     "execution_count": 77,
     "metadata": {},
     "output_type": "execute_result"
    }
   ],
   "source": [
    "function diffs_L(x, u)\n",
    "    xu = convert(Array{Float64,1}, vcat(x, u))\n",
    "    result = DiffResults.HessianResult(xu)\n",
    "    result = ForwardDiff.hessian!(result, L, xu)\n",
    "    return DiffResults.gradient(result), DiffResults.hessian(result)\n",
    "end"
   ]
  },
  {
   "cell_type": "code",
   "execution_count": 80,
   "metadata": {},
   "outputs": [
    {
     "data": {
      "text/plain": [
       "6-element Array{Float64,1}:\n",
       " 0.009950371902099893 \n",
       " 0.009987523388778447 \n",
       " 0.0                  \n",
       " 0.0                  \n",
       " 0.1                  \n",
       " 0.0012000000000000001"
      ]
     },
     "execution_count": 80,
     "metadata": {},
     "output_type": "execute_result"
    }
   ],
   "source": [
    "diffs_L(1:4, 5:6)[1]"
   ]
  },
  {
   "cell_type": "code",
   "execution_count": 59,
   "metadata": {
    "scrolled": true
   },
   "outputs": [
    {
     "data": {
      "text/plain": [
       "6-element Array{Float64,1}:\n",
       " 0.9030398955678853 \n",
       " 0.2555628357198967 \n",
       " 0.9360409177664868 \n",
       " 0.4465676944843706 \n",
       " 0.02204039417947623\n",
       " 0.8240925739974103 "
      ]
     },
     "execution_count": 59,
     "metadata": {},
     "output_type": "execute_result"
    }
   ],
   "source": [
    "xu = rand(6)"
   ]
  },
  {
   "cell_type": "code",
   "execution_count": 72,
   "metadata": {
    "scrolled": true
   },
   "outputs": [
    {
     "data": {
      "text/plain": [
       "6-element Array{Int64,1}:\n",
       " 1\n",
       " 2\n",
       " 3\n",
       " 4\n",
       " 5\n",
       " 6"
      ]
     },
     "execution_count": 72,
     "metadata": {},
     "output_type": "execute_result"
    }
   ],
   "source": [
    "xu = Vector(1:6)"
   ]
  },
  {
   "cell_type": "code",
   "execution_count": 73,
   "metadata": {},
   "outputs": [
    {
     "data": {
      "text/plain": [
       "MutableDiffResult(1, ([2, 1, 1, 4, 1, 1], [0 0 0 0 0 0; 0 0 0 0 0 0; 0 0 0 0 0 0; 0 0 0 0 0 0; 0 0 0 0 0 0; 0 0 0 0 0 0]))"
      ]
     },
     "execution_count": 73,
     "metadata": {},
     "output_type": "execute_result"
    }
   ],
   "source": [
    "result = DiffResults.HessianResult(xu)"
   ]
  },
  {
   "cell_type": "code",
   "execution_count": 75,
   "metadata": {
    "scrolled": true
   },
   "outputs": [
    {
     "ename": "InexactError",
     "evalue": "InexactError: Int64(Int64, 22.11744686954993)",
     "output_type": "error",
     "traceback": [
      "InexactError: Int64(Int64, 22.11744686954993)",
      "",
      "Stacktrace:",
      " [1] Type at .\\float.jl:700 [inlined]",
      " [2] convert at .\\number.jl:7 [inlined]",
      " [3] convert at C:\\Users\\limen\\.julia\\packages\\ForwardDiff\\N0wMF\\src\\dual.jl:355 [inlined]",
      " [4] setproperty! at .\\sysimg.jl:19 [inlined]",
      " [5] value! at C:\\Users\\limen\\.julia\\packages\\DiffResults\\FsQMZ\\src\\DiffResults.jl:159 [inlined]",
      " [6] extract_gradient! at C:\\Users\\limen\\.julia\\packages\\ForwardDiff\\N0wMF\\src\\gradient.jl:71 [inlined]",
      " [7] vector_mode_gradient! at C:\\Users\\limen\\.julia\\packages\\ForwardDiff\\N0wMF\\src\\gradient.jl:104 [inlined]",
      " [8] gradient!(::DiffResults.MutableDiffResult{1,ForwardDiff.Dual{ForwardDiff.Tag{typeof(l),Int64},Int64,6},Tuple{Array{ForwardDiff.Dual{ForwardDiff.Tag{typeof(l),Int64},Int64,6},1}}}, ::typeof(l), ::Array{ForwardDiff.Dual{ForwardDiff.Tag{typeof(l),Int64},Int64,6},1}, ::ForwardDiff.GradientConfig{ForwardDiff.Tag{typeof(l),Int64},ForwardDiff.Dual{ForwardDiff.Tag{typeof(l),Int64},Int64,6},6,Array{ForwardDiff.Dual{ForwardDiff.Tag{typeof(l),Int64},ForwardDiff.Dual{ForwardDiff.Tag{typeof(l),Int64},Int64,6},6},1}}, ::Val{false}) at C:\\Users\\limen\\.julia\\packages\\ForwardDiff\\N0wMF\\src\\gradient.jl:35",
      " [9] InnerGradientForHess at C:\\Users\\limen\\.julia\\packages\\ForwardDiff\\N0wMF\\src\\hessian.jl:50 [inlined]",
      " [10] vector_mode_dual_eval(::ForwardDiff.InnerGradientForHess{DiffResults.MutableDiffResult{2,Int64,Tuple{Array{Int64,1},Array{Int64,2}}},ForwardDiff.HessianConfig{ForwardDiff.Tag{typeof(l),Int64},Int64,6,Array{ForwardDiff.Dual{ForwardDiff.Tag{typeof(l),Int64},ForwardDiff.Dual{ForwardDiff.Tag{typeof(l),Int64},Int64,6},6},1},Tuple{Array{ForwardDiff.Dual{ForwardDiff.Tag{typeof(l),Int64},Int64,6},1},Array{ForwardDiff.Dual{ForwardDiff.Tag{typeof(l),Int64},Int64,6},1}}},typeof(l)}, ::Array{Int64,1}, ::Array{Int64,1}, ::ForwardDiff.JacobianConfig{ForwardDiff.Tag{typeof(l),Int64},Int64,6,Tuple{Array{ForwardDiff.Dual{ForwardDiff.Tag{typeof(l),Int64},Int64,6},1},Array{ForwardDiff.Dual{ForwardDiff.Tag{typeof(l),Int64},Int64,6},1}}}) at C:\\Users\\limen\\.julia\\packages\\ForwardDiff\\N0wMF\\src\\apiutils.jl:44",
      " [11] vector_mode_jacobian!(::Array{Int64,2}, ::ForwardDiff.InnerGradientForHess{DiffResults.MutableDiffResult{2,Int64,Tuple{Array{Int64,1},Array{Int64,2}}},ForwardDiff.HessianConfig{ForwardDiff.Tag{typeof(l),Int64},Int64,6,Array{ForwardDiff.Dual{ForwardDiff.Tag{typeof(l),Int64},ForwardDiff.Dual{ForwardDiff.Tag{typeof(l),Int64},Int64,6},6},1},Tuple{Array{ForwardDiff.Dual{ForwardDiff.Tag{typeof(l),Int64},Int64,6},1},Array{ForwardDiff.Dual{ForwardDiff.Tag{typeof(l),Int64},Int64,6},1}}},typeof(l)}, ::Array{Int64,1}, ::Array{Int64,1}, ::ForwardDiff.JacobianConfig{ForwardDiff.Tag{typeof(l),Int64},Int64,6,Tuple{Array{ForwardDiff.Dual{ForwardDiff.Tag{typeof(l),Int64},Int64,6},1},Array{ForwardDiff.Dual{ForwardDiff.Tag{typeof(l),Int64},Int64,6},1}}}) at C:\\Users\\limen\\.julia\\packages\\ForwardDiff\\N0wMF\\src\\jacobian.jl:164",
      " [12] jacobian!(::Array{Int64,2}, ::ForwardDiff.InnerGradientForHess{DiffResults.MutableDiffResult{2,Int64,Tuple{Array{Int64,1},Array{Int64,2}}},ForwardDiff.HessianConfig{ForwardDiff.Tag{typeof(l),Int64},Int64,6,Array{ForwardDiff.Dual{ForwardDiff.Tag{typeof(l),Int64},ForwardDiff.Dual{ForwardDiff.Tag{typeof(l),Int64},Int64,6},6},1},Tuple{Array{ForwardDiff.Dual{ForwardDiff.Tag{typeof(l),Int64},Int64,6},1},Array{ForwardDiff.Dual{ForwardDiff.Tag{typeof(l),Int64},Int64,6},1}}},typeof(l)}, ::Array{Int64,1}, ::Array{Int64,1}, ::ForwardDiff.JacobianConfig{ForwardDiff.Tag{typeof(l),Int64},Int64,6,Tuple{Array{ForwardDiff.Dual{ForwardDiff.Tag{typeof(l),Int64},Int64,6},1},Array{ForwardDiff.Dual{ForwardDiff.Tag{typeof(l),Int64},Int64,6},1}}}, ::Val{false}) at C:\\Users\\limen\\.julia\\packages\\ForwardDiff\\N0wMF\\src\\jacobian.jl:74",
      " [13] hessian!(::DiffResults.MutableDiffResult{2,Int64,Tuple{Array{Int64,1},Array{Int64,2}}}, ::Function, ::Array{Int64,1}, ::ForwardDiff.HessianConfig{ForwardDiff.Tag{typeof(l),Int64},Int64,6,Array{ForwardDiff.Dual{ForwardDiff.Tag{typeof(l),Int64},ForwardDiff.Dual{ForwardDiff.Tag{typeof(l),Int64},Int64,6},6},1},Tuple{Array{ForwardDiff.Dual{ForwardDiff.Tag{typeof(l),Int64},Int64,6},1},Array{ForwardDiff.Dual{ForwardDiff.Tag{typeof(l),Int64},Int64,6},1}}}, ::Val{true}) at C:\\Users\\limen\\.julia\\packages\\ForwardDiff\\N0wMF\\src\\hessian.jl:67",
      " [14] hessian!(::DiffResults.MutableDiffResult{2,Int64,Tuple{Array{Int64,1},Array{Int64,2}}}, ::Function, ::Array{Int64,1}, ::ForwardDiff.HessianConfig{ForwardDiff.Tag{typeof(l),Int64},Int64,6,Array{ForwardDiff.Dual{ForwardDiff.Tag{typeof(l),Int64},ForwardDiff.Dual{ForwardDiff.Tag{typeof(l),Int64},Int64,6},6},1},Tuple{Array{ForwardDiff.Dual{ForwardDiff.Tag{typeof(l),Int64},Int64,6},1},Array{ForwardDiff.Dual{ForwardDiff.Tag{typeof(l),Int64},Int64,6},1}}}) at C:\\Users\\limen\\.julia\\packages\\ForwardDiff\\N0wMF\\src\\hessian.jl:65 (repeats 2 times)",
      " [15] top-level scope at In[75]:1"
     ]
    }
   ],
   "source": [
    "result = ForwardDiff.hessian!(result, l, xu)"
   ]
  },
  {
   "cell_type": "code",
   "execution_count": 76,
   "metadata": {},
   "outputs": [
    {
     "data": {
      "text/plain": [
       "6-element Array{Int64,1}:\n",
       " 2\n",
       " 1\n",
       " 1\n",
       " 4\n",
       " 1\n",
       " 1"
      ]
     },
     "execution_count": 76,
     "metadata": {},
     "output_type": "execute_result"
    }
   ],
   "source": [
    "DiffResults.gradient(result)"
   ]
  },
  {
   "cell_type": "code",
   "execution_count": 71,
   "metadata": {
    "scrolled": true
   },
   "outputs": [
    {
     "data": {
      "text/plain": [
       "6×6 Array{Float64,2}:\n",
       " 9.85185e-5  0.0         0.0  0.0  0.0   0.0   \n",
       " 0.0         1.24533e-5  0.0  0.0  0.0   0.0   \n",
       " 0.0         0.0         0.0  0.0  0.0   0.0   \n",
       " 0.0         0.0         0.0  0.0  0.0   0.0   \n",
       " 0.0         0.0         0.0  0.0  0.02  0.0   \n",
       " 0.0         0.0         0.0  0.0  0.0   0.0002"
      ]
     },
     "execution_count": 71,
     "metadata": {},
     "output_type": "execute_result"
    }
   ],
   "source": [
    "DiffResults.hessian(result)"
   ]
  },
  {
   "cell_type": "code",
   "execution_count": 81,
   "metadata": {},
   "outputs": [
    {
     "data": {
      "text/plain": [
       "Lf (generic function with 3 methods)"
      ]
     },
     "execution_count": 81,
     "metadata": {},
     "output_type": "execute_result"
    }
   ],
   "source": [
    "Lf(x, p = [0.1, 0.1, 0.01, 1]; weight = 100000) =\n",
    "    weight * (z(x[1], p[1]) + z(x[2], p[2]) + z(x[3], p[3]) + z(x[4], p[4]))"
   ]
  },
  {
   "cell_type": "code",
   "execution_count": 83,
   "metadata": {},
   "outputs": [
    {
     "data": {
      "text/plain": [
       "diffs_Lf (generic function with 1 method)"
      ]
     },
     "execution_count": 83,
     "metadata": {},
     "output_type": "execute_result"
    }
   ],
   "source": [
    "function diffs_Lf(x)\n",
    "    x = convert(Array{Float64,1}, x)\n",
    "    result = DiffResults.HessianResult(x)\n",
    "    result = ForwardDiff.hessian!(result, Lf, x)\n",
    "    return DiffResults.gradient(result), DiffResults.hessian(result)\n",
    "end"
   ]
  },
  {
   "cell_type": "code",
   "execution_count": 84,
   "metadata": {},
   "outputs": [
    {
     "data": {
      "text/plain": [
       "([99503.7, 99875.2, 99999.4, 97014.3], [985.185 0.0 0.0 0.0; 0.0 124.533 0.0 0.0; 0.0 0.0 0.370364 0.0; 0.0 0.0 0.0 1426.68])"
      ]
     },
     "execution_count": 84,
     "metadata": {},
     "output_type": "execute_result"
    }
   ],
   "source": [
    "diffs_Lf(1:4)"
   ]
  },
  {
   "cell_type": "code",
   "execution_count": 9,
   "metadata": {},
   "outputs": [
    {
     "data": {
      "text/plain": [
       "j (generic function with 2 methods)"
      ]
     },
     "execution_count": 9,
     "metadata": {},
     "output_type": "execute_result"
    }
   ],
   "source": [
    "function j(U, x0 = [1, 1, 3/2 * pi, 0]; N = 0)# loss of (x_N, u_N)\n",
    "    x = x0\n",
    "    for i in 1:N\n",
    "        x = F(vcat(x0, U[2i-1:2i]))\n",
    "    end \n",
    "    L(vcat(x, U[2N+1:2N+2]))\n",
    "end"
   ]
  },
  {
   "cell_type": "code",
   "execution_count": 10,
   "metadata": {},
   "outputs": [
    {
     "data": {
      "text/plain": [
       "jf (generic function with 2 methods)"
      ]
     },
     "execution_count": 10,
     "metadata": {},
     "output_type": "execute_result"
    }
   ],
   "source": [
    "function jf(U, x0 = [1, 1, 3/2 * pi, 0]; N = 100)# final loss of x_N\n",
    "    x = x0\n",
    "    for i in 1:N\n",
    "        x = F(vcat(x0, U[2i-1:2i]))\n",
    "    end\n",
    "    Lf(x)\n",
    "end"
   ]
  },
  {
   "cell_type": "code",
   "execution_count": 12,
   "metadata": {},
   "outputs": [
    {
     "data": {
      "text/plain": [
       "J (generic function with 1 method)"
      ]
     },
     "execution_count": 12,
     "metadata": {},
     "output_type": "execute_result"
    }
   ],
   "source": [
    "J(U; N = 100) = sum(j(U, N = i) for i in 0:N-1) + jf(U; N = N)"
   ]
  },
  {
   "cell_type": "code",
   "execution_count": 13,
   "metadata": {},
   "outputs": [
    {
     "data": {
      "text/plain": [
       "DDP(1, 100, [1.0, 1.0, 4.71239, 0.0], [0.1, 0.1, 0.01, 1.0])"
      ]
     },
     "execution_count": 13,
     "metadata": {},
     "output_type": "execute_result"
    }
   ],
   "source": [
    "car = DDP(1, 100, [1, 1, 3/2 * pi, 0], [0.1, 0.1, 0.01, 1])"
   ]
  },
  {
   "cell_type": "code",
   "execution_count": 86,
   "metadata": {},
   "outputs": [
    {
     "data": {
      "text/plain": [
       "10-element Array{Array{Int64,1},1}:\n",
       " [1, 1]\n",
       " [1, 1]\n",
       " [1, 1]\n",
       " [1, 1]\n",
       " [1, 1]\n",
       " [1, 1]\n",
       " [1, 1]\n",
       " [1, 1]\n",
       " [1, 1]\n",
       " [1, 1]"
      ]
     },
     "execution_count": 86,
     "metadata": {},
     "output_type": "execute_result"
    }
   ],
   "source": [
    "[[1, 1] for _ in 1:10]"
   ]
  },
  {
   "cell_type": "code",
   "execution_count": null,
   "metadata": {},
   "outputs": [],
   "source": []
  }
 ],
 "metadata": {
  "kernelspec": {
   "display_name": "Julia 1.0.1",
   "language": "julia",
   "name": "julia-1.0"
  },
  "language_info": {
   "file_extension": ".jl",
   "mimetype": "application/julia",
   "name": "julia",
   "version": "1.0.1"
  }
 },
 "nbformat": 4,
 "nbformat_minor": 2
}
