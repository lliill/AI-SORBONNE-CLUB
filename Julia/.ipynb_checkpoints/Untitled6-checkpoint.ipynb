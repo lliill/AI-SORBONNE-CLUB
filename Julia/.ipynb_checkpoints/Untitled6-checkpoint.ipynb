{
 "cells": [
  {
   "cell_type": "code",
   "execution_count": 1,
   "metadata": {},
   "outputs": [],
   "source": [
    "include(\"./DDP.jl\")\n",
    "\n",
    "using .DDP"
   ]
  },
  {
   "cell_type": "code",
   "execution_count": 2,
   "metadata": {},
   "outputs": [],
   "source": [
    "using ForwardDiff, DiffResults"
   ]
  },
  {
   "cell_type": "code",
   "execution_count": 3,
   "metadata": {},
   "outputs": [
    {
     "data": {
      "text/plain": [
       "Lf (generic function with 1 method)"
      ]
     },
     "execution_count": 3,
     "metadata": {},
     "output_type": "execute_result"
    }
   ],
   "source": [
    "z(x, p) = sqrt(x^2 + p^2) - p\n",
    "\n",
    "function L(x_u)\n",
    "    x, y, theta, v, w, a = x_u\n",
    "    p_x, p_y, p_theta, p_v = P\n",
    "    0.01(z(x, p_x) + z(y, p_y)) + C_W * w^2 + C_A * a^2\n",
    "end\n",
    "\n",
    "Lf(x) =\n",
    "    WEIGHT * (z(x[1], P[1]) + z(x[2], P[2]) + z(x[3], P[3]) + z(x[4], P[4]))"
   ]
  },
  {
   "cell_type": "code",
   "execution_count": 4,
   "metadata": {},
   "outputs": [
    {
     "data": {
      "text/plain": [
       "1"
      ]
     },
     "execution_count": 4,
     "metadata": {},
     "output_type": "execute_result"
    }
   ],
   "source": [
    "const T = 1\n",
    "const N = 100\n",
    "const H = T/N\n",
    "\n",
    "const D = 4\n",
    "\n",
    "const X1 = [1, 1, 3/2 * pi, 0]\n",
    "const P  = [0.1, 0.1, 0.01, 1]\n",
    "\n",
    "const DIM_x = 4\n",
    "const DIM_u = 2\n",
    "const DIM = DIM_x + DIM_u\n",
    "\n",
    "const C_W = 0.01\n",
    "const C_A = 0.0001\n",
    "\n",
    "const WEIGHT = 1"
   ]
  },
  {
   "cell_type": "code",
   "execution_count": 5,
   "metadata": {},
   "outputs": [
    {
     "data": {
      "text/plain": [
       "LQR([1.0, 1.0, 4.71239, 0.0], [0.1, 0.1, 0.01, 1.0], 2, 1, 100, Main.DDP.Trajectory(Array{Float64,1}[[1.0, 1.0, 4.71239, 0.0], [1.0, 1.0, 4.71239, 0.0], [1.0, 1.0, 4.71239, 0.0], [1.0, 1.0, 4.71239, 0.0], [1.0, 1.0, 4.71239, 0.0], [1.0, 1.0, 4.71239, 0.0], [1.0, 1.0, 4.71239, 0.0], [1.0, 1.0, 4.71239, 0.0], [1.0, 1.0, 4.71239, 0.0], [1.0, 1.0, 4.71239, 0.0]  …  [1.0, 1.0, 4.71239, 0.0], [1.0, 1.0, 4.71239, 0.0], [1.0, 1.0, 4.71239, 0.0], [1.0, 1.0, 4.71239, 0.0], [1.0, 1.0, 4.71239, 0.0], [1.0, 1.0, 4.71239, 0.0], [1.0, 1.0, 4.71239, 0.0], [1.0, 1.0, 4.71239, 0.0], [1.0, 1.0, 4.71239, 0.0], [1.0, 1.0, 4.71239, 0.0]], Array{Float64,1}[[0.0, 0.0], [0.0, 0.0], [0.0, 0.0], [0.0, 0.0], [0.0, 0.0], [0.0, 0.0], [0.0, 0.0], [0.0, 0.0], [0.0, 0.0], [0.0, 0.0]  …  [0.0, 0.0], [0.0, 0.0], [0.0, 0.0], [0.0, 0.0], [0.0, 0.0], [0.0, 0.0], [0.0, 0.0], [0.0, 0.0], [0.0, 0.0], [0.0, 0.0]]))"
      ]
     },
     "execution_count": 5,
     "metadata": {},
     "output_type": "execute_result"
    }
   ],
   "source": [
    "car = LQR(X1, P, DIM_u, T, N)"
   ]
  },
  {
   "cell_type": "code",
   "execution_count": 6,
   "metadata": {},
   "outputs": [
    {
     "ename": "UndefVarError",
     "evalue": "UndefVarError: N not defined",
     "output_type": "error",
     "traceback": [
      "UndefVarError: N not defined",
      "",
      "Stacktrace:",
      " [1] J(::Array{Float64,1}) at C:\\Users\\limen\\AI-SORBONNE-CLUB\\Julia\\DDP.jl:59",
      " [2] J(::Array{Array{Float64,1},1}) at C:\\Users\\limen\\AI-SORBONNE-CLUB\\Julia\\DDP.jl:60",
      " [3] top-level scope at In[6]:1"
     ]
    }
   ],
   "source": [
    "J(car.path.U)"
   ]
  },
  {
   "cell_type": "code",
   "execution_count": null,
   "metadata": {},
   "outputs": [],
   "source": []
  }
 ],
 "metadata": {
  "kernelspec": {
   "display_name": "Julia 1.0.1",
   "language": "julia",
   "name": "julia-1.0"
  },
  "language_info": {
   "file_extension": ".jl",
   "mimetype": "application/julia",
   "name": "julia",
   "version": "1.0.1"
  }
 },
 "nbformat": 4,
 "nbformat_minor": 2
}
