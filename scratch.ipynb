{
 "cells": [
  {
   "cell_type": "code",
   "execution_count": 1,
   "metadata": {},
   "outputs": [],
   "source": [
    "f(x) = x"
   ]
  },
  {
   "cell_type": "code",
   "execution_count": 2,
   "metadata": {},
   "outputs": [],
   "source": [
    "g(x, y) = (f(x), y)"
   ]
  },
  {
   "cell_type": "code",
   "execution_count": 4,
   "metadata": {},
   "outputs": [
    {
     "data": {
      "text/plain": [
       "(x, y) |--> (x, y)"
      ]
     },
     "execution_count": 4,
     "metadata": {},
     "output_type": "execute_result"
    }
   ],
   "source": [
    "g"
   ]
  },
  {
   "cell_type": "code",
   "execution_count": 5,
   "metadata": {},
   "outputs": [],
   "source": [
    "p_x = 0.1\n",
    "p_y = 0.1\n",
    "p_theta = 0.01\n",
    "p_v = 1"
   ]
  },
  {
   "cell_type": "code",
   "execution_count": 6,
   "metadata": {},
   "outputs": [],
   "source": [
    "c_w = 0.01\n",
    "c_a = 0.0001"
   ]
  },
  {
   "cell_type": "code",
   "execution_count": 7,
   "metadata": {},
   "outputs": [],
   "source": [
    "T = 10; N = 1000; h = T/N; \n",
    "d = 4"
   ]
  },
  {
   "cell_type": "code",
   "execution_count": 8,
   "metadata": {},
   "outputs": [],
   "source": [
    "f(v) = h*v"
   ]
  },
  {
   "cell_type": "code",
   "execution_count": 9,
   "metadata": {},
   "outputs": [],
   "source": [
    "b(v, w) = f(v) * cos(w) + d - sqrt(d**2 - f(v)**2 * sin(w)**2)"
   ]
  },
  {
   "cell_type": "code",
   "execution_count": 14,
   "metadata": {},
   "outputs": [
    {
     "data": {
      "text/plain": [
       "(v, w) |--> 1/100*v*cos(w) - sqrt(-1/10000*v^2*sin(w)^2 + 16) + 4"
      ]
     },
     "execution_count": 14,
     "metadata": {},
     "output_type": "execute_result"
    }
   ],
   "source": [
    "b"
   ]
  },
  {
   "cell_type": "code",
   "execution_count": 10,
   "metadata": {},
   "outputs": [],
   "source": [
    "F(x, y, theta, v, w, a) = ( \\\n",
    "x + b(v,w) * cos(theta), \\\n",
    "y + b(v,w) * sin(theta), \\\n",
    "theta + arcsin(sin(w) * f(v)/d), \\\n",
    "v + h*a)"
   ]
  },
  {
   "cell_type": "code",
   "execution_count": 67,
   "metadata": {},
   "outputs": [
    {
     "data": {
      "text/plain": [
       "[                                                                                                                                                                                                               0                                                                                                                                                                                                                0                                                                                                                                                                                                                0                                                                                                                                                                                                                0                                                                                                                                                                                                                0                                                                                                                                                                                                                0]\n",
       "[                                                                                                                                                                                                               0                                                                                                                                                                                                                0                                                                                                                                                                                                                0                                                                                                                                                                                                                0                                                                                                                                                                                                                0                                                                                                                                                                                                                0]\n",
       "[                                                                                                                                                                                                               0                                                                                                                                                                                                                0                                                                                                                                        -1/100*(v*cos(w) - 100*sqrt(-1/10000*v^2*sin(w)^2 + 16) + 400)*sin(theta)                                                                                                                                    1/10000*(v*sin(w)^2/sqrt(-1/10000*v^2*sin(w)^2 + 16) + 100*cos(w))*cos(theta)                                                                                                                           1/10000*(v^2*cos(w)*sin(w)/sqrt(-1/10000*v^2*sin(w)^2 + 16) - 100*v*sin(w))*cos(theta)                                                                                                                                                                                                                0]\n",
       "[                                                                                                                                                                                                               0                                                                                                                                                                                                                0                                                                                                                                    1/10000*(v*sin(w)^2/sqrt(-1/10000*v^2*sin(w)^2 + 16) + 100*cos(w))*cos(theta)                                                                                       1/100000000*(v^2*sin(w)^4/(-1/10000*v^2*sin(w)^2 + 16)^(3/2) + 10000*sin(w)^2/sqrt(-1/10000*v^2*sin(w)^2 + 16))*sin(theta)                                                        1/100000000*(v^3*cos(w)*sin(w)^3/(-1/10000*v^2*sin(w)^2 + 16)^(3/2) + 20000*v*cos(w)*sin(w)/sqrt(-1/10000*v^2*sin(w)^2 + 16) - 1000000*sin(w))*sin(theta)                                                                                                                                                                                                                0]\n",
       "[                                                                                                                                                                                                               0                                                                                                                                                                                                                0                                                                                                                           1/10000*(v^2*cos(w)*sin(w)/sqrt(-1/10000*v^2*sin(w)^2 + 16) - 100*v*sin(w))*cos(theta)                                                        1/100000000*(v^3*cos(w)*sin(w)^3/(-1/10000*v^2*sin(w)^2 + 16)^(3/2) + 20000*v*cos(w)*sin(w)/sqrt(-1/10000*v^2*sin(w)^2 + 16) - 1000000*sin(w))*sin(theta) 1/100000000*(v^4*cos(w)^2*sin(w)^2/(-1/10000*v^2*sin(w)^2 + 16)^(3/2) + 10000*v^2*cos(w)^2/sqrt(-1/10000*v^2*sin(w)^2 + 16) - 10000*v^2*sin(w)^2/sqrt(-1/10000*v^2*sin(w)^2 + 16) - 1000000*v*cos(w))*sin(theta)                                                                                                                                                                                                                0]\n",
       "[                                                                                                                                                                                                               0                                                                                                                                                                                                                0                                                                                                                                                                                                                0                                                                                                                                                                                                                0                                                                                                                                                                                                                0                                                                                                                                                                                                                0]"
      ]
     },
     "execution_count": 67,
     "metadata": {},
     "output_type": "execute_result"
    }
   ],
   "source": [
    "F[1].hessian()(x, y, theta, v, w, a)"
   ]
  },
  {
   "cell_type": "code",
   "execution_count": 77,
   "metadata": {},
   "outputs": [],
   "source": [
    "G = diff(F)\n"
   ]
  },
  {
   "cell_type": "code",
   "execution_count": 78,
   "metadata": {},
   "outputs": [
    {
     "data": {
      "text/plain": [
       "[                                                                                     (x, y, theta, v, w, a) |--> 1                                                                                      (x, y, theta, v, w, a) |--> 0              (x, y, theta, v, w, a) |--> -1/100*(v*cos(w) - 100*sqrt(-1/10000*v^2*sin(w)^2 + 16) + 400)*sin(theta)          (x, y, theta, v, w, a) |--> 1/10000*(v*sin(w)^2/sqrt(-1/10000*v^2*sin(w)^2 + 16) + 100*cos(w))*cos(theta) (x, y, theta, v, w, a) |--> 1/10000*(v^2*cos(w)*sin(w)/sqrt(-1/10000*v^2*sin(w)^2 + 16) - 100*v*sin(w))*cos(theta)                                                                                      (x, y, theta, v, w, a) |--> 0]\n",
       "[                                                                                     (x, y, theta, v, w, a) |--> 0                                                                                      (x, y, theta, v, w, a) |--> 1               (x, y, theta, v, w, a) |--> 1/100*(v*cos(w) - 100*sqrt(-1/10000*v^2*sin(w)^2 + 16) + 400)*cos(theta)          (x, y, theta, v, w, a) |--> 1/10000*(v*sin(w)^2/sqrt(-1/10000*v^2*sin(w)^2 + 16) + 100*cos(w))*sin(theta) (x, y, theta, v, w, a) |--> 1/10000*(v^2*cos(w)*sin(w)/sqrt(-1/10000*v^2*sin(w)^2 + 16) - 100*v*sin(w))*sin(theta)                                                                                      (x, y, theta, v, w, a) |--> 0]\n",
       "[                                                                                     (x, y, theta, v, w, a) |--> 0                                                                                      (x, y, theta, v, w, a) |--> 0                                                                                      (x, y, theta, v, w, a) |--> 1                                          (x, y, theta, v, w, a) |--> 1/400*sin(w)/sqrt(-1/160000*v^2*sin(w)^2 + 1)                                        (x, y, theta, v, w, a) |--> 1/400*v*cos(w)/sqrt(-1/160000*v^2*sin(w)^2 + 1)                                                                                      (x, y, theta, v, w, a) |--> 0]\n",
       "[                                                                                     (x, y, theta, v, w, a) |--> 0                                                                                      (x, y, theta, v, w, a) |--> 0                                                                                      (x, y, theta, v, w, a) |--> 0                                                                                      (x, y, theta, v, w, a) |--> 1                                                                                      (x, y, theta, v, w, a) |--> 0                                                                                  (x, y, theta, v, w, a) |--> 1/100]"
      ]
     },
     "execution_count": 78,
     "metadata": {},
     "output_type": "execute_result"
    }
   ],
   "source": [
    "G"
   ]
  },
  {
   "cell_type": "code",
   "execution_count": 73,
   "metadata": {},
   "outputs": [
    {
     "ename": "TypeError",
     "evalue": "base_ring (=Category of objects) must be a ring",
     "output_type": "error",
     "traceback": [
      "\u001b[0;31m---------------------------------------------------------------------------\u001b[0m",
      "\u001b[0;31mTypeError\u001b[0m                                 Traceback (most recent call last)",
      "\u001b[0;32m<ipython-input-73-b02858c4bd28>\u001b[0m in \u001b[0;36m<module>\u001b[0;34m()\u001b[0m\n\u001b[0;32m----> 1\u001b[0;31m \u001b[0mdiff\u001b[0m\u001b[0;34m(\u001b[0m\u001b[0mdiff\u001b[0m\u001b[0;34m(\u001b[0m\u001b[0mF\u001b[0m\u001b[0;34m)\u001b[0m\u001b[0;34m)\u001b[0m\u001b[0;34m\u001b[0m\u001b[0m\n\u001b[0m",
      "\u001b[0;32m/opt/sagemath-8.6/local/lib/python2.7/site-packages/sage/calculus/functional.pyc\u001b[0m in \u001b[0;36mderivative\u001b[0;34m(f, *args, **kwds)\u001b[0m\n\u001b[1;32m    129\u001b[0m     \"\"\"\n\u001b[1;32m    130\u001b[0m     \u001b[0;32mtry\u001b[0m\u001b[0;34m:\u001b[0m\u001b[0;34m\u001b[0m\u001b[0m\n\u001b[0;32m--> 131\u001b[0;31m         \u001b[0;32mreturn\u001b[0m \u001b[0mf\u001b[0m\u001b[0;34m.\u001b[0m\u001b[0mderivative\u001b[0m\u001b[0;34m(\u001b[0m\u001b[0;34m*\u001b[0m\u001b[0margs\u001b[0m\u001b[0;34m,\u001b[0m \u001b[0;34m**\u001b[0m\u001b[0mkwds\u001b[0m\u001b[0;34m)\u001b[0m\u001b[0;34m\u001b[0m\u001b[0m\n\u001b[0m\u001b[1;32m    132\u001b[0m     \u001b[0;32mexcept\u001b[0m \u001b[0mAttributeError\u001b[0m\u001b[0;34m:\u001b[0m\u001b[0;34m\u001b[0m\u001b[0m\n\u001b[1;32m    133\u001b[0m         \u001b[0;32mpass\u001b[0m\u001b[0;34m\u001b[0m\u001b[0m\n",
      "\u001b[0;32m/opt/sagemath-8.6/local/lib/python2.7/site-packages/sage/matrix/matrix2.pyx\u001b[0m in \u001b[0;36msage.matrix.matrix2.Matrix.derivative (build/cythonized/sage/matrix/matrix2.c:88784)\u001b[0;34m()\u001b[0m\n\u001b[1;32m  13270\u001b[0m             \u001b[0;34m(\u001b[0m\u001b[0;36m0\u001b[0m\u001b[0;34m,\u001b[0m \u001b[0;36m0\u001b[0m\u001b[0;34m,\u001b[0m \u001b[0;36m2\u001b[0m\u001b[0;34m)\u001b[0m\u001b[0;34m\u001b[0m\u001b[0m\n\u001b[1;32m  13271\u001b[0m         \"\"\"\n\u001b[0;32m> 13272\u001b[0;31m         \u001b[0;32mreturn\u001b[0m \u001b[0mmulti_derivative\u001b[0m\u001b[0;34m(\u001b[0m\u001b[0mself\u001b[0m\u001b[0;34m,\u001b[0m \u001b[0margs\u001b[0m\u001b[0;34m)\u001b[0m\u001b[0;34m\u001b[0m\u001b[0m\n\u001b[0m\u001b[1;32m  13273\u001b[0m \u001b[0;34m\u001b[0m\u001b[0m\n\u001b[1;32m  13274\u001b[0m     \u001b[0;32mdef\u001b[0m \u001b[0mexp\u001b[0m\u001b[0;34m(\u001b[0m\u001b[0mself\u001b[0m\u001b[0;34m)\u001b[0m\u001b[0;34m:\u001b[0m\u001b[0;34m\u001b[0m\u001b[0m\n",
      "\u001b[0;32m/opt/sagemath-8.6/local/lib/python2.7/site-packages/sage/misc/derivative.pyx\u001b[0m in \u001b[0;36msage.misc.derivative.multi_derivative (build/cythonized/sage/misc/derivative.c:3114)\u001b[0;34m()\u001b[0m\n\u001b[1;32m    217\u001b[0m     \u001b[0;32mif\u001b[0m \u001b[0;32mnot\u001b[0m \u001b[0margs\u001b[0m\u001b[0;34m:\u001b[0m\u001b[0;34m\u001b[0m\u001b[0m\n\u001b[1;32m    218\u001b[0m         \u001b[0;31m# fast version where no arguments supplied\u001b[0m\u001b[0;34m\u001b[0m\u001b[0;34m\u001b[0m\u001b[0m\n\u001b[0;32m--> 219\u001b[0;31m         \u001b[0;32mreturn\u001b[0m \u001b[0mF\u001b[0m\u001b[0;34m.\u001b[0m\u001b[0m_derivative\u001b[0m\u001b[0;34m(\u001b[0m\u001b[0;34m)\u001b[0m\u001b[0;34m\u001b[0m\u001b[0m\n\u001b[0m\u001b[1;32m    220\u001b[0m \u001b[0;34m\u001b[0m\u001b[0m\n\u001b[1;32m    221\u001b[0m     \u001b[0;32mfor\u001b[0m \u001b[0marg\u001b[0m \u001b[0;32min\u001b[0m \u001b[0mderivative_parse\u001b[0m\u001b[0;34m(\u001b[0m\u001b[0margs\u001b[0m\u001b[0;34m)\u001b[0m\u001b[0;34m:\u001b[0m\u001b[0;34m\u001b[0m\u001b[0m\n",
      "\u001b[0;32m/opt/sagemath-8.6/local/lib/python2.7/site-packages/sage/matrix/matrix_dense.pyx\u001b[0m in \u001b[0;36msage.matrix.matrix_dense.Matrix_dense._derivative (build/cythonized/sage/matrix/matrix_dense.c:5319)\u001b[0;34m()\u001b[0m\n\u001b[1;32m    273\u001b[0m             \u001b[0mv\u001b[0m \u001b[0;34m=\u001b[0m \u001b[0msage\u001b[0m\u001b[0;34m.\u001b[0m\u001b[0mstructure\u001b[0m\u001b[0;34m.\u001b[0m\u001b[0msequence\u001b[0m\u001b[0;34m.\u001b[0m\u001b[0mSequence\u001b[0m\u001b[0;34m(\u001b[0m\u001b[0mv\u001b[0m\u001b[0;34m)\u001b[0m\u001b[0;34m\u001b[0m\u001b[0m\n\u001b[1;32m    274\u001b[0m             \u001b[0mR\u001b[0m \u001b[0;34m=\u001b[0m \u001b[0mv\u001b[0m\u001b[0;34m.\u001b[0m\u001b[0muniverse\u001b[0m\u001b[0;34m(\u001b[0m\u001b[0;34m)\u001b[0m\u001b[0;34m\u001b[0m\u001b[0m\n\u001b[0;32m--> 275\u001b[0;31m         M = sage.matrix.matrix_space.MatrixSpace(R, self._nrows,\n\u001b[0m\u001b[1;32m    276\u001b[0m                    self._ncols, sparse=False)\n\u001b[1;32m    277\u001b[0m         \u001b[0mimage\u001b[0m \u001b[0;34m=\u001b[0m \u001b[0mM\u001b[0m\u001b[0;34m(\u001b[0m\u001b[0mv\u001b[0m\u001b[0;34m)\u001b[0m\u001b[0;34m\u001b[0m\u001b[0m\n",
      "\u001b[0;32m/opt/sagemath-8.6/local/lib/python2.7/site-packages/sage/misc/classcall_metaclass.pyx\u001b[0m in \u001b[0;36msage.misc.classcall_metaclass.ClasscallMetaclass.__call__ (build/cythonized/sage/misc/classcall_metaclass.c:1701)\u001b[0;34m()\u001b[0m\n\u001b[1;32m    328\u001b[0m         \"\"\"\n\u001b[1;32m    329\u001b[0m         \u001b[0;32mif\u001b[0m \u001b[0mcls\u001b[0m\u001b[0;34m.\u001b[0m\u001b[0mclasscall\u001b[0m \u001b[0;32mis\u001b[0m \u001b[0;32mnot\u001b[0m \u001b[0mNone\u001b[0m\u001b[0;34m:\u001b[0m\u001b[0;34m\u001b[0m\u001b[0m\n\u001b[0;32m--> 330\u001b[0;31m             \u001b[0;32mreturn\u001b[0m \u001b[0mcls\u001b[0m\u001b[0;34m.\u001b[0m\u001b[0mclasscall\u001b[0m\u001b[0;34m(\u001b[0m\u001b[0mcls\u001b[0m\u001b[0;34m,\u001b[0m \u001b[0;34m*\u001b[0m\u001b[0margs\u001b[0m\u001b[0;34m,\u001b[0m \u001b[0;34m**\u001b[0m\u001b[0mkwds\u001b[0m\u001b[0;34m)\u001b[0m\u001b[0;34m\u001b[0m\u001b[0m\n\u001b[0m\u001b[1;32m    331\u001b[0m         \u001b[0;32melse\u001b[0m\u001b[0;34m:\u001b[0m\u001b[0;34m\u001b[0m\u001b[0m\n\u001b[1;32m    332\u001b[0m             \u001b[0;31m# Fast version of type.__call__(cls, *args, **kwds)\u001b[0m\u001b[0;34m\u001b[0m\u001b[0;34m\u001b[0m\u001b[0m\n",
      "\u001b[0;32m/opt/sagemath-8.6/local/lib/python2.7/site-packages/sage/matrix/matrix_space.pyc\u001b[0m in \u001b[0;36m__classcall__\u001b[0;34m(cls, base_ring, nrows, ncols, sparse, implementation)\u001b[0m\n\u001b[1;32m    459\u001b[0m         \"\"\"\n\u001b[1;32m    460\u001b[0m         \u001b[0;32mif\u001b[0m \u001b[0mbase_ring\u001b[0m \u001b[0;32mnot\u001b[0m \u001b[0;32min\u001b[0m \u001b[0m_Rings\u001b[0m\u001b[0;34m:\u001b[0m\u001b[0;34m\u001b[0m\u001b[0m\n\u001b[0;32m--> 461\u001b[0;31m             \u001b[0;32mraise\u001b[0m \u001b[0mTypeError\u001b[0m\u001b[0;34m(\u001b[0m\u001b[0;34m\"base_ring (=%s) must be a ring\"\u001b[0m\u001b[0;34m%\u001b[0m\u001b[0mbase_ring\u001b[0m\u001b[0;34m)\u001b[0m\u001b[0;34m\u001b[0m\u001b[0m\n\u001b[0m\u001b[1;32m    462\u001b[0m         \u001b[0mnrows\u001b[0m \u001b[0;34m=\u001b[0m \u001b[0mint\u001b[0m\u001b[0;34m(\u001b[0m\u001b[0mnrows\u001b[0m\u001b[0;34m)\u001b[0m\u001b[0;34m\u001b[0m\u001b[0m\n\u001b[1;32m    463\u001b[0m         \u001b[0;32mif\u001b[0m \u001b[0mncols\u001b[0m \u001b[0;32mis\u001b[0m \u001b[0mNone\u001b[0m\u001b[0;34m:\u001b[0m\u001b[0;34m\u001b[0m\u001b[0m\n",
      "\u001b[0;31mTypeError\u001b[0m: base_ring (=Category of objects) must be a ring"
     ]
    }
   ],
   "source": [
    "diff(diff(F))"
   ]
  },
  {
   "cell_type": "code",
   "execution_count": 57,
   "metadata": {
    "scrolled": true
   },
   "outputs": [
    {
     "ename": "TypeError",
     "evalue": "'tuple' object is not callable",
     "output_type": "error",
     "traceback": [
      "\u001b[0;31m---------------------------------------------------------------------------\u001b[0m",
      "\u001b[0;31mTypeError\u001b[0m                                 Traceback (most recent call last)",
      "\u001b[0;32m<ipython-input-57-4e61b7274885>\u001b[0m in \u001b[0;36m<module>\u001b[0;34m()\u001b[0m\n\u001b[0;32m----> 1\u001b[0;31m \u001b[0;34m(\u001b[0m\u001b[0mF\u001b[0m\u001b[0;34m[\u001b[0m\u001b[0mInteger\u001b[0m\u001b[0;34m(\u001b[0m\u001b[0;36m1\u001b[0m\u001b[0;34m)\u001b[0m\u001b[0;34m]\u001b[0m\u001b[0;34m,\u001b[0m \u001b[0mF\u001b[0m\u001b[0;34m[\u001b[0m\u001b[0mInteger\u001b[0m\u001b[0;34m(\u001b[0m\u001b[0;36m2\u001b[0m\u001b[0;34m)\u001b[0m\u001b[0;34m]\u001b[0m\u001b[0;34m)\u001b[0m \u001b[0;34m(\u001b[0m\u001b[0mx\u001b[0m\u001b[0;34m,\u001b[0m \u001b[0my\u001b[0m\u001b[0;34m,\u001b[0m \u001b[0mtheta\u001b[0m\u001b[0;34m,\u001b[0m \u001b[0mv\u001b[0m\u001b[0;34m,\u001b[0m \u001b[0mw\u001b[0m\u001b[0;34m,\u001b[0m \u001b[0ma\u001b[0m\u001b[0;34m)\u001b[0m\u001b[0;34m==\u001b[0m \u001b[0mF\u001b[0m\u001b[0;34m[\u001b[0m\u001b[0mInteger\u001b[0m\u001b[0;34m(\u001b[0m\u001b[0;36m1\u001b[0m\u001b[0;34m)\u001b[0m\u001b[0;34m:\u001b[0m\u001b[0mInteger\u001b[0m\u001b[0;34m(\u001b[0m\u001b[0;36m3\u001b[0m\u001b[0;34m)\u001b[0m\u001b[0;34m]\u001b[0m\u001b[0;34m(\u001b[0m\u001b[0mx\u001b[0m\u001b[0;34m,\u001b[0m \u001b[0my\u001b[0m\u001b[0;34m,\u001b[0m \u001b[0mtheta\u001b[0m\u001b[0;34m,\u001b[0m \u001b[0mv\u001b[0m\u001b[0;34m,\u001b[0m \u001b[0mw\u001b[0m\u001b[0;34m,\u001b[0m \u001b[0ma\u001b[0m\u001b[0;34m)\u001b[0m\u001b[0;34m\u001b[0m\u001b[0m\n\u001b[0m",
      "\u001b[0;31mTypeError\u001b[0m: 'tuple' object is not callable"
     ]
    }
   ],
   "source": [
    "(F[1], F[2]) (x, y, theta, v, w, a)== F[1:3](x, y, theta, v, w, a)"
   ]
  },
  {
   "cell_type": "code",
   "execution_count": 56,
   "metadata": {},
   "outputs": [
    {
     "ename": "TypeError",
     "evalue": "unable to convert <generator object <genexpr> at 0x6fdc93dab40> to a symbolic expression",
     "output_type": "error",
     "traceback": [
      "\u001b[0;31m---------------------------------------------------------------------------\u001b[0m",
      "\u001b[0;31mTypeError\u001b[0m                                 Traceback (most recent call last)",
      "\u001b[0;32m<ipython-input-56-697b5b607b4e>\u001b[0m in \u001b[0;36m<module>\u001b[0;34m()\u001b[0m\n\u001b[0;32m----> 1\u001b[0;31m \u001b[0m__tmp__\u001b[0m\u001b[0;34m=\u001b[0m\u001b[0mvar\u001b[0m\u001b[0;34m(\u001b[0m\u001b[0;34m\"x,y,theta,v,w,a\"\u001b[0m\u001b[0;34m)\u001b[0m\u001b[0;34m;\u001b[0m \u001b[0mG\u001b[0m \u001b[0;34m=\u001b[0m \u001b[0msymbolic_expression\u001b[0m\u001b[0;34m(\u001b[0m\u001b[0;34m(\u001b[0m\u001b[0mF\u001b[0m\u001b[0;34m[\u001b[0m\u001b[0mi\u001b[0m\u001b[0;34m]\u001b[0m\u001b[0;34m.\u001b[0m\u001b[0mhessian\u001b[0m\u001b[0;34m(\u001b[0m\u001b[0;34m)\u001b[0m \u001b[0;32mfor\u001b[0m \u001b[0mi\u001b[0m \u001b[0;32min\u001b[0m \u001b[0mrange\u001b[0m\u001b[0;34m(\u001b[0m\u001b[0mInteger\u001b[0m\u001b[0;34m(\u001b[0m\u001b[0;36m4\u001b[0m\u001b[0;34m)\u001b[0m\u001b[0;34m)\u001b[0m\u001b[0;34m)\u001b[0m\u001b[0;34m)\u001b[0m\u001b[0;34m.\u001b[0m\u001b[0mfunction\u001b[0m\u001b[0;34m(\u001b[0m\u001b[0mx\u001b[0m\u001b[0;34m,\u001b[0m\u001b[0my\u001b[0m\u001b[0;34m,\u001b[0m\u001b[0mtheta\u001b[0m\u001b[0;34m,\u001b[0m\u001b[0mv\u001b[0m\u001b[0;34m,\u001b[0m\u001b[0mw\u001b[0m\u001b[0;34m,\u001b[0m\u001b[0ma\u001b[0m\u001b[0;34m)\u001b[0m\u001b[0;34m\u001b[0m\u001b[0m\n\u001b[0m",
      "\u001b[0;32m/opt/sagemath-8.6/local/lib/python2.7/site-packages/sage/calculus/all.pyc\u001b[0m in \u001b[0;36msymbolic_expression\u001b[0;34m(x)\u001b[0m\n\u001b[1;32m    105\u001b[0m         \u001b[0;32mreturn\u001b[0m \u001b[0mvector\u001b[0m\u001b[0;34m(\u001b[0m\u001b[0mSR\u001b[0m\u001b[0;34m,\u001b[0m\u001b[0mx\u001b[0m\u001b[0;34m)\u001b[0m\u001b[0;34m\u001b[0m\u001b[0m\n\u001b[1;32m    106\u001b[0m     \u001b[0;32melse\u001b[0m\u001b[0;34m:\u001b[0m\u001b[0;34m\u001b[0m\u001b[0m\n\u001b[0;32m--> 107\u001b[0;31m         \u001b[0;32mreturn\u001b[0m \u001b[0mSR\u001b[0m\u001b[0;34m(\u001b[0m\u001b[0mx\u001b[0m\u001b[0;34m)\u001b[0m\u001b[0;34m\u001b[0m\u001b[0m\n\u001b[0m\u001b[1;32m    108\u001b[0m \u001b[0;34m\u001b[0m\u001b[0m\n\u001b[1;32m    109\u001b[0m \u001b[0;32mfrom\u001b[0m \u001b[0;34m.\u001b[0m \u001b[0;32mimport\u001b[0m \u001b[0mdesolvers\u001b[0m\u001b[0;34m\u001b[0m\u001b[0m\n",
      "\u001b[0;32m/opt/sagemath-8.6/local/lib/python2.7/site-packages/sage/structure/parent.pyx\u001b[0m in \u001b[0;36msage.structure.parent.Parent.__call__ (build/cythonized/sage/structure/parent.c:9237)\u001b[0;34m()\u001b[0m\n\u001b[1;32m    887\u001b[0m         \u001b[0;32mif\u001b[0m \u001b[0mmor\u001b[0m \u001b[0;32mis\u001b[0m \u001b[0;32mnot\u001b[0m \u001b[0mNone\u001b[0m\u001b[0;34m:\u001b[0m\u001b[0;34m\u001b[0m\u001b[0m\n\u001b[1;32m    888\u001b[0m             \u001b[0;32mif\u001b[0m \u001b[0mno_extra_args\u001b[0m\u001b[0;34m:\u001b[0m\u001b[0;34m\u001b[0m\u001b[0m\n\u001b[0;32m--> 889\u001b[0;31m                 \u001b[0;32mreturn\u001b[0m \u001b[0mmor\u001b[0m\u001b[0;34m.\u001b[0m\u001b[0m_call_\u001b[0m\u001b[0;34m(\u001b[0m\u001b[0mx\u001b[0m\u001b[0;34m)\u001b[0m\u001b[0;34m\u001b[0m\u001b[0m\n\u001b[0m\u001b[1;32m    890\u001b[0m             \u001b[0;32melse\u001b[0m\u001b[0;34m:\u001b[0m\u001b[0;34m\u001b[0m\u001b[0m\n\u001b[1;32m    891\u001b[0m                 \u001b[0;32mreturn\u001b[0m \u001b[0mmor\u001b[0m\u001b[0;34m.\u001b[0m\u001b[0m_call_with_args\u001b[0m\u001b[0;34m(\u001b[0m\u001b[0mx\u001b[0m\u001b[0;34m,\u001b[0m \u001b[0margs\u001b[0m\u001b[0;34m,\u001b[0m \u001b[0mkwds\u001b[0m\u001b[0;34m)\u001b[0m\u001b[0;34m\u001b[0m\u001b[0m\n",
      "\u001b[0;32m/opt/sagemath-8.6/local/lib/python2.7/site-packages/sage/structure/coerce_maps.pyx\u001b[0m in \u001b[0;36msage.structure.coerce_maps.DefaultConvertMap_unique._call_ (build/cythonized/sage/structure/coerce_maps.c:4658)\u001b[0;34m()\u001b[0m\n\u001b[1;32m    160\u001b[0m                 \u001b[0;32mprint\u001b[0m\u001b[0;34m(\u001b[0m\u001b[0mtype\u001b[0m\u001b[0;34m(\u001b[0m\u001b[0mC\u001b[0m\u001b[0;34m)\u001b[0m\u001b[0;34m,\u001b[0m \u001b[0mC\u001b[0m\u001b[0;34m)\u001b[0m\u001b[0;34m\u001b[0m\u001b[0m\n\u001b[1;32m    161\u001b[0m                 \u001b[0;32mprint\u001b[0m\u001b[0;34m(\u001b[0m\u001b[0mtype\u001b[0m\u001b[0;34m(\u001b[0m\u001b[0mC\u001b[0m\u001b[0;34m.\u001b[0m\u001b[0m_element_constructor\u001b[0m\u001b[0;34m)\u001b[0m\u001b[0;34m,\u001b[0m \u001b[0mC\u001b[0m\u001b[0;34m.\u001b[0m\u001b[0m_element_constructor\u001b[0m\u001b[0;34m)\u001b[0m\u001b[0;34m\u001b[0m\u001b[0m\n\u001b[0;32m--> 162\u001b[0;31m             \u001b[0;32mraise\u001b[0m\u001b[0;34m\u001b[0m\u001b[0m\n\u001b[0m\u001b[1;32m    163\u001b[0m \u001b[0;34m\u001b[0m\u001b[0m\n\u001b[1;32m    164\u001b[0m     \u001b[0mcpdef\u001b[0m \u001b[0mElement\u001b[0m \u001b[0m_call_with_args\u001b[0m\u001b[0;34m(\u001b[0m\u001b[0mself\u001b[0m\u001b[0;34m,\u001b[0m \u001b[0mx\u001b[0m\u001b[0;34m,\u001b[0m \u001b[0margs\u001b[0m\u001b[0;34m=\u001b[0m\u001b[0;34m(\u001b[0m\u001b[0;34m)\u001b[0m\u001b[0;34m,\u001b[0m \u001b[0mkwds\u001b[0m\u001b[0;34m=\u001b[0m\u001b[0;34m{\u001b[0m\u001b[0;34m}\u001b[0m\u001b[0;34m)\u001b[0m\u001b[0;34m:\u001b[0m\u001b[0;34m\u001b[0m\u001b[0m\n",
      "\u001b[0;32m/opt/sagemath-8.6/local/lib/python2.7/site-packages/sage/structure/coerce_maps.pyx\u001b[0m in \u001b[0;36msage.structure.coerce_maps.DefaultConvertMap_unique._call_ (build/cythonized/sage/structure/coerce_maps.c:4550)\u001b[0;34m()\u001b[0m\n\u001b[1;32m    155\u001b[0m         \u001b[0mcdef\u001b[0m \u001b[0mParent\u001b[0m \u001b[0mC\u001b[0m \u001b[0;34m=\u001b[0m \u001b[0mself\u001b[0m\u001b[0;34m.\u001b[0m\u001b[0m_codomain\u001b[0m\u001b[0;34m\u001b[0m\u001b[0m\n\u001b[1;32m    156\u001b[0m         \u001b[0;32mtry\u001b[0m\u001b[0;34m:\u001b[0m\u001b[0;34m\u001b[0m\u001b[0m\n\u001b[0;32m--> 157\u001b[0;31m             \u001b[0;32mreturn\u001b[0m \u001b[0mC\u001b[0m\u001b[0;34m.\u001b[0m\u001b[0m_element_constructor\u001b[0m\u001b[0;34m(\u001b[0m\u001b[0mx\u001b[0m\u001b[0;34m)\u001b[0m\u001b[0;34m\u001b[0m\u001b[0m\n\u001b[0m\u001b[1;32m    158\u001b[0m         \u001b[0;32mexcept\u001b[0m \u001b[0mException\u001b[0m\u001b[0;34m:\u001b[0m\u001b[0;34m\u001b[0m\u001b[0m\n\u001b[1;32m    159\u001b[0m             \u001b[0;32mif\u001b[0m \u001b[0mprint_warnings\u001b[0m\u001b[0;34m:\u001b[0m\u001b[0;34m\u001b[0m\u001b[0m\n",
      "\u001b[0;32m/opt/sagemath-8.6/local/lib/python2.7/site-packages/sage/symbolic/ring.pyx\u001b[0m in \u001b[0;36msage.symbolic.ring.SymbolicRing._element_constructor_ (build/cythonized/sage/symbolic/ring.cpp:7040)\u001b[0;34m()\u001b[0m\n\u001b[1;32m    380\u001b[0m             \u001b[0;32mreturn\u001b[0m \u001b[0mprod\u001b[0m\u001b[0;34m(\u001b[0m\u001b[0;34m[\u001b[0m\u001b[0mSR\u001b[0m\u001b[0;34m(\u001b[0m\u001b[0mp\u001b[0m\u001b[0;34m)\u001b[0m\u001b[0;34m**\u001b[0m\u001b[0me\u001b[0m \u001b[0;32mfor\u001b[0m \u001b[0mp\u001b[0m\u001b[0;34m,\u001b[0m\u001b[0me\u001b[0m \u001b[0;32min\u001b[0m \u001b[0mx\u001b[0m\u001b[0;34m]\u001b[0m\u001b[0;34m,\u001b[0m \u001b[0mSR\u001b[0m\u001b[0;34m(\u001b[0m\u001b[0mx\u001b[0m\u001b[0;34m.\u001b[0m\u001b[0munit\u001b[0m\u001b[0;34m(\u001b[0m\u001b[0;34m)\u001b[0m\u001b[0;34m)\u001b[0m\u001b[0;34m)\u001b[0m\u001b[0;34m\u001b[0m\u001b[0m\n\u001b[1;32m    381\u001b[0m         \u001b[0;32melse\u001b[0m\u001b[0;34m:\u001b[0m\u001b[0;34m\u001b[0m\u001b[0m\n\u001b[0;32m--> 382\u001b[0;31m             \u001b[0;32mraise\u001b[0m \u001b[0mTypeError\u001b[0m\u001b[0;34m(\u001b[0m\u001b[0mf\u001b[0m\u001b[0;34m\"unable to convert {x!r} to a symbolic expression\"\u001b[0m\u001b[0;34m)\u001b[0m\u001b[0;34m\u001b[0m\u001b[0m\n\u001b[0m\u001b[1;32m    383\u001b[0m \u001b[0;34m\u001b[0m\u001b[0m\n\u001b[1;32m    384\u001b[0m         \u001b[0;32mreturn\u001b[0m \u001b[0mnew_Expression_from_GEx\u001b[0m\u001b[0;34m(\u001b[0m\u001b[0mself\u001b[0m\u001b[0;34m,\u001b[0m \u001b[0mexp\u001b[0m\u001b[0;34m)\u001b[0m\u001b[0;34m\u001b[0m\u001b[0m\n",
      "\u001b[0;31mTypeError\u001b[0m: unable to convert <generator object <genexpr> at 0x6fdc93dab40> to a symbolic expression"
     ]
    }
   ],
   "source": [
    "G(x, y, theta, v, w, a) = (F[i].hessian() for i in range(4))"
   ]
  },
  {
   "cell_type": "code",
   "execution_count": 53,
   "metadata": {},
   "outputs": [
    {
     "data": {
      "text/plain": [
       "(x, y, theta, v, w, a) |--> ([                                                                                                                                                                                                               (x, y, theta, v, w, a) |--> 0                                                                                                                                                                                                                (x, y, theta, v, w, a) |--> 0                                                                                                                                                                                                                (x, y, theta, v, w, a) |--> 0                                                                                                                                                                                                                (x, y, theta, v, w, a) |--> 0                                                                                                                                                                                                                (x, y, theta, v, w, a) |--> 0                                                                                                                                                                                                                (x, y, theta, v, w, a) |--> 0]\n",
       "[                                                                                                                                                                                                               (x, y, theta, v, w, a) |--> 0                                                                                                                                                                                                                (x, y, theta, v, w, a) |--> 0                                                                                                                                                                                                                (x, y, theta, v, w, a) |--> 0                                                                                                                                                                                                                (x, y, theta, v, w, a) |--> 0                                                                                                                                                                                                                (x, y, theta, v, w, a) |--> 0                                                                                                                                                                                                                (x, y, theta, v, w, a) |--> 0]\n",
       "[                                                                                                                                                                                                               (x, y, theta, v, w, a) |--> 0                                                                                                                                                                                                                (x, y, theta, v, w, a) |--> 0                                                                                                                                        (x, y, theta, v, w, a) |--> -1/100*(v*cos(w) - 100*sqrt(-1/10000*v^2*sin(w)^2 + 16) + 400)*cos(theta)                                                                                                                                   (x, y, theta, v, w, a) |--> -1/10000*(v*sin(w)^2/sqrt(-1/10000*v^2*sin(w)^2 + 16) + 100*cos(w))*sin(theta)                                                                                                                          (x, y, theta, v, w, a) |--> -1/10000*(v^2*cos(w)*sin(w)/sqrt(-1/10000*v^2*sin(w)^2 + 16) - 100*v*sin(w))*sin(theta)                                                                                                                                                                                                                (x, y, theta, v, w, a) |--> 0]\n",
       "[                                                                                                                                                                                                               (x, y, theta, v, w, a) |--> 0                                                                                                                                                                                                                (x, y, theta, v, w, a) |--> 0                                                                                                                                   (x, y, theta, v, w, a) |--> -1/10000*(v*sin(w)^2/sqrt(-1/10000*v^2*sin(w)^2 + 16) + 100*cos(w))*sin(theta)                                                                                       (x, y, theta, v, w, a) |--> 1/100000000*(v^2*sin(w)^4/(-1/10000*v^2*sin(w)^2 + 16)^(3/2) + 10000*sin(w)^2/sqrt(-1/10000*v^2*sin(w)^2 + 16))*cos(theta)                                                        (x, y, theta, v, w, a) |--> 1/100000000*(v^3*cos(w)*sin(w)^3/(-1/10000*v^2*sin(w)^2 + 16)^(3/2) + 20000*v*cos(w)*sin(w)/sqrt(-1/10000*v^2*sin(w)^2 + 16) - 1000000*sin(w))*cos(theta)                                                                                                                                                                                                                (x, y, theta, v, w, a) |--> 0]\n",
       "[                                                                                                                                                                                                               (x, y, theta, v, w, a) |--> 0                                                                                                                                                                                                                (x, y, theta, v, w, a) |--> 0                                                                                                                          (x, y, theta, v, w, a) |--> -1/10000*(v^2*cos(w)*sin(w)/sqrt(-1/10000*v^2*sin(w)^2 + 16) - 100*v*sin(w))*sin(theta)                                                        (x, y, theta, v, w, a) |--> 1/100000000*(v^3*cos(w)*sin(w)^3/(-1/10000*v^2*sin(w)^2 + 16)^(3/2) + 20000*v*cos(w)*sin(w)/sqrt(-1/10000*v^2*sin(w)^2 + 16) - 1000000*sin(w))*cos(theta) (x, y, theta, v, w, a) |--> 1/100000000*(v^4*cos(w)^2*sin(w)^2/(-1/10000*v^2*sin(w)^2 + 16)^(3/2) + 10000*v^2*cos(w)^2/sqrt(-1/10000*v^2*sin(w)^2 + 16) - 10000*v^2*sin(w)^2/sqrt(-1/10000*v^2*sin(w)^2 + 16) - 1000000*v*cos(w))*cos(theta)                                                                                                                                                                                                                (x, y, theta, v, w, a) |--> 0]\n",
       "[                                                                                                                                                                                                               (x, y, theta, v, w, a) |--> 0                                                                                                                                                                                                                (x, y, theta, v, w, a) |--> 0                                                                                                                                                                                                                (x, y, theta, v, w, a) |--> 0                                                                                                                                                                                                                (x, y, theta, v, w, a) |--> 0                                                                                                                                                                                                                (x, y, theta, v, w, a) |--> 0                                                                                                                                                                                                                (x, y, theta, v, w, a) |--> 0], [                                                                                                                                                                                                               (x, y, theta, v, w, a) |--> 0                                                                                                                                                                                                                (x, y, theta, v, w, a) |--> 0                                                                                                                                                                                                                (x, y, theta, v, w, a) |--> 0                                                                                                                                                                                                                (x, y, theta, v, w, a) |--> 0                                                                                                                                                                                                                (x, y, theta, v, w, a) |--> 0                                                                                                                                                                                                                (x, y, theta, v, w, a) |--> 0]\n",
       "[                                                                                                                                                                                                               (x, y, theta, v, w, a) |--> 0                                                                                                                                                                                                                (x, y, theta, v, w, a) |--> 0                                                                                                                                                                                                                (x, y, theta, v, w, a) |--> 0                                                                                                                                                                                                                (x, y, theta, v, w, a) |--> 0                                                                                                                                                                                                                (x, y, theta, v, w, a) |--> 0                                                                                                                                                                                                                (x, y, theta, v, w, a) |--> 0]\n",
       "[                                                                                                                                                                                                               (x, y, theta, v, w, a) |--> 0                                                                                                                                                                                                                (x, y, theta, v, w, a) |--> 0                                                                                                                                        (x, y, theta, v, w, a) |--> -1/100*(v*cos(w) - 100*sqrt(-1/10000*v^2*sin(w)^2 + 16) + 400)*sin(theta)                                                                                                                                    (x, y, theta, v, w, a) |--> 1/10000*(v*sin(w)^2/sqrt(-1/10000*v^2*sin(w)^2 + 16) + 100*cos(w))*cos(theta)                                                                                                                           (x, y, theta, v, w, a) |--> 1/10000*(v^2*cos(w)*sin(w)/sqrt(-1/10000*v^2*sin(w)^2 + 16) - 100*v*sin(w))*cos(theta)                                                                                                                                                                                                                (x, y, theta, v, w, a) |--> 0]\n",
       "[                                                                                                                                                                                                               (x, y, theta, v, w, a) |--> 0                                                                                                                                                                                                                (x, y, theta, v, w, a) |--> 0                                                                                                                                    (x, y, theta, v, w, a) |--> 1/10000*(v*sin(w)^2/sqrt(-1/10000*v^2*sin(w)^2 + 16) + 100*cos(w))*cos(theta)                                                                                       (x, y, theta, v, w, a) |--> 1/100000000*(v^2*sin(w)^4/(-1/10000*v^2*sin(w)^2 + 16)^(3/2) + 10000*sin(w)^2/sqrt(-1/10000*v^2*sin(w)^2 + 16))*sin(theta)                                                        (x, y, theta, v, w, a) |--> 1/100000000*(v^3*cos(w)*sin(w)^3/(-1/10000*v^2*sin(w)^2 + 16)^(3/2) + 20000*v*cos(w)*sin(w)/sqrt(-1/10000*v^2*sin(w)^2 + 16) - 1000000*sin(w))*sin(theta)                                                                                                                                                                                                                (x, y, theta, v, w, a) |--> 0]\n",
       "[                                                                                                                                                                                                               (x, y, theta, v, w, a) |--> 0                                                                                                                                                                                                                (x, y, theta, v, w, a) |--> 0                                                                                                                           (x, y, theta, v, w, a) |--> 1/10000*(v^2*cos(w)*sin(w)/sqrt(-1/10000*v^2*sin(w)^2 + 16) - 100*v*sin(w))*cos(theta)                                                        (x, y, theta, v, w, a) |--> 1/100000000*(v^3*cos(w)*sin(w)^3/(-1/10000*v^2*sin(w)^2 + 16)^(3/2) + 20000*v*cos(w)*sin(w)/sqrt(-1/10000*v^2*sin(w)^2 + 16) - 1000000*sin(w))*sin(theta) (x, y, theta, v, w, a) |--> 1/100000000*(v^4*cos(w)^2*sin(w)^2/(-1/10000*v^2*sin(w)^2 + 16)^(3/2) + 10000*v^2*cos(w)^2/sqrt(-1/10000*v^2*sin(w)^2 + 16) - 10000*v^2*sin(w)^2/sqrt(-1/10000*v^2*sin(w)^2 + 16) - 1000000*v*cos(w))*sin(theta)                                                                                                                                                                                                                (x, y, theta, v, w, a) |--> 0]\n",
       "[                                                                                                                                                                                                               (x, y, theta, v, w, a) |--> 0                                                                                                                                                                                                                (x, y, theta, v, w, a) |--> 0                                                                                                                                                                                                                (x, y, theta, v, w, a) |--> 0                                                                                                                                                                                                                (x, y, theta, v, w, a) |--> 0                                                                                                                                                                                                                (x, y, theta, v, w, a) |--> 0                                                                                                                                                                                                                (x, y, theta, v, w, a) |--> 0], [                                                                                                                  (x, y, theta, v, w, a) |--> 0                                                                                                                   (x, y, theta, v, w, a) |--> 0                                                                                                                   (x, y, theta, v, w, a) |--> 0                                                                                                                   (x, y, theta, v, w, a) |--> 0                                                                                                                   (x, y, theta, v, w, a) |--> 0                                                                                                                   (x, y, theta, v, w, a) |--> 0]\n",
       "[                                                                                                                  (x, y, theta, v, w, a) |--> 0                                                                                                                   (x, y, theta, v, w, a) |--> 0                                                                                                                   (x, y, theta, v, w, a) |--> 0                                                                                                                   (x, y, theta, v, w, a) |--> 0                                                                                                                   (x, y, theta, v, w, a) |--> 0                                                                                                                   (x, y, theta, v, w, a) |--> 0]\n",
       "[                                                                                                                  (x, y, theta, v, w, a) |--> 0                                                                                                                   (x, y, theta, v, w, a) |--> 0                                                                                                                   (x, y, theta, v, w, a) |--> 0                                                                                                                   (x, y, theta, v, w, a) |--> 0                                                                                                                   (x, y, theta, v, w, a) |--> 0                                                                                                                   (x, y, theta, v, w, a) |--> 0]\n",
       "[                                                                                                                  (x, y, theta, v, w, a) |--> 0                                                                                                                   (x, y, theta, v, w, a) |--> 0                                                                                                                   (x, y, theta, v, w, a) |--> 0                                                            (x, y, theta, v, w, a) |--> 1/64000000*v*sin(w)^3/(-1/160000*v^2*sin(w)^2 + 1)^(3/2)   (x, y, theta, v, w, a) |--> 1/64000000*v^2*cos(w)*sin(w)^2/(-1/160000*v^2*sin(w)^2 + 1)^(3/2) + 1/400*cos(w)/sqrt(-1/160000*v^2*sin(w)^2 + 1)                                                                                                                   (x, y, theta, v, w, a) |--> 0]\n",
       "[                                                                                                                  (x, y, theta, v, w, a) |--> 0                                                                                                                   (x, y, theta, v, w, a) |--> 0                                                                                                                   (x, y, theta, v, w, a) |--> 0   (x, y, theta, v, w, a) |--> 1/64000000*v^2*cos(w)*sin(w)^2/(-1/160000*v^2*sin(w)^2 + 1)^(3/2) + 1/400*cos(w)/sqrt(-1/160000*v^2*sin(w)^2 + 1) (x, y, theta, v, w, a) |--> 1/64000000*v^3*cos(w)^2*sin(w)/(-1/160000*v^2*sin(w)^2 + 1)^(3/2) - 1/400*v*sin(w)/sqrt(-1/160000*v^2*sin(w)^2 + 1)                                                                                                                   (x, y, theta, v, w, a) |--> 0]\n",
       "[                                                                                                                  (x, y, theta, v, w, a) |--> 0                                                                                                                   (x, y, theta, v, w, a) |--> 0                                                                                                                   (x, y, theta, v, w, a) |--> 0                                                                                                                   (x, y, theta, v, w, a) |--> 0                                                                                                                   (x, y, theta, v, w, a) |--> 0                                                                                                                   (x, y, theta, v, w, a) |--> 0], [(x, y, theta, v, w, a) |--> 0 (x, y, theta, v, w, a) |--> 0 (x, y, theta, v, w, a) |--> 0 (x, y, theta, v, w, a) |--> 0 (x, y, theta, v, w, a) |--> 0 (x, y, theta, v, w, a) |--> 0]\n",
       "[(x, y, theta, v, w, a) |--> 0 (x, y, theta, v, w, a) |--> 0 (x, y, theta, v, w, a) |--> 0 (x, y, theta, v, w, a) |--> 0 (x, y, theta, v, w, a) |--> 0 (x, y, theta, v, w, a) |--> 0]\n",
       "[(x, y, theta, v, w, a) |--> 0 (x, y, theta, v, w, a) |--> 0 (x, y, theta, v, w, a) |--> 0 (x, y, theta, v, w, a) |--> 0 (x, y, theta, v, w, a) |--> 0 (x, y, theta, v, w, a) |--> 0]\n",
       "[(x, y, theta, v, w, a) |--> 0 (x, y, theta, v, w, a) |--> 0 (x, y, theta, v, w, a) |--> 0 (x, y, theta, v, w, a) |--> 0 (x, y, theta, v, w, a) |--> 0 (x, y, theta, v, w, a) |--> 0]\n",
       "[(x, y, theta, v, w, a) |--> 0 (x, y, theta, v, w, a) |--> 0 (x, y, theta, v, w, a) |--> 0 (x, y, theta, v, w, a) |--> 0 (x, y, theta, v, w, a) |--> 0 (x, y, theta, v, w, a) |--> 0]\n",
       "[(x, y, theta, v, w, a) |--> 0 (x, y, theta, v, w, a) |--> 0 (x, y, theta, v, w, a) |--> 0 (x, y, theta, v, w, a) |--> 0 (x, y, theta, v, w, a) |--> 0 (x, y, theta, v, w, a) |--> 0])"
      ]
     },
     "execution_count": 53,
     "metadata": {},
     "output_type": "execute_result"
    }
   ],
   "source": [
    "G"
   ]
  },
  {
   "cell_type": "code",
   "execution_count": 54,
   "metadata": {
    "scrolled": true
   },
   "outputs": [
    {
     "data": {
      "text/plain": [
       "[(x, y, theta, v, w, a) |--> 0 (x, y, theta, v, w, a) |--> 0 (x, y, theta, v, w, a) |--> 0 (x, y, theta, v, w, a) |--> 0 (x, y, theta, v, w, a) |--> 0 (x, y, theta, v, w, a) |--> 0]\n",
       "[(x, y, theta, v, w, a) |--> 0 (x, y, theta, v, w, a) |--> 0 (x, y, theta, v, w, a) |--> 0 (x, y, theta, v, w, a) |--> 0 (x, y, theta, v, w, a) |--> 0 (x, y, theta, v, w, a) |--> 0]\n",
       "[(x, y, theta, v, w, a) |--> 0 (x, y, theta, v, w, a) |--> 0 (x, y, theta, v, w, a) |--> 0 (x, y, theta, v, w, a) |--> 0 (x, y, theta, v, w, a) |--> 0 (x, y, theta, v, w, a) |--> 0]\n",
       "[(x, y, theta, v, w, a) |--> 0 (x, y, theta, v, w, a) |--> 0 (x, y, theta, v, w, a) |--> 0 (x, y, theta, v, w, a) |--> 0 (x, y, theta, v, w, a) |--> 0 (x, y, theta, v, w, a) |--> 0]"
      ]
     },
     "execution_count": 54,
     "metadata": {},
     "output_type": "execute_result"
    }
   ],
   "source": [
    "jacobian(G,(x, y, theta, v, w, a))"
   ]
  },
  {
   "cell_type": "code",
   "execution_count": 52,
   "metadata": {
    "scrolled": true
   },
   "outputs": [
    {
     "ename": "ImportError",
     "evalue": "cannot import name algebraic",
     "output_type": "error",
     "traceback": [
      "\u001b[0;31m---------------------------------------------------------------------------\u001b[0m",
      "\u001b[0;31mImportError\u001b[0m                               Traceback (most recent call last)",
      "\u001b[0;32m<ipython-input-52-3e2236821012>\u001b[0m in \u001b[0;36m<module>\u001b[0;34m()\u001b[0m\n\u001b[0;32m----> 1\u001b[0;31m \u001b[0mshow\u001b[0m\u001b[0;34m(\u001b[0m\u001b[0mG\u001b[0m\u001b[0;34m(\u001b[0m\u001b[0mx\u001b[0m\u001b[0;34m,\u001b[0m \u001b[0my\u001b[0m\u001b[0;34m,\u001b[0m \u001b[0mtheta\u001b[0m\u001b[0;34m,\u001b[0m \u001b[0mv\u001b[0m\u001b[0;34m,\u001b[0m \u001b[0mw\u001b[0m\u001b[0;34m,\u001b[0m \u001b[0ma\u001b[0m\u001b[0;34m)\u001b[0m\u001b[0;34m)\u001b[0m\u001b[0;34m\u001b[0m\u001b[0m\n\u001b[0m",
      "\u001b[0;32m/opt/sagemath-8.6/local/lib/python2.7/site-packages/sage/modules/free_module_element.pyx\u001b[0m in \u001b[0;36msage.modules.free_module_element.FreeModuleElement_generic_dense.__call__ (build/cythonized/sage/modules/free_module_element.c:30460)\u001b[0;34m()\u001b[0m\n\u001b[1;32m   4323\u001b[0m             \u001b[0;34m(\u001b[0m\u001b[0;36m6\u001b[0m\u001b[0;34m,\u001b[0m \u001b[0;36m4\u001b[0m\u001b[0;34m)\u001b[0m\u001b[0;34m\u001b[0m\u001b[0m\n\u001b[1;32m   4324\u001b[0m         \"\"\"\n\u001b[0;32m-> 4325\u001b[0;31m         \u001b[0;32mreturn\u001b[0m \u001b[0mvector\u001b[0m\u001b[0;34m(\u001b[0m\u001b[0;34m[\u001b[0m\u001b[0me\u001b[0m\u001b[0;34m(\u001b[0m\u001b[0;34m*\u001b[0m\u001b[0margs\u001b[0m\u001b[0;34m,\u001b[0m \u001b[0;34m**\u001b[0m\u001b[0mkwargs\u001b[0m\u001b[0;34m)\u001b[0m \u001b[0;32mfor\u001b[0m \u001b[0me\u001b[0m \u001b[0;32min\u001b[0m \u001b[0mself\u001b[0m\u001b[0;34m]\u001b[0m\u001b[0;34m)\u001b[0m\u001b[0;34m\u001b[0m\u001b[0m\n\u001b[0m\u001b[1;32m   4326\u001b[0m \u001b[0;34m\u001b[0m\u001b[0m\n\u001b[1;32m   4327\u001b[0m     \u001b[0;32mdef\u001b[0m \u001b[0mfunction\u001b[0m\u001b[0;34m(\u001b[0m\u001b[0mself\u001b[0m\u001b[0;34m,\u001b[0m \u001b[0;34m*\u001b[0m\u001b[0margs\u001b[0m\u001b[0;34m)\u001b[0m\u001b[0;34m:\u001b[0m\u001b[0;34m\u001b[0m\u001b[0m\n",
      "\u001b[0;32m/opt/sagemath-8.6/local/lib/python2.7/site-packages/sage/symbolic/expression.pyx\u001b[0m in \u001b[0;36msage.symbolic.expression.Expression.__call__ (build/cythonized/sage/symbolic/expression.cpp:31570)\u001b[0;34m()\u001b[0m\n\u001b[1;32m   5465\u001b[0m             \u001b[0mz\u001b[0m\u001b[0;34m^\u001b[0m\u001b[0;36m2\u001b[0m \u001b[0;34m+\u001b[0m \u001b[0mx\u001b[0m\u001b[0;34m^\u001b[0m\u001b[0my\u001b[0m\u001b[0;34m\u001b[0m\u001b[0m\n\u001b[1;32m   5466\u001b[0m         \"\"\"\n\u001b[0;32m-> 5467\u001b[0;31m         \u001b[0;32mreturn\u001b[0m \u001b[0mself\u001b[0m\u001b[0;34m.\u001b[0m\u001b[0m_parent\u001b[0m\u001b[0;34m.\u001b[0m\u001b[0m_call_element_\u001b[0m\u001b[0;34m(\u001b[0m\u001b[0mself\u001b[0m\u001b[0;34m,\u001b[0m \u001b[0;34m*\u001b[0m\u001b[0margs\u001b[0m\u001b[0;34m,\u001b[0m \u001b[0;34m**\u001b[0m\u001b[0mkwds\u001b[0m\u001b[0;34m)\u001b[0m\u001b[0;34m\u001b[0m\u001b[0m\n\u001b[0m\u001b[1;32m   5468\u001b[0m \u001b[0;34m\u001b[0m\u001b[0m\n\u001b[1;32m   5469\u001b[0m     \u001b[0;32mdef\u001b[0m \u001b[0mvariables\u001b[0m\u001b[0;34m(\u001b[0m\u001b[0mself\u001b[0m\u001b[0;34m)\u001b[0m\u001b[0;34m:\u001b[0m\u001b[0;34m\u001b[0m\u001b[0m\n",
      "\u001b[0;32m/opt/sagemath-8.6/local/lib/python2.7/site-packages/sage/symbolic/callable.pyc\u001b[0m in \u001b[0;36m_call_element_\u001b[0;34m(self, _the_element, *args, **kwds)\u001b[0m\n\u001b[1;32m    461\u001b[0m         \u001b[0md\u001b[0m \u001b[0;34m=\u001b[0m \u001b[0mdict\u001b[0m\u001b[0;34m(\u001b[0m\u001b[0mzip\u001b[0m\u001b[0;34m(\u001b[0m\u001b[0;34m[\u001b[0m\u001b[0mrepr\u001b[0m\u001b[0;34m(\u001b[0m\u001b[0m_\u001b[0m\u001b[0;34m)\u001b[0m \u001b[0;32mfor\u001b[0m \u001b[0m_\u001b[0m \u001b[0;32min\u001b[0m \u001b[0mself\u001b[0m\u001b[0;34m.\u001b[0m\u001b[0marguments\u001b[0m\u001b[0;34m(\u001b[0m\u001b[0;34m)\u001b[0m\u001b[0;34m]\u001b[0m\u001b[0;34m,\u001b[0m \u001b[0margs\u001b[0m\u001b[0;34m)\u001b[0m\u001b[0;34m)\u001b[0m\u001b[0;34m\u001b[0m\u001b[0m\n\u001b[1;32m    462\u001b[0m         \u001b[0md\u001b[0m\u001b[0;34m.\u001b[0m\u001b[0mupdate\u001b[0m\u001b[0;34m(\u001b[0m\u001b[0mkwds\u001b[0m\u001b[0;34m)\u001b[0m\u001b[0;34m\u001b[0m\u001b[0m\n\u001b[0;32m--> 463\u001b[0;31m         \u001b[0;32mreturn\u001b[0m \u001b[0mSR\u001b[0m\u001b[0;34m(\u001b[0m\u001b[0m_the_element\u001b[0m\u001b[0;34m.\u001b[0m\u001b[0msubstitute\u001b[0m\u001b[0;34m(\u001b[0m\u001b[0;34m**\u001b[0m\u001b[0md\u001b[0m\u001b[0;34m)\u001b[0m\u001b[0;34m)\u001b[0m\u001b[0;34m\u001b[0m\u001b[0m\n\u001b[0m\u001b[1;32m    464\u001b[0m \u001b[0;34m\u001b[0m\u001b[0m\n\u001b[1;32m    465\u001b[0m     \u001b[0;31m# __reduce__ gets replaced by the CallableSymbolicExpressionRingFactory\u001b[0m\u001b[0;34m\u001b[0m\u001b[0;34m\u001b[0m\u001b[0m\n",
      "\u001b[0;32m/opt/sagemath-8.6/local/lib/python2.7/site-packages/sage/symbolic/expression.pyx\u001b[0m in \u001b[0;36msage.symbolic.expression.Expression.substitute (build/cythonized/sage/symbolic/expression.cpp:30638)\u001b[0;34m()\u001b[0m\n\u001b[1;32m   5317\u001b[0m         \u001b[0msig_on\u001b[0m\u001b[0;34m(\u001b[0m\u001b[0;34m)\u001b[0m\u001b[0;34m\u001b[0m\u001b[0m\n\u001b[1;32m   5318\u001b[0m         \u001b[0;32mtry\u001b[0m\u001b[0;34m:\u001b[0m\u001b[0;34m\u001b[0m\u001b[0m\n\u001b[0;32m-> 5319\u001b[0;31m             \u001b[0mres\u001b[0m \u001b[0;34m=\u001b[0m \u001b[0mself\u001b[0m\u001b[0;34m.\u001b[0m\u001b[0m_gobj\u001b[0m\u001b[0;34m.\u001b[0m\u001b[0msubs_map\u001b[0m\u001b[0;34m(\u001b[0m\u001b[0msmap\u001b[0m\u001b[0;34m,\u001b[0m \u001b[0;36m0\u001b[0m\u001b[0;34m)\u001b[0m\u001b[0;34m\u001b[0m\u001b[0m\n\u001b[0m\u001b[1;32m   5320\u001b[0m         \u001b[0;32mfinally\u001b[0m\u001b[0;34m:\u001b[0m\u001b[0;34m\u001b[0m\u001b[0m\n\u001b[1;32m   5321\u001b[0m             \u001b[0msig_off\u001b[0m\u001b[0;34m(\u001b[0m\u001b[0;34m)\u001b[0m\u001b[0;34m\u001b[0m\u001b[0m\n",
      "\u001b[0;32m/opt/sagemath-8.6/local/lib/python2.7/site-packages/sage/matrix/matrix0.pyx\u001b[0m in \u001b[0;36msage.matrix.matrix0.Matrix.__nonzero__ (build/cythonized/sage/matrix/matrix0.c:37689)\u001b[0;34m()\u001b[0m\n\u001b[1;32m   5665\u001b[0m         \u001b[0;32mfor\u001b[0m \u001b[0mi\u001b[0m \u001b[0;32mfrom\u001b[0m \u001b[0;36m0\u001b[0m \u001b[0;34m<=\u001b[0m \u001b[0mi\u001b[0m \u001b[0;34m<\u001b[0m \u001b[0mself\u001b[0m\u001b[0;34m.\u001b[0m\u001b[0m_nrows\u001b[0m\u001b[0;34m:\u001b[0m\u001b[0;34m\u001b[0m\u001b[0m\n\u001b[1;32m   5666\u001b[0m             \u001b[0;32mfor\u001b[0m \u001b[0mj\u001b[0m \u001b[0;32mfrom\u001b[0m \u001b[0;36m0\u001b[0m \u001b[0;34m<=\u001b[0m \u001b[0mj\u001b[0m \u001b[0;34m<\u001b[0m \u001b[0mself\u001b[0m\u001b[0;34m.\u001b[0m\u001b[0m_ncols\u001b[0m\u001b[0;34m:\u001b[0m\u001b[0;34m\u001b[0m\u001b[0m\n\u001b[0;32m-> 5667\u001b[0;31m                 \u001b[0;32mif\u001b[0m \u001b[0mself\u001b[0m\u001b[0;34m.\u001b[0m\u001b[0mget_unsafe\u001b[0m\u001b[0;34m(\u001b[0m\u001b[0mi\u001b[0m\u001b[0;34m,\u001b[0m\u001b[0mj\u001b[0m\u001b[0;34m)\u001b[0m\u001b[0;34m:\u001b[0m\u001b[0;34m\u001b[0m\u001b[0m\n\u001b[0m\u001b[1;32m   5668\u001b[0m                     \u001b[0;32mreturn\u001b[0m \u001b[0mTrue\u001b[0m\u001b[0;34m\u001b[0m\u001b[0m\n\u001b[1;32m   5669\u001b[0m         \u001b[0;32mreturn\u001b[0m \u001b[0mFalse\u001b[0m\u001b[0;34m\u001b[0m\u001b[0m\n",
      "\u001b[0;32m/opt/sagemath-8.6/local/lib/python2.7/site-packages/sage/symbolic/expression.pyx\u001b[0m in \u001b[0;36msage.symbolic.expression.Expression.__nonzero__ (build/cythonized/sage/symbolic/expression.cpp:19467)\u001b[0;34m()\u001b[0m\n\u001b[1;32m   2903\u001b[0m             \u001b[0;32mreturn\u001b[0m \u001b[0mFalse\u001b[0m\u001b[0;34m\u001b[0m\u001b[0m\n\u001b[1;32m   2904\u001b[0m         \u001b[0;32melse\u001b[0m\u001b[0;34m:\u001b[0m\u001b[0;34m\u001b[0m\u001b[0m\n\u001b[0;32m-> 2905\u001b[0;31m             \u001b[0;32mreturn\u001b[0m \u001b[0;32mnot\u001b[0m \u001b[0mbool\u001b[0m\u001b[0;34m(\u001b[0m\u001b[0mself\u001b[0m \u001b[0;34m==\u001b[0m \u001b[0mself\u001b[0m\u001b[0;34m.\u001b[0m\u001b[0m_parent\u001b[0m\u001b[0;34m.\u001b[0m\u001b[0mzero\u001b[0m\u001b[0;34m(\u001b[0m\u001b[0;34m)\u001b[0m\u001b[0;34m)\u001b[0m\u001b[0;34m\u001b[0m\u001b[0m\n\u001b[0m\u001b[1;32m   2906\u001b[0m \u001b[0;34m\u001b[0m\u001b[0m\n\u001b[1;32m   2907\u001b[0m     \u001b[0;32mdef\u001b[0m \u001b[0mtest_relation\u001b[0m\u001b[0;34m(\u001b[0m\u001b[0mself\u001b[0m\u001b[0;34m,\u001b[0m \u001b[0mint\u001b[0m \u001b[0mntests\u001b[0m\u001b[0;34m=\u001b[0m\u001b[0;36m20\u001b[0m\u001b[0;34m,\u001b[0m \u001b[0mdomain\u001b[0m\u001b[0;34m=\u001b[0m\u001b[0mNone\u001b[0m\u001b[0;34m,\u001b[0m \u001b[0mproof\u001b[0m\u001b[0;34m=\u001b[0m\u001b[0mTrue\u001b[0m\u001b[0;34m)\u001b[0m\u001b[0;34m:\u001b[0m\u001b[0;34m\u001b[0m\u001b[0m\n",
      "\u001b[0;32m/opt/sagemath-8.6/local/lib/python2.7/site-packages/sage/symbolic/expression.pyx\u001b[0m in \u001b[0;36msage.symbolic.expression.Expression.__nonzero__ (build/cythonized/sage/symbolic/expression.cpp:19262)\u001b[0;34m()\u001b[0m\n\u001b[1;32m   2884\u001b[0m                 \u001b[0;32mif\u001b[0m \u001b[0mpynac_result\u001b[0m \u001b[0;34m==\u001b[0m \u001b[0mrelational_notimplemented\u001b[0m \u001b[0;32mand\u001b[0m \u001b[0mself\u001b[0m\u001b[0;34m.\u001b[0m\u001b[0moperator\u001b[0m\u001b[0;34m(\u001b[0m\u001b[0;34m)\u001b[0m\u001b[0;34m==\u001b[0m\u001b[0moperator\u001b[0m\u001b[0;34m.\u001b[0m\u001b[0mne\u001b[0m\u001b[0;34m:\u001b[0m\u001b[0;34m\u001b[0m\u001b[0m\n\u001b[1;32m   2885\u001b[0m                     \u001b[0;32mreturn\u001b[0m \u001b[0;32mnot\u001b[0m \u001b[0;34m(\u001b[0m\u001b[0mself\u001b[0m\u001b[0;34m.\u001b[0m\u001b[0mlhs\u001b[0m\u001b[0;34m(\u001b[0m\u001b[0;34m)\u001b[0m\u001b[0;34m-\u001b[0m\u001b[0mself\u001b[0m\u001b[0;34m.\u001b[0m\u001b[0mrhs\u001b[0m\u001b[0;34m(\u001b[0m\u001b[0;34m)\u001b[0m\u001b[0;34m)\u001b[0m\u001b[0;34m.\u001b[0m\u001b[0mis_trivial_zero\u001b[0m\u001b[0;34m(\u001b[0m\u001b[0;34m)\u001b[0m\u001b[0;34m\u001b[0m\u001b[0m\n\u001b[0;32m-> 2886\u001b[0;31m                 \u001b[0mres\u001b[0m \u001b[0;34m=\u001b[0m \u001b[0mself\u001b[0m\u001b[0;34m.\u001b[0m\u001b[0mtest_relation\u001b[0m\u001b[0;34m(\u001b[0m\u001b[0;34m)\u001b[0m\u001b[0;34m\u001b[0m\u001b[0m\n\u001b[0m\u001b[1;32m   2887\u001b[0m                 \u001b[0;32mif\u001b[0m \u001b[0mres\u001b[0m \u001b[0;32mis\u001b[0m \u001b[0mTrue\u001b[0m\u001b[0;34m:\u001b[0m\u001b[0;34m\u001b[0m\u001b[0m\n\u001b[1;32m   2888\u001b[0m                     \u001b[0;32mreturn\u001b[0m \u001b[0mTrue\u001b[0m\u001b[0;34m\u001b[0m\u001b[0m\n",
      "\u001b[0;32m/opt/sagemath-8.6/local/lib/python2.7/site-packages/sage/symbolic/expression.pyx\u001b[0m in \u001b[0;36msage.symbolic.expression.Expression.test_relation (build/cythonized/sage/symbolic/expression.cpp:19878)\u001b[0;34m()\u001b[0m\n\u001b[1;32m   2993\u001b[0m         \u001b[0;32mif\u001b[0m \u001b[0mdomain\u001b[0m \u001b[0;32mis\u001b[0m \u001b[0mNone\u001b[0m\u001b[0;34m:\u001b[0m\u001b[0;34m\u001b[0m\u001b[0m\n\u001b[1;32m   2994\u001b[0m             \u001b[0mis_interval\u001b[0m \u001b[0;34m=\u001b[0m \u001b[0mTrue\u001b[0m\u001b[0;34m\u001b[0m\u001b[0m\n\u001b[0;32m-> 2995\u001b[0;31m             \u001b[0;32mif\u001b[0m \u001b[0mself\u001b[0m\u001b[0;34m.\u001b[0m\u001b[0mlhs\u001b[0m\u001b[0;34m(\u001b[0m\u001b[0;34m)\u001b[0m\u001b[0;34m.\u001b[0m\u001b[0mis_algebraic\u001b[0m\u001b[0;34m(\u001b[0m\u001b[0;34m)\u001b[0m \u001b[0;32mand\u001b[0m \u001b[0mself\u001b[0m\u001b[0;34m.\u001b[0m\u001b[0mrhs\u001b[0m\u001b[0;34m(\u001b[0m\u001b[0;34m)\u001b[0m\u001b[0;34m.\u001b[0m\u001b[0mis_algebraic\u001b[0m\u001b[0;34m(\u001b[0m\u001b[0;34m)\u001b[0m\u001b[0;34m:\u001b[0m\u001b[0;34m\u001b[0m\u001b[0m\n\u001b[0m\u001b[1;32m   2996\u001b[0m                 \u001b[0;32mif\u001b[0m \u001b[0mop\u001b[0m \u001b[0;34m==\u001b[0m \u001b[0mequal\u001b[0m \u001b[0;32mor\u001b[0m \u001b[0mop\u001b[0m \u001b[0;34m==\u001b[0m \u001b[0mnot_equal\u001b[0m\u001b[0;34m:\u001b[0m\u001b[0;34m\u001b[0m\u001b[0m\n\u001b[1;32m   2997\u001b[0m                     \u001b[0mdomain\u001b[0m \u001b[0;34m=\u001b[0m \u001b[0mQQbar\u001b[0m\u001b[0;34m\u001b[0m\u001b[0m\n",
      "\u001b[0;32m/opt/sagemath-8.6/local/lib/python2.7/site-packages/sage/symbolic/expression.pyx\u001b[0m in \u001b[0;36msage.symbolic.expression.Expression.is_algebraic (build/cythonized/sage/symbolic/expression.cpp:15061)\u001b[0;34m()\u001b[0m\n\u001b[1;32m   2009\u001b[0m         \"\"\"\n\u001b[1;32m   2010\u001b[0m         \u001b[0;32mtry\u001b[0m\u001b[0;34m:\u001b[0m\u001b[0;34m\u001b[0m\u001b[0m\n\u001b[0;32m-> 2011\u001b[0;31m             \u001b[0mex\u001b[0m \u001b[0;34m=\u001b[0m \u001b[0msage\u001b[0m\u001b[0;34m.\u001b[0m\u001b[0mrings\u001b[0m\u001b[0;34m.\u001b[0m\u001b[0mall\u001b[0m\u001b[0;34m.\u001b[0m\u001b[0mQQbar\u001b[0m\u001b[0;34m(\u001b[0m\u001b[0mself\u001b[0m\u001b[0;34m)\u001b[0m\u001b[0;34m\u001b[0m\u001b[0m\n\u001b[0m\u001b[1;32m   2012\u001b[0m         \u001b[0;32mexcept\u001b[0m \u001b[0;34m(\u001b[0m\u001b[0mTypeError\u001b[0m\u001b[0;34m,\u001b[0m \u001b[0mValueError\u001b[0m\u001b[0;34m,\u001b[0m \u001b[0mNotImplementedError\u001b[0m\u001b[0;34m)\u001b[0m\u001b[0;34m:\u001b[0m\u001b[0;34m\u001b[0m\u001b[0m\n\u001b[1;32m   2013\u001b[0m             \u001b[0;32mreturn\u001b[0m \u001b[0mFalse\u001b[0m\u001b[0;34m\u001b[0m\u001b[0m\n",
      "\u001b[0;32m/opt/sagemath-8.6/local/lib/python2.7/site-packages/sage/structure/parent.pyx\u001b[0m in \u001b[0;36msage.structure.parent.Parent.__call__ (build/cythonized/sage/structure/parent.c:9237)\u001b[0;34m()\u001b[0m\n\u001b[1;32m    887\u001b[0m         \u001b[0;32mif\u001b[0m \u001b[0mmor\u001b[0m \u001b[0;32mis\u001b[0m \u001b[0;32mnot\u001b[0m \u001b[0mNone\u001b[0m\u001b[0;34m:\u001b[0m\u001b[0;34m\u001b[0m\u001b[0m\n\u001b[1;32m    888\u001b[0m             \u001b[0;32mif\u001b[0m \u001b[0mno_extra_args\u001b[0m\u001b[0;34m:\u001b[0m\u001b[0;34m\u001b[0m\u001b[0m\n\u001b[0;32m--> 889\u001b[0;31m                 \u001b[0;32mreturn\u001b[0m \u001b[0mmor\u001b[0m\u001b[0;34m.\u001b[0m\u001b[0m_call_\u001b[0m\u001b[0;34m(\u001b[0m\u001b[0mx\u001b[0m\u001b[0;34m)\u001b[0m\u001b[0;34m\u001b[0m\u001b[0m\n\u001b[0m\u001b[1;32m    890\u001b[0m             \u001b[0;32melse\u001b[0m\u001b[0;34m:\u001b[0m\u001b[0;34m\u001b[0m\u001b[0m\n\u001b[1;32m    891\u001b[0m                 \u001b[0;32mreturn\u001b[0m \u001b[0mmor\u001b[0m\u001b[0;34m.\u001b[0m\u001b[0m_call_with_args\u001b[0m\u001b[0;34m(\u001b[0m\u001b[0mx\u001b[0m\u001b[0;34m,\u001b[0m \u001b[0margs\u001b[0m\u001b[0;34m,\u001b[0m \u001b[0mkwds\u001b[0m\u001b[0;34m)\u001b[0m\u001b[0;34m\u001b[0m\u001b[0m\n",
      "\u001b[0;32m/opt/sagemath-8.6/local/lib/python2.7/site-packages/sage/structure/coerce_maps.pyx\u001b[0m in \u001b[0;36msage.structure.coerce_maps.DefaultConvertMap_unique._call_ (build/cythonized/sage/structure/coerce_maps.c:4658)\u001b[0;34m()\u001b[0m\n\u001b[1;32m    160\u001b[0m                 \u001b[0;32mprint\u001b[0m\u001b[0;34m(\u001b[0m\u001b[0mtype\u001b[0m\u001b[0;34m(\u001b[0m\u001b[0mC\u001b[0m\u001b[0;34m)\u001b[0m\u001b[0;34m,\u001b[0m \u001b[0mC\u001b[0m\u001b[0;34m)\u001b[0m\u001b[0;34m\u001b[0m\u001b[0m\n\u001b[1;32m    161\u001b[0m                 \u001b[0;32mprint\u001b[0m\u001b[0;34m(\u001b[0m\u001b[0mtype\u001b[0m\u001b[0;34m(\u001b[0m\u001b[0mC\u001b[0m\u001b[0;34m.\u001b[0m\u001b[0m_element_constructor\u001b[0m\u001b[0;34m)\u001b[0m\u001b[0;34m,\u001b[0m \u001b[0mC\u001b[0m\u001b[0;34m.\u001b[0m\u001b[0m_element_constructor\u001b[0m\u001b[0;34m)\u001b[0m\u001b[0;34m\u001b[0m\u001b[0m\n\u001b[0;32m--> 162\u001b[0;31m             \u001b[0;32mraise\u001b[0m\u001b[0;34m\u001b[0m\u001b[0m\n\u001b[0m\u001b[1;32m    163\u001b[0m \u001b[0;34m\u001b[0m\u001b[0m\n\u001b[1;32m    164\u001b[0m     \u001b[0mcpdef\u001b[0m \u001b[0mElement\u001b[0m \u001b[0m_call_with_args\u001b[0m\u001b[0;34m(\u001b[0m\u001b[0mself\u001b[0m\u001b[0;34m,\u001b[0m \u001b[0mx\u001b[0m\u001b[0;34m,\u001b[0m \u001b[0margs\u001b[0m\u001b[0;34m=\u001b[0m\u001b[0;34m(\u001b[0m\u001b[0;34m)\u001b[0m\u001b[0;34m,\u001b[0m \u001b[0mkwds\u001b[0m\u001b[0;34m=\u001b[0m\u001b[0;34m{\u001b[0m\u001b[0;34m}\u001b[0m\u001b[0;34m)\u001b[0m\u001b[0;34m:\u001b[0m\u001b[0;34m\u001b[0m\u001b[0m\n",
      "\u001b[0;32m/opt/sagemath-8.6/local/lib/python2.7/site-packages/sage/structure/coerce_maps.pyx\u001b[0m in \u001b[0;36msage.structure.coerce_maps.DefaultConvertMap_unique._call_ (build/cythonized/sage/structure/coerce_maps.c:4550)\u001b[0;34m()\u001b[0m\n\u001b[1;32m    155\u001b[0m         \u001b[0mcdef\u001b[0m \u001b[0mParent\u001b[0m \u001b[0mC\u001b[0m \u001b[0;34m=\u001b[0m \u001b[0mself\u001b[0m\u001b[0;34m.\u001b[0m\u001b[0m_codomain\u001b[0m\u001b[0;34m\u001b[0m\u001b[0m\n\u001b[1;32m    156\u001b[0m         \u001b[0;32mtry\u001b[0m\u001b[0;34m:\u001b[0m\u001b[0;34m\u001b[0m\u001b[0m\n\u001b[0;32m--> 157\u001b[0;31m             \u001b[0;32mreturn\u001b[0m \u001b[0mC\u001b[0m\u001b[0;34m.\u001b[0m\u001b[0m_element_constructor\u001b[0m\u001b[0;34m(\u001b[0m\u001b[0mx\u001b[0m\u001b[0;34m)\u001b[0m\u001b[0;34m\u001b[0m\u001b[0m\n\u001b[0m\u001b[1;32m    158\u001b[0m         \u001b[0;32mexcept\u001b[0m \u001b[0mException\u001b[0m\u001b[0;34m:\u001b[0m\u001b[0;34m\u001b[0m\u001b[0m\n\u001b[1;32m    159\u001b[0m             \u001b[0;32mif\u001b[0m \u001b[0mprint_warnings\u001b[0m\u001b[0;34m:\u001b[0m\u001b[0;34m\u001b[0m\u001b[0m\n",
      "\u001b[0;32m/opt/sagemath-8.6/local/lib/python2.7/site-packages/sage/rings/qqbar.pyc\u001b[0m in \u001b[0;36m_element_constructor_\u001b[0;34m(self, x)\u001b[0m\n\u001b[1;32m   1162\u001b[0m             \u001b[0;32mreturn\u001b[0m \u001b[0mAlgebraicNumber\u001b[0m\u001b[0;34m(\u001b[0m\u001b[0mx\u001b[0m\u001b[0;34m.\u001b[0m\u001b[0m_descr\u001b[0m\u001b[0;34m)\u001b[0m\u001b[0;34m\u001b[0m\u001b[0m\n\u001b[1;32m   1163\u001b[0m         \u001b[0;32melif\u001b[0m \u001b[0mhasattr\u001b[0m\u001b[0;34m(\u001b[0m\u001b[0mx\u001b[0m\u001b[0;34m,\u001b[0m \u001b[0;34m'_algebraic_'\u001b[0m\u001b[0;34m)\u001b[0m\u001b[0;34m:\u001b[0m\u001b[0;34m\u001b[0m\u001b[0m\n\u001b[0;32m-> 1164\u001b[0;31m             \u001b[0;32mreturn\u001b[0m \u001b[0mx\u001b[0m\u001b[0;34m.\u001b[0m\u001b[0m_algebraic_\u001b[0m\u001b[0;34m(\u001b[0m\u001b[0mQQbar\u001b[0m\u001b[0;34m)\u001b[0m\u001b[0;34m\u001b[0m\u001b[0m\n\u001b[0m\u001b[1;32m   1165\u001b[0m         \u001b[0;32mreturn\u001b[0m \u001b[0mAlgebraicNumber\u001b[0m\u001b[0;34m(\u001b[0m\u001b[0mx\u001b[0m\u001b[0;34m)\u001b[0m\u001b[0;34m\u001b[0m\u001b[0m\n\u001b[1;32m   1166\u001b[0m \u001b[0;34m\u001b[0m\u001b[0m\n",
      "\u001b[0;32m/opt/sagemath-8.6/local/lib/python2.7/site-packages/sage/symbolic/expression.pyx\u001b[0m in \u001b[0;36msage.symbolic.expression.Expression._algebraic_ (build/cythonized/sage/symbolic/expression.cpp:11726)\u001b[0;34m()\u001b[0m\n\u001b[1;32m   1509\u001b[0m             \u001b[0;36m0\u001b[0m\u001b[0;34m\u001b[0m\u001b[0m\n\u001b[1;32m   1510\u001b[0m         \"\"\"\n\u001b[0;32m-> 1511\u001b[0;31m         \u001b[0;32mfrom\u001b[0m \u001b[0msage\u001b[0m\u001b[0;34m.\u001b[0m\u001b[0msymbolic\u001b[0m\u001b[0;34m.\u001b[0m\u001b[0mexpression_conversions\u001b[0m \u001b[0;32mimport\u001b[0m \u001b[0malgebraic\u001b[0m\u001b[0;34m\u001b[0m\u001b[0m\n\u001b[0m\u001b[1;32m   1512\u001b[0m         \u001b[0;32mreturn\u001b[0m \u001b[0malgebraic\u001b[0m\u001b[0;34m(\u001b[0m\u001b[0mself\u001b[0m\u001b[0;34m,\u001b[0m \u001b[0mfield\u001b[0m\u001b[0;34m)\u001b[0m\u001b[0;34m\u001b[0m\u001b[0m\n\u001b[1;32m   1513\u001b[0m \u001b[0;34m\u001b[0m\u001b[0m\n",
      "\u001b[0;31mImportError\u001b[0m: cannot import name algebraic"
     ]
    }
   ],
   "source": [
    "show(G(x, y, theta, v, w, a))"
   ]
  },
  {
   "cell_type": "code",
   "execution_count": 28,
   "metadata": {},
   "outputs": [
    {
     "data": {
      "text/html": [
       "<html><script type=\"math/tex; mode=display\">\\newcommand{\\Bold}[1]{\\mathbf{#1}}\\left(\\begin{array}{rrrrrr}\n",
       "\\left( x, y, \\theta, v, w, a \\right) \\ {\\mapsto} \\ 0 & \\left( x, y, \\theta, v, w, a \\right) \\ {\\mapsto} \\ 0 & \\left( x, y, \\theta, v, w, a \\right) \\ {\\mapsto} \\ 0 & \\left( x, y, \\theta, v, w, a \\right) \\ {\\mapsto} \\ 0 & \\left( x, y, \\theta, v, w, a \\right) \\ {\\mapsto} \\ 0 & \\left( x, y, \\theta, v, w, a \\right) \\ {\\mapsto} \\ 0 \\\\\n",
       "\\left( x, y, \\theta, v, w, a \\right) \\ {\\mapsto} \\ 0 & \\left( x, y, \\theta, v, w, a \\right) \\ {\\mapsto} \\ 0 & \\left( x, y, \\theta, v, w, a \\right) \\ {\\mapsto} \\ 0 & \\left( x, y, \\theta, v, w, a \\right) \\ {\\mapsto} \\ 0 & \\left( x, y, \\theta, v, w, a \\right) \\ {\\mapsto} \\ 0 & \\left( x, y, \\theta, v, w, a \\right) \\ {\\mapsto} \\ 0 \\\\\n",
       "\\left( x, y, \\theta, v, w, a \\right) \\ {\\mapsto} \\ 0 & \\left( x, y, \\theta, v, w, a \\right) \\ {\\mapsto} \\ 0 & \\left( x, y, \\theta, v, w, a \\right) \\ {\\mapsto} \\ -\\frac{1}{100} \\, {\\left(v \\cos\\left(w\\right) - 100 \\, \\sqrt{-\\frac{1}{10000} \\, v^{2} \\sin\\left(w\\right)^{2} + 16} + 400\\right)} \\sin\\left(\\theta\\right) & \\left( x, y, \\theta, v, w, a \\right) \\ {\\mapsto} \\ \\frac{1}{10000} \\, {\\left(\\frac{v \\sin\\left(w\\right)^{2}}{\\sqrt{-\\frac{1}{10000} \\, v^{2} \\sin\\left(w\\right)^{2} + 16}} + 100 \\, \\cos\\left(w\\right)\\right)} \\cos\\left(\\theta\\right) & \\left( x, y, \\theta, v, w, a \\right) \\ {\\mapsto} \\ \\frac{1}{10000} \\, {\\left(\\frac{v^{2} \\cos\\left(w\\right) \\sin\\left(w\\right)}{\\sqrt{-\\frac{1}{10000} \\, v^{2} \\sin\\left(w\\right)^{2} + 16}} - 100 \\, v \\sin\\left(w\\right)\\right)} \\cos\\left(\\theta\\right) & \\left( x, y, \\theta, v, w, a \\right) \\ {\\mapsto} \\ 0 \\\\\n",
       "\\left( x, y, \\theta, v, w, a \\right) \\ {\\mapsto} \\ 0 & \\left( x, y, \\theta, v, w, a \\right) \\ {\\mapsto} \\ 0 & \\left( x, y, \\theta, v, w, a \\right) \\ {\\mapsto} \\ \\frac{1}{10000} \\, {\\left(\\frac{v \\sin\\left(w\\right)^{2}}{\\sqrt{-\\frac{1}{10000} \\, v^{2} \\sin\\left(w\\right)^{2} + 16}} + 100 \\, \\cos\\left(w\\right)\\right)} \\cos\\left(\\theta\\right) & \\left( x, y, \\theta, v, w, a \\right) \\ {\\mapsto} \\ \\frac{1}{100000000} \\, {\\left(\\frac{v^{2} \\sin\\left(w\\right)^{4}}{{\\left(-\\frac{1}{10000} \\, v^{2} \\sin\\left(w\\right)^{2} + 16\\right)}^{\\frac{3}{2}}} + \\frac{10000 \\, \\sin\\left(w\\right)^{2}}{\\sqrt{-\\frac{1}{10000} \\, v^{2} \\sin\\left(w\\right)^{2} + 16}}\\right)} \\sin\\left(\\theta\\right) & \\left( x, y, \\theta, v, w, a \\right) \\ {\\mapsto} \\ \\frac{1}{100000000} \\, {\\left(\\frac{v^{3} \\cos\\left(w\\right) \\sin\\left(w\\right)^{3}}{{\\left(-\\frac{1}{10000} \\, v^{2} \\sin\\left(w\\right)^{2} + 16\\right)}^{\\frac{3}{2}}} + \\frac{20000 \\, v \\cos\\left(w\\right) \\sin\\left(w\\right)}{\\sqrt{-\\frac{1}{10000} \\, v^{2} \\sin\\left(w\\right)^{2} + 16}} - 1000000 \\, \\sin\\left(w\\right)\\right)} \\sin\\left(\\theta\\right) & \\left( x, y, \\theta, v, w, a \\right) \\ {\\mapsto} \\ 0 \\\\\n",
       "\\left( x, y, \\theta, v, w, a \\right) \\ {\\mapsto} \\ 0 & \\left( x, y, \\theta, v, w, a \\right) \\ {\\mapsto} \\ 0 & \\left( x, y, \\theta, v, w, a \\right) \\ {\\mapsto} \\ \\frac{1}{10000} \\, {\\left(\\frac{v^{2} \\cos\\left(w\\right) \\sin\\left(w\\right)}{\\sqrt{-\\frac{1}{10000} \\, v^{2} \\sin\\left(w\\right)^{2} + 16}} - 100 \\, v \\sin\\left(w\\right)\\right)} \\cos\\left(\\theta\\right) & \\left( x, y, \\theta, v, w, a \\right) \\ {\\mapsto} \\ \\frac{1}{100000000} \\, {\\left(\\frac{v^{3} \\cos\\left(w\\right) \\sin\\left(w\\right)^{3}}{{\\left(-\\frac{1}{10000} \\, v^{2} \\sin\\left(w\\right)^{2} + 16\\right)}^{\\frac{3}{2}}} + \\frac{20000 \\, v \\cos\\left(w\\right) \\sin\\left(w\\right)}{\\sqrt{-\\frac{1}{10000} \\, v^{2} \\sin\\left(w\\right)^{2} + 16}} - 1000000 \\, \\sin\\left(w\\right)\\right)} \\sin\\left(\\theta\\right) & \\left( x, y, \\theta, v, w, a \\right) \\ {\\mapsto} \\ \\frac{1}{100000000} \\, {\\left(\\frac{v^{4} \\cos\\left(w\\right)^{2} \\sin\\left(w\\right)^{2}}{{\\left(-\\frac{1}{10000} \\, v^{2} \\sin\\left(w\\right)^{2} + 16\\right)}^{\\frac{3}{2}}} + \\frac{10000 \\, v^{2} \\cos\\left(w\\right)^{2}}{\\sqrt{-\\frac{1}{10000} \\, v^{2} \\sin\\left(w\\right)^{2} + 16}} - \\frac{10000 \\, v^{2} \\sin\\left(w\\right)^{2}}{\\sqrt{-\\frac{1}{10000} \\, v^{2} \\sin\\left(w\\right)^{2} + 16}} - 1000000 \\, v \\cos\\left(w\\right)\\right)} \\sin\\left(\\theta\\right) & \\left( x, y, \\theta, v, w, a \\right) \\ {\\mapsto} \\ 0 \\\\\n",
       "\\left( x, y, \\theta, v, w, a \\right) \\ {\\mapsto} \\ 0 & \\left( x, y, \\theta, v, w, a \\right) \\ {\\mapsto} \\ 0 & \\left( x, y, \\theta, v, w, a \\right) \\ {\\mapsto} \\ 0 & \\left( x, y, \\theta, v, w, a \\right) \\ {\\mapsto} \\ 0 & \\left( x, y, \\theta, v, w, a \\right) \\ {\\mapsto} \\ 0 & \\left( x, y, \\theta, v, w, a \\right) \\ {\\mapsto} \\ 0\n",
       "\\end{array}\\right)</script></html>"
      ],
      "text/plain": [
       "[                                                                                                                                                                                                               (x, y, theta, v, w, a) |--> 0                                                                                                                                                                                                                (x, y, theta, v, w, a) |--> 0                                                                                                                                                                                                                (x, y, theta, v, w, a) |--> 0                                                                                                                                                                                                                (x, y, theta, v, w, a) |--> 0                                                                                                                                                                                                                (x, y, theta, v, w, a) |--> 0                                                                                                                                                                                                                (x, y, theta, v, w, a) |--> 0]\n",
       "[                                                                                                                                                                                                               (x, y, theta, v, w, a) |--> 0                                                                                                                                                                                                                (x, y, theta, v, w, a) |--> 0                                                                                                                                                                                                                (x, y, theta, v, w, a) |--> 0                                                                                                                                                                                                                (x, y, theta, v, w, a) |--> 0                                                                                                                                                                                                                (x, y, theta, v, w, a) |--> 0                                                                                                                                                                                                                (x, y, theta, v, w, a) |--> 0]\n",
       "[                                                                                                                                                                                                               (x, y, theta, v, w, a) |--> 0                                                                                                                                                                                                                (x, y, theta, v, w, a) |--> 0                                                                                                                                        (x, y, theta, v, w, a) |--> -1/100*(v*cos(w) - 100*sqrt(-1/10000*v^2*sin(w)^2 + 16) + 400)*sin(theta)                                                                                                                                    (x, y, theta, v, w, a) |--> 1/10000*(v*sin(w)^2/sqrt(-1/10000*v^2*sin(w)^2 + 16) + 100*cos(w))*cos(theta)                                                                                                                           (x, y, theta, v, w, a) |--> 1/10000*(v^2*cos(w)*sin(w)/sqrt(-1/10000*v^2*sin(w)^2 + 16) - 100*v*sin(w))*cos(theta)                                                                                                                                                                                                                (x, y, theta, v, w, a) |--> 0]\n",
       "[                                                                                                                                                                                                               (x, y, theta, v, w, a) |--> 0                                                                                                                                                                                                                (x, y, theta, v, w, a) |--> 0                                                                                                                                    (x, y, theta, v, w, a) |--> 1/10000*(v*sin(w)^2/sqrt(-1/10000*v^2*sin(w)^2 + 16) + 100*cos(w))*cos(theta)                                                                                       (x, y, theta, v, w, a) |--> 1/100000000*(v^2*sin(w)^4/(-1/10000*v^2*sin(w)^2 + 16)^(3/2) + 10000*sin(w)^2/sqrt(-1/10000*v^2*sin(w)^2 + 16))*sin(theta)                                                        (x, y, theta, v, w, a) |--> 1/100000000*(v^3*cos(w)*sin(w)^3/(-1/10000*v^2*sin(w)^2 + 16)^(3/2) + 20000*v*cos(w)*sin(w)/sqrt(-1/10000*v^2*sin(w)^2 + 16) - 1000000*sin(w))*sin(theta)                                                                                                                                                                                                                (x, y, theta, v, w, a) |--> 0]\n",
       "[                                                                                                                                                                                                               (x, y, theta, v, w, a) |--> 0                                                                                                                                                                                                                (x, y, theta, v, w, a) |--> 0                                                                                                                           (x, y, theta, v, w, a) |--> 1/10000*(v^2*cos(w)*sin(w)/sqrt(-1/10000*v^2*sin(w)^2 + 16) - 100*v*sin(w))*cos(theta)                                                        (x, y, theta, v, w, a) |--> 1/100000000*(v^3*cos(w)*sin(w)^3/(-1/10000*v^2*sin(w)^2 + 16)^(3/2) + 20000*v*cos(w)*sin(w)/sqrt(-1/10000*v^2*sin(w)^2 + 16) - 1000000*sin(w))*sin(theta) (x, y, theta, v, w, a) |--> 1/100000000*(v^4*cos(w)^2*sin(w)^2/(-1/10000*v^2*sin(w)^2 + 16)^(3/2) + 10000*v^2*cos(w)^2/sqrt(-1/10000*v^2*sin(w)^2 + 16) - 10000*v^2*sin(w)^2/sqrt(-1/10000*v^2*sin(w)^2 + 16) - 1000000*v*cos(w))*sin(theta)                                                                                                                                                                                                                (x, y, theta, v, w, a) |--> 0]\n",
       "[                                                                                                                                                                                                               (x, y, theta, v, w, a) |--> 0                                                                                                                                                                                                                (x, y, theta, v, w, a) |--> 0                                                                                                                                                                                                                (x, y, theta, v, w, a) |--> 0                                                                                                                                                                                                                (x, y, theta, v, w, a) |--> 0                                                                                                                                                                                                                (x, y, theta, v, w, a) |--> 0                                                                                                                                                                                                                (x, y, theta, v, w, a) |--> 0]"
      ]
     },
     "metadata": {},
     "output_type": "display_data"
    }
   ],
   "source": [
    "show(F[1].hessian())"
   ]
  },
  {
   "cell_type": "code",
   "execution_count": 23,
   "metadata": {
    "scrolled": true
   },
   "outputs": [
    {
     "ename": "AttributeError",
     "evalue": "'sage.matrix.matrix_generic_dense.Matrix_generic_dense' object has no attribute 'diff'",
     "output_type": "error",
     "traceback": [
      "\u001b[0;31m---------------------------------------------------------------------------\u001b[0m",
      "\u001b[0;31mAttributeError\u001b[0m                            Traceback (most recent call last)",
      "\u001b[0;32m<ipython-input-23-2d11a8e17545>\u001b[0m in \u001b[0;36m<module>\u001b[0;34m()\u001b[0m\n\u001b[0;32m----> 1\u001b[0;31m \u001b[0mshow\u001b[0m\u001b[0;34m(\u001b[0m\u001b[0mF\u001b[0m\u001b[0;34m.\u001b[0m\u001b[0mdiff\u001b[0m\u001b[0;34m(\u001b[0m\u001b[0;34m)\u001b[0m\u001b[0;34m.\u001b[0m\u001b[0mdiff\u001b[0m\u001b[0;34m(\u001b[0m\u001b[0;34m)\u001b[0m\u001b[0;34m)\u001b[0m\u001b[0;34m\u001b[0m\u001b[0m\n\u001b[0m",
      "\u001b[0;32m/opt/sagemath-8.6/local/lib/python2.7/site-packages/sage/structure/element.pyx\u001b[0m in \u001b[0;36msage.structure.element.Element.__getattr__ (build/cythonized/sage/structure/element.c:4648)\u001b[0;34m()\u001b[0m\n\u001b[1;32m    487\u001b[0m             \u001b[0mAttributeError\u001b[0m\u001b[0;34m:\u001b[0m \u001b[0;34m'LeftZeroSemigroup_with_category.element_class'\u001b[0m \u001b[0mobject\u001b[0m \u001b[0mhas\u001b[0m \u001b[0mno\u001b[0m \u001b[0mattribute\u001b[0m \u001b[0;34m'blah_blah'\u001b[0m\u001b[0;34m\u001b[0m\u001b[0m\n\u001b[1;32m    488\u001b[0m         \"\"\"\n\u001b[0;32m--> 489\u001b[0;31m         \u001b[0;32mreturn\u001b[0m \u001b[0mself\u001b[0m\u001b[0;34m.\u001b[0m\u001b[0mgetattr_from_category\u001b[0m\u001b[0;34m(\u001b[0m\u001b[0mname\u001b[0m\u001b[0;34m)\u001b[0m\u001b[0;34m\u001b[0m\u001b[0m\n\u001b[0m\u001b[1;32m    490\u001b[0m \u001b[0;34m\u001b[0m\u001b[0m\n\u001b[1;32m    491\u001b[0m     \u001b[0mcdef\u001b[0m \u001b[0mgetattr_from_category\u001b[0m\u001b[0;34m(\u001b[0m\u001b[0mself\u001b[0m\u001b[0;34m,\u001b[0m \u001b[0mname\u001b[0m\u001b[0;34m)\u001b[0m\u001b[0;34m:\u001b[0m\u001b[0;34m\u001b[0m\u001b[0m\n",
      "\u001b[0;32m/opt/sagemath-8.6/local/lib/python2.7/site-packages/sage/structure/element.pyx\u001b[0m in \u001b[0;36msage.structure.element.Element.getattr_from_category (build/cythonized/sage/structure/element.c:4757)\u001b[0;34m()\u001b[0m\n\u001b[1;32m    500\u001b[0m         \u001b[0;32melse\u001b[0m\u001b[0;34m:\u001b[0m\u001b[0;34m\u001b[0m\u001b[0m\n\u001b[1;32m    501\u001b[0m             \u001b[0mcls\u001b[0m \u001b[0;34m=\u001b[0m \u001b[0mP\u001b[0m\u001b[0;34m.\u001b[0m\u001b[0m_abstract_element_class\u001b[0m\u001b[0;34m\u001b[0m\u001b[0m\n\u001b[0;32m--> 502\u001b[0;31m         \u001b[0;32mreturn\u001b[0m \u001b[0mgetattr_from_other_class\u001b[0m\u001b[0;34m(\u001b[0m\u001b[0mself\u001b[0m\u001b[0;34m,\u001b[0m \u001b[0mcls\u001b[0m\u001b[0;34m,\u001b[0m \u001b[0mname\u001b[0m\u001b[0;34m)\u001b[0m\u001b[0;34m\u001b[0m\u001b[0m\n\u001b[0m\u001b[1;32m    503\u001b[0m \u001b[0;34m\u001b[0m\u001b[0m\n\u001b[1;32m    504\u001b[0m     \u001b[0;32mdef\u001b[0m \u001b[0m__dir__\u001b[0m\u001b[0;34m(\u001b[0m\u001b[0mself\u001b[0m\u001b[0;34m)\u001b[0m\u001b[0;34m:\u001b[0m\u001b[0;34m\u001b[0m\u001b[0m\n",
      "\u001b[0;32m/opt/sagemath-8.6/local/lib/python2.7/site-packages/sage/cpython/getattr.pyx\u001b[0m in \u001b[0;36msage.cpython.getattr.getattr_from_other_class (build/cythonized/sage/cpython/getattr.c:2601)\u001b[0;34m()\u001b[0m\n\u001b[1;32m    392\u001b[0m         \u001b[0mdummy_error_message\u001b[0m\u001b[0;34m.\u001b[0m\u001b[0mcls\u001b[0m \u001b[0;34m=\u001b[0m \u001b[0mtype\u001b[0m\u001b[0;34m(\u001b[0m\u001b[0mself\u001b[0m\u001b[0;34m)\u001b[0m\u001b[0;34m\u001b[0m\u001b[0m\n\u001b[1;32m    393\u001b[0m         \u001b[0mdummy_error_message\u001b[0m\u001b[0;34m.\u001b[0m\u001b[0mname\u001b[0m \u001b[0;34m=\u001b[0m \u001b[0mname\u001b[0m\u001b[0;34m\u001b[0m\u001b[0m\n\u001b[0;32m--> 394\u001b[0;31m         \u001b[0;32mraise\u001b[0m \u001b[0mAttributeError\u001b[0m\u001b[0;34m(\u001b[0m\u001b[0mdummy_error_message\u001b[0m\u001b[0;34m)\u001b[0m\u001b[0;34m\u001b[0m\u001b[0m\n\u001b[0m\u001b[1;32m    395\u001b[0m     \u001b[0mattribute\u001b[0m \u001b[0;34m=\u001b[0m \u001b[0;34m<\u001b[0m\u001b[0mobject\u001b[0m\u001b[0;34m>\u001b[0m\u001b[0mattr\u001b[0m\u001b[0;34m\u001b[0m\u001b[0m\n\u001b[1;32m    396\u001b[0m     \u001b[0;31m# Check for a descriptor (__get__ in Python)\u001b[0m\u001b[0;34m\u001b[0m\u001b[0;34m\u001b[0m\u001b[0m\n",
      "\u001b[0;31mAttributeError\u001b[0m: 'sage.matrix.matrix_generic_dense.Matrix_generic_dense' object has no attribute 'diff'"
     ]
    }
   ],
   "source": [
    "show(F.diff().diff())"
   ]
  },
  {
   "cell_type": "code",
   "execution_count": 79,
   "metadata": {},
   "outputs": [],
   "source": [
    "z(x, p) = sqrt(x**2 + p**2) -p"
   ]
  },
  {
   "cell_type": "code",
   "execution_count": 80,
   "metadata": {},
   "outputs": [],
   "source": [
    "L(x, y, theta, v, w, a) = 0.01*(z(x, p_x) + z(y, p_y)) + c_w * w**2 + c_a * a**2"
   ]
  },
  {
   "cell_type": "code",
   "execution_count": 84,
   "metadata": {},
   "outputs": [],
   "source": [
    "Lf(x, y, theta, v) = 100000* (z(x, p_x) + z(y, p_y) + z(theta, p_theta) + z(v, p_v))"
   ]
  },
  {
   "cell_type": "code",
   "execution_count": null,
   "metadata": {},
   "outputs": [],
   "source": [
    "J"
   ]
  },
  {
   "cell_type": "code",
   "execution_count": 105,
   "metadata": {},
   "outputs": [],
   "source": [
    "x0 = 0\n",
    "y0 = 0\n",
    "theta0 = 0\n",
    "v0 = 0\n",
    "w0 = 0\n",
    "a0 = 0"
   ]
  },
  {
   "cell_type": "code",
   "execution_count": 101,
   "metadata": {},
   "outputs": [],
   "source": [
    "x0 = vector([1,0,0,0])"
   ]
  },
  {
   "cell_type": "code",
   "execution_count": 106,
   "metadata": {},
   "outputs": [],
   "source": [
    "X(U) = (x0, y0, theta0, v0, w0, a0)"
   ]
  },
  {
   "cell_type": "code",
   "execution_count": 109,
   "metadata": {},
   "outputs": [
    {
     "ename": "TypeError",
     "evalue": "'sage.symbolic.expression.Expression' object does not support indexing",
     "output_type": "error",
     "traceback": [
      "\u001b[0;31m---------------------------------------------------------------------------\u001b[0m",
      "\u001b[0;31mTypeError\u001b[0m                                 Traceback (most recent call last)",
      "\u001b[0;32m<ipython-input-109-1927f53cc8d7>\u001b[0m in \u001b[0;36m<module>\u001b[0;34m()\u001b[0m\n\u001b[0;32m----> 1\u001b[0;31m \u001b[0m__tmp__\u001b[0m\u001b[0;34m=\u001b[0m\u001b[0mvar\u001b[0m\u001b[0;34m(\u001b[0m\u001b[0;34m\"U\"\u001b[0m\u001b[0;34m)\u001b[0m\u001b[0;34m;\u001b[0m \u001b[0mf\u001b[0m \u001b[0;34m=\u001b[0m \u001b[0msymbolic_expression\u001b[0m\u001b[0;34m(\u001b[0m\u001b[0mU\u001b[0m\u001b[0;34m[\u001b[0m\u001b[0mInteger\u001b[0m\u001b[0;34m(\u001b[0m\u001b[0;36m0\u001b[0m\u001b[0;34m)\u001b[0m\u001b[0;34m]\u001b[0m \u001b[0;34m+\u001b[0m \u001b[0mU\u001b[0m\u001b[0;34m[\u001b[0m\u001b[0mInteger\u001b[0m\u001b[0;34m(\u001b[0m\u001b[0;36m1\u001b[0m\u001b[0;34m)\u001b[0m\u001b[0;34m]\u001b[0m\u001b[0;34m)\u001b[0m\u001b[0;34m.\u001b[0m\u001b[0mfunction\u001b[0m\u001b[0;34m(\u001b[0m\u001b[0mU\u001b[0m\u001b[0;34m)\u001b[0m\u001b[0;34m\u001b[0m\u001b[0m\n\u001b[0m",
      "\u001b[0;31mTypeError\u001b[0m: 'sage.symbolic.expression.Expression' object does not support indexing"
     ]
    }
   ],
   "source": [
    "f(U) = U[0] + U[1]"
   ]
  },
  {
   "cell_type": "code",
   "execution_count": 107,
   "metadata": {},
   "outputs": [
    {
     "data": {
      "text/plain": [
       "U |--> (0, 0, 0, 0, 0, 0)"
      ]
     },
     "execution_count": 107,
     "metadata": {},
     "output_type": "execute_result"
    }
   ],
   "source": [
    "X"
   ]
  },
  {
   "cell_type": "code",
   "execution_count": 104,
   "metadata": {},
   "outputs": [
    {
     "ename": "TypeError",
     "evalue": "FreeModule_ambient_field_with_category.element_class object argument after * must be an iterable, not sage.symbolic.expression.Expression",
     "output_type": "error",
     "traceback": [
      "\u001b[0;31m---------------------------------------------------------------------------\u001b[0m",
      "\u001b[0;31mTypeError\u001b[0m                                 Traceback (most recent call last)",
      "\u001b[0;32m<ipython-input-104-e5c40434c75e>\u001b[0m in \u001b[0;36m<module>\u001b[0;34m()\u001b[0m\n\u001b[0;32m----> 1\u001b[0;31m \u001b[0m__tmp__\u001b[0m\u001b[0;34m=\u001b[0m\u001b[0mvar\u001b[0m\u001b[0;34m(\u001b[0m\u001b[0;34m\"x0,U\"\u001b[0m\u001b[0;34m)\u001b[0m\u001b[0;34m;\u001b[0m \u001b[0mX\u001b[0m \u001b[0;34m=\u001b[0m \u001b[0msymbolic_expression\u001b[0m\u001b[0;34m(\u001b[0m\u001b[0mF\u001b[0m\u001b[0;34m(\u001b[0m\u001b[0;34m*\u001b[0m\u001b[0mX\u001b[0m\u001b[0;34m(\u001b[0m\u001b[0mx0\u001b[0m\u001b[0;34m,\u001b[0m \u001b[0mU\u001b[0m\u001b[0;34m)\u001b[0m\u001b[0;34m)\u001b[0m\u001b[0;34m)\u001b[0m\u001b[0;34m.\u001b[0m\u001b[0mfunction\u001b[0m\u001b[0;34m(\u001b[0m\u001b[0mx0\u001b[0m\u001b[0;34m,\u001b[0m\u001b[0mU\u001b[0m\u001b[0;34m)\u001b[0m\u001b[0;34m\u001b[0m\u001b[0m\n\u001b[0m",
      "\u001b[0;31mTypeError\u001b[0m: FreeModule_ambient_field_with_category.element_class object argument after * must be an iterable, not sage.symbolic.expression.Expression"
     ]
    }
   ],
   "source": [
    "X(x0, U) = F(*X(x0, U))"
   ]
  },
  {
   "cell_type": "code",
   "execution_count": 102,
   "metadata": {},
   "outputs": [
    {
     "data": {
      "text/plain": [
       "<type 'sage.modules.vector_integer_dense.Vector_integer_dense'>"
      ]
     },
     "execution_count": 102,
     "metadata": {},
     "output_type": "execute_result"
    }
   ],
   "source": [
    "type(x0)"
   ]
  },
  {
   "cell_type": "code",
   "execution_count": 91,
   "metadata": {},
   "outputs": [],
   "source": [
    "f(x, y) = x"
   ]
  },
  {
   "cell_type": "code",
   "execution_count": 89,
   "metadata": {},
   "outputs": [],
   "source": [
    "for i in range(5):\n",
    "    f(x, y) = f(x,y) + f(x,y)"
   ]
  },
  {
   "cell_type": "code",
   "execution_count": 90,
   "metadata": {},
   "outputs": [
    {
     "data": {
      "text/plain": [
       "(x, y) |--> 32*x"
      ]
     },
     "execution_count": 90,
     "metadata": {},
     "output_type": "execute_result"
    }
   ],
   "source": [
    "f"
   ]
  },
  {
   "cell_type": "code",
   "execution_count": 86,
   "metadata": {},
   "outputs": [
    {
     "data": {
      "text/plain": [
       "(x, y, theta, v, w, a) |--> (0.0100000000000000*x/sqrt(x^2 + 0.0100000000000000), 0.0100000000000000*y/sqrt(y^2 + 0.0100000000000000), 0, 0, 0.0200000000000000*w, 0.000200000000000000*a)"
      ]
     },
     "execution_count": 86,
     "metadata": {},
     "output_type": "execute_result"
    }
   ],
   "source": [
    "diff(L)"
   ]
  },
  {
   "cell_type": "code",
   "execution_count": 81,
   "metadata": {},
   "outputs": [
    {
     "data": {
      "text/plain": [
       "(x, p) |--> -p + sqrt(p^2 + x^2)"
      ]
     },
     "execution_count": 81,
     "metadata": {},
     "output_type": "execute_result"
    }
   ],
   "source": [
    "z"
   ]
  },
  {
   "cell_type": "code",
   "execution_count": 83,
   "metadata": {},
   "outputs": [
    {
     "data": {
      "text/html": [
       "<html><script type=\"math/tex; mode=display\">\\newcommand{\\Bold}[1]{\\mathbf{#1}}\\left( x, y, \\theta, v, w, a \\right) \\ {\\mapsto} \\ 0.000100000000000000 \\, a^{2} + 0.0100000000000000 \\, w^{2} + 0.0100000000000000 \\, \\sqrt{x^{2} + 0.0100000000000000} + 0.0100000000000000 \\, \\sqrt{y^{2} + 0.0100000000000000} - 0.00200000000000000</script></html>"
      ],
      "text/plain": [
       "(x, y, theta, v, w, a) |--> 0.000100000000000000*a^2 + 0.0100000000000000*w^2 + 0.0100000000000000*sqrt(x^2 + 0.0100000000000000) + 0.0100000000000000*sqrt(y^2 + 0.0100000000000000) - 0.00200000000000000"
      ]
     },
     "metadata": {},
     "output_type": "display_data"
    }
   ],
   "source": [
    "show(L)"
   ]
  },
  {
   "cell_type": "code",
   "execution_count": 74,
   "metadata": {},
   "outputs": [
    {
     "data": {
      "text/plain": [
       "10404/25*sqrt(5)"
      ]
     },
     "execution_count": 74,
     "metadata": {},
     "output_type": "execute_result"
    }
   ],
   "source": [
    "vector((-1,100))*z.diff().diff()(1,2) *vector((-1,100))"
   ]
  },
  {
   "cell_type": "code",
   "execution_count": 40,
   "metadata": {},
   "outputs": [],
   "source": [
    "jacobian?"
   ]
  },
  {
   "cell_type": "code",
   "execution_count": 39,
   "metadata": {},
   "outputs": [
    {
     "data": {
      "text/html": [
       "<html><script type=\"math/tex; mode=display\">\\newcommand{\\Bold}[1]{\\mathbf{#1}}\\left(\\begin{array}{rrrrrr}\n",
       "\\left( x, y, \\theta, v, w, a \\right) \\ {\\mapsto} \\ 1 & \\left( x, y, \\theta, v, w, a \\right) \\ {\\mapsto} \\ 0 & \\left( x, y, \\theta, v, w, a \\right) \\ {\\mapsto} \\ -\\frac{1}{100} \\, {\\left(v \\cos\\left(w\\right) - 100 \\, \\sqrt{-\\frac{1}{10000} \\, v^{2} \\sin\\left(w\\right)^{2} + 16} + 400\\right)} \\sin\\left(\\theta\\right) & \\left( x, y, \\theta, v, w, a \\right) \\ {\\mapsto} \\ \\frac{1}{10000} \\, {\\left(\\frac{v \\sin\\left(w\\right)^{2}}{\\sqrt{-\\frac{1}{10000} \\, v^{2} \\sin\\left(w\\right)^{2} + 16}} + 100 \\, \\cos\\left(w\\right)\\right)} \\cos\\left(\\theta\\right) & \\left( x, y, \\theta, v, w, a \\right) \\ {\\mapsto} \\ \\frac{1}{10000} \\, {\\left(\\frac{v^{2} \\cos\\left(w\\right) \\sin\\left(w\\right)}{\\sqrt{-\\frac{1}{10000} \\, v^{2} \\sin\\left(w\\right)^{2} + 16}} - 100 \\, v \\sin\\left(w\\right)\\right)} \\cos\\left(\\theta\\right) & \\left( x, y, \\theta, v, w, a \\right) \\ {\\mapsto} \\ 0 \\\\\n",
       "\\left( x, y, \\theta, v, w, a \\right) \\ {\\mapsto} \\ 0 & \\left( x, y, \\theta, v, w, a \\right) \\ {\\mapsto} \\ 1 & \\left( x, y, \\theta, v, w, a \\right) \\ {\\mapsto} \\ \\frac{1}{100} \\, {\\left(v \\cos\\left(w\\right) - 100 \\, \\sqrt{-\\frac{1}{10000} \\, v^{2} \\sin\\left(w\\right)^{2} + 16} + 400\\right)} \\cos\\left(\\theta\\right) & \\left( x, y, \\theta, v, w, a \\right) \\ {\\mapsto} \\ \\frac{1}{10000} \\, {\\left(\\frac{v \\sin\\left(w\\right)^{2}}{\\sqrt{-\\frac{1}{10000} \\, v^{2} \\sin\\left(w\\right)^{2} + 16}} + 100 \\, \\cos\\left(w\\right)\\right)} \\sin\\left(\\theta\\right) & \\left( x, y, \\theta, v, w, a \\right) \\ {\\mapsto} \\ \\frac{1}{10000} \\, {\\left(\\frac{v^{2} \\cos\\left(w\\right) \\sin\\left(w\\right)}{\\sqrt{-\\frac{1}{10000} \\, v^{2} \\sin\\left(w\\right)^{2} + 16}} - 100 \\, v \\sin\\left(w\\right)\\right)} \\sin\\left(\\theta\\right) & \\left( x, y, \\theta, v, w, a \\right) \\ {\\mapsto} \\ 0 \\\\\n",
       "\\left( x, y, \\theta, v, w, a \\right) \\ {\\mapsto} \\ 0 & \\left( x, y, \\theta, v, w, a \\right) \\ {\\mapsto} \\ 0 & \\left( x, y, \\theta, v, w, a \\right) \\ {\\mapsto} \\ 1 & \\left( x, y, \\theta, v, w, a \\right) \\ {\\mapsto} \\ \\frac{\\sin\\left(w\\right)}{400 \\, \\sqrt{-\\frac{1}{160000} \\, v^{2} \\sin\\left(w\\right)^{2} + 1}} & \\left( x, y, \\theta, v, w, a \\right) \\ {\\mapsto} \\ \\frac{v \\cos\\left(w\\right)}{400 \\, \\sqrt{-\\frac{1}{160000} \\, v^{2} \\sin\\left(w\\right)^{2} + 1}} & \\left( x, y, \\theta, v, w, a \\right) \\ {\\mapsto} \\ 0 \\\\\n",
       "\\left( x, y, \\theta, v, w, a \\right) \\ {\\mapsto} \\ 0 & \\left( x, y, \\theta, v, w, a \\right) \\ {\\mapsto} \\ 0 & \\left( x, y, \\theta, v, w, a \\right) \\ {\\mapsto} \\ 0 & \\left( x, y, \\theta, v, w, a \\right) \\ {\\mapsto} \\ 1 & \\left( x, y, \\theta, v, w, a \\right) \\ {\\mapsto} \\ 0 & \\left( x, y, \\theta, v, w, a \\right) \\ {\\mapsto} \\ \\frac{1}{100}\n",
       "\\end{array}\\right)</script></html>"
      ],
      "text/plain": [
       "[                                                                                     (x, y, theta, v, w, a) |--> 1                                                                                      (x, y, theta, v, w, a) |--> 0              (x, y, theta, v, w, a) |--> -1/100*(v*cos(w) - 100*sqrt(-1/10000*v^2*sin(w)^2 + 16) + 400)*sin(theta)          (x, y, theta, v, w, a) |--> 1/10000*(v*sin(w)^2/sqrt(-1/10000*v^2*sin(w)^2 + 16) + 100*cos(w))*cos(theta) (x, y, theta, v, w, a) |--> 1/10000*(v^2*cos(w)*sin(w)/sqrt(-1/10000*v^2*sin(w)^2 + 16) - 100*v*sin(w))*cos(theta)                                                                                      (x, y, theta, v, w, a) |--> 0]\n",
       "[                                                                                     (x, y, theta, v, w, a) |--> 0                                                                                      (x, y, theta, v, w, a) |--> 1               (x, y, theta, v, w, a) |--> 1/100*(v*cos(w) - 100*sqrt(-1/10000*v^2*sin(w)^2 + 16) + 400)*cos(theta)          (x, y, theta, v, w, a) |--> 1/10000*(v*sin(w)^2/sqrt(-1/10000*v^2*sin(w)^2 + 16) + 100*cos(w))*sin(theta) (x, y, theta, v, w, a) |--> 1/10000*(v^2*cos(w)*sin(w)/sqrt(-1/10000*v^2*sin(w)^2 + 16) - 100*v*sin(w))*sin(theta)                                                                                      (x, y, theta, v, w, a) |--> 0]\n",
       "[                                                                                     (x, y, theta, v, w, a) |--> 0                                                                                      (x, y, theta, v, w, a) |--> 0                                                                                      (x, y, theta, v, w, a) |--> 1                                          (x, y, theta, v, w, a) |--> 1/400*sin(w)/sqrt(-1/160000*v^2*sin(w)^2 + 1)                                        (x, y, theta, v, w, a) |--> 1/400*v*cos(w)/sqrt(-1/160000*v^2*sin(w)^2 + 1)                                                                                      (x, y, theta, v, w, a) |--> 0]\n",
       "[                                                                                     (x, y, theta, v, w, a) |--> 0                                                                                      (x, y, theta, v, w, a) |--> 0                                                                                      (x, y, theta, v, w, a) |--> 0                                                                                      (x, y, theta, v, w, a) |--> 1                                                                                      (x, y, theta, v, w, a) |--> 0                                                                                  (x, y, theta, v, w, a) |--> 1/100]"
      ]
     },
     "metadata": {},
     "output_type": "display_data"
    }
   ],
   "source": [
    "show(jacobian(F, (x,y,theta,v,w,a)))"
   ]
  },
  {
   "cell_type": "code",
   "execution_count": 75,
   "metadata": {},
   "outputs": [
    {
     "data": {
      "text/plain": [
       "<class 'sage.modules.free_module.FreeModule_ambient_field_with_category.element_class'>"
      ]
     },
     "execution_count": 75,
     "metadata": {},
     "output_type": "execute_result"
    }
   ],
   "source": [
    "type(F(1,2,3,4,5))"
   ]
  },
  {
   "cell_type": "code",
   "execution_count": 80,
   "metadata": {},
   "outputs": [
    {
     "data": {
      "text/plain": [
       "<class 'sage.modules.free_module.FreeModule_ambient_field_with_category.element_class'>"
      ]
     },
     "execution_count": 80,
     "metadata": {},
     "output_type": "execute_result"
    }
   ],
   "source": [
    "type(vector(F(1,2,3,4,5)))"
   ]
  },
  {
   "cell_type": "code",
   "execution_count": 77,
   "metadata": {},
   "outputs": [
    {
     "data": {
      "text/plain": [
       "<type 'sage.modules.vector_integer_dense.Vector_integer_dense'>"
      ]
     },
     "execution_count": 77,
     "metadata": {},
     "output_type": "execute_result"
    }
   ],
   "source": [
    "type(vector((1,2)))"
   ]
  },
  {
   "cell_type": "code",
   "execution_count": 9,
   "metadata": {},
   "outputs": [],
   "source": [
    "load(\"car.sage\")"
   ]
  },
  {
   "cell_type": "code",
   "execution_count": 11,
   "metadata": {},
   "outputs": [
    {
     "data": {
      "text/plain": [
       "(x, y, theta, v, w, a) |--> (1/100*(v*cos(w) - 100*sqrt(-1/10000*v^2*sin(w)^2 + 16) + 400)*cos(theta) + x, 1/100*(v*cos(w) - 100*sqrt(-1/10000*v^2*sin(w)^2 + 16) + 400)*sin(theta) + y, theta + arcsin(1/400*v*sin(w)), 1/100*a + v)"
      ]
     },
     "execution_count": 11,
     "metadata": {},
     "output_type": "execute_result"
    }
   ],
   "source": [
    "F"
   ]
  },
  {
   "cell_type": "code",
   "execution_count": null,
   "metadata": {},
   "outputs": [],
   "source": []
  }
 ],
 "metadata": {
  "kernelspec": {
   "display_name": "SageMath 8.6",
   "language": "",
   "name": "sagemath"
  },
  "language_info": {
   "codemirror_mode": {
    "name": "ipython",
    "version": 2
   },
   "file_extension": ".py",
   "mimetype": "text/x-python",
   "name": "python",
   "nbconvert_exporter": "python",
   "pygments_lexer": "ipython2",
   "version": "2.7.15"
  }
 },
 "nbformat": 4,
 "nbformat_minor": 2
}
