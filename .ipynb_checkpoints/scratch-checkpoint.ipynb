{
 "cells": [
  {
   "cell_type": "code",
   "execution_count": 1,
   "metadata": {},
   "outputs": [],
   "source": [
    "p_x = 0.1\n",
    "p_y = 0.1\n",
    "p_theta = 0.01\n",
    "p_v = 1"
   ]
  },
  {
   "cell_type": "code",
   "execution_count": 2,
   "metadata": {},
   "outputs": [],
   "source": [
    "c_w = 0.01\n",
    "c_a = 0.0001"
   ]
  },
  {
   "cell_type": "code",
   "execution_count": 9,
   "metadata": {},
   "outputs": [],
   "source": [
    "T = 10; N = 1000; h = T/N; \n",
    "d = 4"
   ]
  },
  {
   "cell_type": "code",
   "execution_count": 6,
   "metadata": {},
   "outputs": [],
   "source": [
    "f(v) = h*v"
   ]
  },
  {
   "cell_type": "code",
   "execution_count": 13,
   "metadata": {},
   "outputs": [],
   "source": [
    "b(v, w) = f(v) * cos(w) + d - sqrt(d**2 - f(v)**2 * sin(w)**2)"
   ]
  },
  {
   "cell_type": "code",
   "execution_count": 14,
   "metadata": {},
   "outputs": [
    {
     "data": {
      "text/plain": [
       "(v, w) |--> 1/100*v*cos(w) - sqrt(-1/10000*v^2*sin(w)^2 + 16) + 4"
      ]
     },
     "execution_count": 14,
     "metadata": {},
     "output_type": "execute_result"
    }
   ],
   "source": [
    "b"
   ]
  },
  {
   "cell_type": "code",
   "execution_count": 52,
   "metadata": {},
   "outputs": [],
   "source": [
    "F(x, y, theta, v, w, a) = ( \\\n",
    "x + b(v,w) * cos(theta), \\\n",
    "y + b(v,w) * sin(theta), \\\n",
    "theta + arcsin(sin(w) * f(v)/d), \\\n",
    "v + h*a)"
   ]
  },
  {
   "cell_type": "code",
   "execution_count": 59,
   "metadata": {},
   "outputs": [],
   "source": [
    "z(x, p) = sqrt(x**2 + p**2) -p"
   ]
  },
  {
   "cell_type": "code",
   "execution_count": 74,
   "metadata": {},
   "outputs": [
    {
     "data": {
      "text/plain": [
       "10404/25*sqrt(5)"
      ]
     },
     "execution_count": 74,
     "metadata": {},
     "output_type": "execute_result"
    }
   ],
   "source": [
    "vector((-1,100))*z.diff().diff()(1,2) *vector((-1,100))"
   ]
  },
  {
   "cell_type": "code",
   "execution_count": 58,
   "metadata": {},
   "outputs": [
    {
     "data": {
      "text/html": [
       "<html><script type=\"math/tex; mode=display\">\\newcommand{\\Bold}[1]{\\mathbf{#1}}\\left(\\begin{array}{rrr}\n",
       "\\left( x, y, \\theta, v, w, a \\right) \\ {\\mapsto} \\ 1 & \\left( x, y, \\theta, v, w, a \\right) \\ {\\mapsto} \\ 0 & \\left( x, y, \\theta, v, w, a \\right) \\ {\\mapsto} \\ -\\frac{1}{100} \\, {\\left(v \\cos\\left(w\\right) - 100 \\, \\sqrt{-\\frac{1}{10000} \\, v^{2} \\sin\\left(w\\right)^{2} + 16} + 400\\right)} \\sin\\left(\\theta\\right) \\\\\n",
       "\\left( x, y, \\theta, v, w, a \\right) \\ {\\mapsto} \\ 0 & \\left( x, y, \\theta, v, w, a \\right) \\ {\\mapsto} \\ 1 & \\left( x, y, \\theta, v, w, a \\right) \\ {\\mapsto} \\ \\frac{1}{100} \\, {\\left(v \\cos\\left(w\\right) - 100 \\, \\sqrt{-\\frac{1}{10000} \\, v^{2} \\sin\\left(w\\right)^{2} + 16} + 400\\right)} \\cos\\left(\\theta\\right) \\\\\n",
       "\\left( x, y, \\theta, v, w, a \\right) \\ {\\mapsto} \\ 0 & \\left( x, y, \\theta, v, w, a \\right) \\ {\\mapsto} \\ 0 & \\left( x, y, \\theta, v, w, a \\right) \\ {\\mapsto} \\ 1 \\\\\n",
       "\\left( x, y, \\theta, v, w, a \\right) \\ {\\mapsto} \\ 0 & \\left( x, y, \\theta, v, w, a \\right) \\ {\\mapsto} \\ 0 & \\left( x, y, \\theta, v, w, a \\right) \\ {\\mapsto} \\ 0\n",
       "\\end{array}\\right)</script></html>"
      ],
      "text/plain": [
       "[                                                                        (x, y, theta, v, w, a) |--> 1                                                                         (x, y, theta, v, w, a) |--> 0 (x, y, theta, v, w, a) |--> -1/100*(v*cos(w) - 100*sqrt(-1/10000*v^2*sin(w)^2 + 16) + 400)*sin(theta)]\n",
       "[                                                                        (x, y, theta, v, w, a) |--> 0                                                                         (x, y, theta, v, w, a) |--> 1  (x, y, theta, v, w, a) |--> 1/100*(v*cos(w) - 100*sqrt(-1/10000*v^2*sin(w)^2 + 16) + 400)*cos(theta)]\n",
       "[                                                                        (x, y, theta, v, w, a) |--> 0                                                                         (x, y, theta, v, w, a) |--> 0                                                                         (x, y, theta, v, w, a) |--> 1]\n",
       "[                                                                        (x, y, theta, v, w, a) |--> 0                                                                         (x, y, theta, v, w, a) |--> 0                                                                         (x, y, theta, v, w, a) |--> 0]"
      ]
     },
     "metadata": {},
     "output_type": "display_data"
    }
   ],
   "source": [
    "show(jacobian(F, (x,y,theta)))"
   ]
  },
  {
   "cell_type": "code",
   "execution_count": 75,
   "metadata": {},
   "outputs": [
    {
     "data": {
      "text/plain": [
       "<class 'sage.modules.free_module.FreeModule_ambient_field_with_category.element_class'>"
      ]
     },
     "execution_count": 75,
     "metadata": {},
     "output_type": "execute_result"
    }
   ],
   "source": [
    "type(F(1,2,3,4,5))"
   ]
  },
  {
   "cell_type": "code",
   "execution_count": 80,
   "metadata": {},
   "outputs": [
    {
     "data": {
      "text/plain": [
       "<class 'sage.modules.free_module.FreeModule_ambient_field_with_category.element_class'>"
      ]
     },
     "execution_count": 80,
     "metadata": {},
     "output_type": "execute_result"
    }
   ],
   "source": [
    "type(vector(F(1,2,3,4,5)))"
   ]
  },
  {
   "cell_type": "code",
   "execution_count": 77,
   "metadata": {},
   "outputs": [
    {
     "data": {
      "text/plain": [
       "<type 'sage.modules.vector_integer_dense.Vector_integer_dense'>"
      ]
     },
     "execution_count": 77,
     "metadata": {},
     "output_type": "execute_result"
    }
   ],
   "source": [
    "type(vector((1,2)))"
   ]
  },
  {
   "cell_type": "code",
   "execution_count": null,
   "metadata": {},
   "outputs": [],
   "source": []
  }
 ],
 "metadata": {
  "kernelspec": {
   "display_name": "SageMath 8.6",
   "language": "",
   "name": "sagemath"
  },
  "language_info": {
   "codemirror_mode": {
    "name": "ipython",
    "version": 2
   },
   "file_extension": ".py",
   "mimetype": "text/x-python",
   "name": "python",
   "nbconvert_exporter": "python",
   "pygments_lexer": "ipython2",
   "version": "2.7.15"
  }
 },
 "nbformat": 4,
 "nbformat_minor": 2
}
